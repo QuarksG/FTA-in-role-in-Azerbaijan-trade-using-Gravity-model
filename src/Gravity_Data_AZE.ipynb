{
 "cells": [
  {
   "cell_type": "code",
   "execution_count": 57,
   "metadata": {},
   "outputs": [],
   "source": [
    "import pandas as pd\n",
    "import gme as gme\n",
    "import numpy as np\n",
    "import inspect\n",
    "import matplotlib.pyplot as plt\n",
    "import gegravity as ge\n",
    "import plotly.express as px\n",
    "import statsmodels.api as sm\n",
    "import statsmodels.formula.api as smf"
   ]
  },
  {
   "cell_type": "code",
   "execution_count": 2,
   "metadata": {},
   "outputs": [
    {
     "name": "stderr",
     "output_type": "stream",
     "text": [
      "/var/folders/9w/mh3y2sps7_v81cj0mntlqn3c0000gr/T/ipykernel_4212/4105635007.py:1: DtypeWarning: Columns (40) have mixed types. Specify dtype option on import or set low_memory=False.\n",
      "  data = pd.read_csv(\"/Users/toghruln/Downloads/Gravity_V202211.csv\") # Assign the data to the variable 'data'\n"
     ]
    }
   ],
   "source": [
    "data = pd.read_csv(\"/Users/toghruln/Downloads/Gravity_V202211.csv\") # Assign the data to the variable 'data'"
   ]
  },
  {
   "cell_type": "code",
   "execution_count": 3,
   "metadata": {},
   "outputs": [
    {
     "data": {
      "text/html": [
       "<div>\n",
       "<style scoped>\n",
       "    .dataframe tbody tr th:only-of-type {\n",
       "        vertical-align: middle;\n",
       "    }\n",
       "\n",
       "    .dataframe tbody tr th {\n",
       "        vertical-align: top;\n",
       "    }\n",
       "\n",
       "    .dataframe thead th {\n",
       "        text-align: right;\n",
       "    }\n",
       "</style>\n",
       "<table border=\"1\" class=\"dataframe\">\n",
       "  <thead>\n",
       "    <tr style=\"text-align: right;\">\n",
       "      <th></th>\n",
       "      <th>year</th>\n",
       "      <th>country_id_o</th>\n",
       "      <th>country_id_d</th>\n",
       "      <th>iso3_o</th>\n",
       "      <th>iso3_d</th>\n",
       "      <th>iso3num_o</th>\n",
       "      <th>iso3num_d</th>\n",
       "      <th>country_exists_o</th>\n",
       "      <th>country_exists_d</th>\n",
       "      <th>gmt_offset_2020_o</th>\n",
       "      <th>...</th>\n",
       "      <th>entry_time_o</th>\n",
       "      <th>entry_time_d</th>\n",
       "      <th>entry_tp_o</th>\n",
       "      <th>entry_tp_d</th>\n",
       "      <th>tradeflow_comtrade_o</th>\n",
       "      <th>tradeflow_comtrade_d</th>\n",
       "      <th>tradeflow_baci</th>\n",
       "      <th>manuf_tradeflow_baci</th>\n",
       "      <th>tradeflow_imf_o</th>\n",
       "      <th>tradeflow_imf_d</th>\n",
       "    </tr>\n",
       "  </thead>\n",
       "  <tbody>\n",
       "    <tr>\n",
       "      <th>4699291</th>\n",
       "      <td>2017</td>\n",
       "      <td>ZWE</td>\n",
       "      <td>ZWE</td>\n",
       "      <td>ZWE</td>\n",
       "      <td>ZWE</td>\n",
       "      <td>716.0</td>\n",
       "      <td>716.0</td>\n",
       "      <td>1</td>\n",
       "      <td>1</td>\n",
       "      <td>2.0</td>\n",
       "      <td>...</td>\n",
       "      <td>61.0</td>\n",
       "      <td>61.0</td>\n",
       "      <td>70.0</td>\n",
       "      <td>70.0</td>\n",
       "      <td>NaN</td>\n",
       "      <td>NaN</td>\n",
       "      <td>NaN</td>\n",
       "      <td>NaN</td>\n",
       "      <td>NaN</td>\n",
       "      <td>NaN</td>\n",
       "    </tr>\n",
       "    <tr>\n",
       "      <th>4699292</th>\n",
       "      <td>2018</td>\n",
       "      <td>ZWE</td>\n",
       "      <td>ZWE</td>\n",
       "      <td>ZWE</td>\n",
       "      <td>ZWE</td>\n",
       "      <td>716.0</td>\n",
       "      <td>716.0</td>\n",
       "      <td>1</td>\n",
       "      <td>1</td>\n",
       "      <td>2.0</td>\n",
       "      <td>...</td>\n",
       "      <td>32.0</td>\n",
       "      <td>32.0</td>\n",
       "      <td>41.0</td>\n",
       "      <td>41.0</td>\n",
       "      <td>NaN</td>\n",
       "      <td>NaN</td>\n",
       "      <td>NaN</td>\n",
       "      <td>NaN</td>\n",
       "      <td>NaN</td>\n",
       "      <td>NaN</td>\n",
       "    </tr>\n",
       "    <tr>\n",
       "      <th>4699293</th>\n",
       "      <td>2019</td>\n",
       "      <td>ZWE</td>\n",
       "      <td>ZWE</td>\n",
       "      <td>ZWE</td>\n",
       "      <td>ZWE</td>\n",
       "      <td>716.0</td>\n",
       "      <td>716.0</td>\n",
       "      <td>1</td>\n",
       "      <td>1</td>\n",
       "      <td>2.0</td>\n",
       "      <td>...</td>\n",
       "      <td>27.0</td>\n",
       "      <td>27.0</td>\n",
       "      <td>36.0</td>\n",
       "      <td>36.0</td>\n",
       "      <td>NaN</td>\n",
       "      <td>NaN</td>\n",
       "      <td>NaN</td>\n",
       "      <td>NaN</td>\n",
       "      <td>NaN</td>\n",
       "      <td>NaN</td>\n",
       "    </tr>\n",
       "    <tr>\n",
       "      <th>4699294</th>\n",
       "      <td>2020</td>\n",
       "      <td>ZWE</td>\n",
       "      <td>ZWE</td>\n",
       "      <td>ZWE</td>\n",
       "      <td>ZWE</td>\n",
       "      <td>716.0</td>\n",
       "      <td>716.0</td>\n",
       "      <td>1</td>\n",
       "      <td>1</td>\n",
       "      <td>2.0</td>\n",
       "      <td>...</td>\n",
       "      <td>NaN</td>\n",
       "      <td>NaN</td>\n",
       "      <td>NaN</td>\n",
       "      <td>NaN</td>\n",
       "      <td>NaN</td>\n",
       "      <td>NaN</td>\n",
       "      <td>NaN</td>\n",
       "      <td>NaN</td>\n",
       "      <td>NaN</td>\n",
       "      <td>NaN</td>\n",
       "    </tr>\n",
       "    <tr>\n",
       "      <th>4699295</th>\n",
       "      <td>2021</td>\n",
       "      <td>ZWE</td>\n",
       "      <td>ZWE</td>\n",
       "      <td>ZWE</td>\n",
       "      <td>ZWE</td>\n",
       "      <td>716.0</td>\n",
       "      <td>716.0</td>\n",
       "      <td>1</td>\n",
       "      <td>1</td>\n",
       "      <td>2.0</td>\n",
       "      <td>...</td>\n",
       "      <td>NaN</td>\n",
       "      <td>NaN</td>\n",
       "      <td>NaN</td>\n",
       "      <td>NaN</td>\n",
       "      <td>NaN</td>\n",
       "      <td>NaN</td>\n",
       "      <td>NaN</td>\n",
       "      <td>NaN</td>\n",
       "      <td>NaN</td>\n",
       "      <td>NaN</td>\n",
       "    </tr>\n",
       "  </tbody>\n",
       "</table>\n",
       "<p>5 rows × 87 columns</p>\n",
       "</div>"
      ],
      "text/plain": [
       "         year country_id_o country_id_d iso3_o iso3_d  iso3num_o  iso3num_d  \\\n",
       "4699291  2017          ZWE          ZWE    ZWE    ZWE      716.0      716.0   \n",
       "4699292  2018          ZWE          ZWE    ZWE    ZWE      716.0      716.0   \n",
       "4699293  2019          ZWE          ZWE    ZWE    ZWE      716.0      716.0   \n",
       "4699294  2020          ZWE          ZWE    ZWE    ZWE      716.0      716.0   \n",
       "4699295  2021          ZWE          ZWE    ZWE    ZWE      716.0      716.0   \n",
       "\n",
       "         country_exists_o  country_exists_d  gmt_offset_2020_o  ...  \\\n",
       "4699291                 1                 1                2.0  ...   \n",
       "4699292                 1                 1                2.0  ...   \n",
       "4699293                 1                 1                2.0  ...   \n",
       "4699294                 1                 1                2.0  ...   \n",
       "4699295                 1                 1                2.0  ...   \n",
       "\n",
       "         entry_time_o  entry_time_d  entry_tp_o  entry_tp_d  \\\n",
       "4699291          61.0          61.0        70.0        70.0   \n",
       "4699292          32.0          32.0        41.0        41.0   \n",
       "4699293          27.0          27.0        36.0        36.0   \n",
       "4699294           NaN           NaN         NaN         NaN   \n",
       "4699295           NaN           NaN         NaN         NaN   \n",
       "\n",
       "         tradeflow_comtrade_o  tradeflow_comtrade_d tradeflow_baci  \\\n",
       "4699291                   NaN                   NaN            NaN   \n",
       "4699292                   NaN                   NaN            NaN   \n",
       "4699293                   NaN                   NaN            NaN   \n",
       "4699294                   NaN                   NaN            NaN   \n",
       "4699295                   NaN                   NaN            NaN   \n",
       "\n",
       "        manuf_tradeflow_baci  tradeflow_imf_o  tradeflow_imf_d  \n",
       "4699291                  NaN              NaN              NaN  \n",
       "4699292                  NaN              NaN              NaN  \n",
       "4699293                  NaN              NaN              NaN  \n",
       "4699294                  NaN              NaN              NaN  \n",
       "4699295                  NaN              NaN              NaN  \n",
       "\n",
       "[5 rows x 87 columns]"
      ]
     },
     "execution_count": 3,
     "metadata": {},
     "output_type": "execute_result"
    }
   ],
   "source": [
    "data.tail()"
   ]
  },
  {
   "cell_type": "code",
   "execution_count": 5,
   "metadata": {},
   "outputs": [
    {
     "name": "stdout",
     "output_type": "stream",
     "text": [
      "             Column Name Data Type\n",
      "0                   year     int64\n",
      "1           country_id_o    object\n",
      "2           country_id_d    object\n",
      "3                 iso3_o    object\n",
      "4                 iso3_d    object\n",
      "..                   ...       ...\n",
      "82  tradeflow_comtrade_d   float64\n",
      "83        tradeflow_baci   float64\n",
      "84  manuf_tradeflow_baci   float64\n",
      "85       tradeflow_imf_o   float64\n",
      "86       tradeflow_imf_d   float64\n",
      "\n",
      "[87 rows x 2 columns]\n"
     ]
    }
   ],
   "source": [
    "column_info = pd.DataFrame({\n",
    "    'Column Name': data.columns,\n",
    "    'Data Type': [data[col].dtype for col in data.columns]\n",
    "})\n",
    "\n",
    "print(column_info)\n",
    "\n",
    "column_info.to_csv(\"column_info.csv\", index=False)"
   ]
  },
  {
   "cell_type": "code",
   "execution_count": 6,
   "metadata": {},
   "outputs": [],
   "source": [
    "# Filter the data for Azerbaijan and years between 2000 and 2020\n",
    "filtered_data = data[((data['iso3_o'] == 'AZE') | (data['iso3_d'] == 'AZE')) &\n",
    "                     (data['year'] >= 2000) & (data['year'] <= 2020)]"
   ]
  },
  {
   "cell_type": "code",
   "execution_count": 7,
   "metadata": {},
   "outputs": [
    {
     "data": {
      "text/html": [
       "<div>\n",
       "<style scoped>\n",
       "    .dataframe tbody tr th:only-of-type {\n",
       "        vertical-align: middle;\n",
       "    }\n",
       "\n",
       "    .dataframe tbody tr th {\n",
       "        vertical-align: top;\n",
       "    }\n",
       "\n",
       "    .dataframe thead th {\n",
       "        text-align: right;\n",
       "    }\n",
       "</style>\n",
       "<table border=\"1\" class=\"dataframe\">\n",
       "  <thead>\n",
       "    <tr style=\"text-align: right;\">\n",
       "      <th></th>\n",
       "      <th>year</th>\n",
       "      <th>country_id_o</th>\n",
       "      <th>country_id_d</th>\n",
       "      <th>iso3_o</th>\n",
       "      <th>iso3_d</th>\n",
       "      <th>iso3num_o</th>\n",
       "      <th>iso3num_d</th>\n",
       "      <th>country_exists_o</th>\n",
       "      <th>country_exists_d</th>\n",
       "      <th>gmt_offset_2020_o</th>\n",
       "      <th>...</th>\n",
       "      <th>entry_time_o</th>\n",
       "      <th>entry_time_d</th>\n",
       "      <th>entry_tp_o</th>\n",
       "      <th>entry_tp_d</th>\n",
       "      <th>tradeflow_comtrade_o</th>\n",
       "      <th>tradeflow_comtrade_d</th>\n",
       "      <th>tradeflow_baci</th>\n",
       "      <th>manuf_tradeflow_baci</th>\n",
       "      <th>tradeflow_imf_o</th>\n",
       "      <th>tradeflow_imf_d</th>\n",
       "    </tr>\n",
       "  </thead>\n",
       "  <tbody>\n",
       "    <tr>\n",
       "      <th>1162</th>\n",
       "      <td>2000</td>\n",
       "      <td>ABW</td>\n",
       "      <td>AZE</td>\n",
       "      <td>ABW</td>\n",
       "      <td>AZE</td>\n",
       "      <td>533.0</td>\n",
       "      <td>31.0</td>\n",
       "      <td>1</td>\n",
       "      <td>1</td>\n",
       "      <td>-4.0</td>\n",
       "      <td>...</td>\n",
       "      <td>NaN</td>\n",
       "      <td>NaN</td>\n",
       "      <td>NaN</td>\n",
       "      <td>NaN</td>\n",
       "      <td>NaN</td>\n",
       "      <td>NaN</td>\n",
       "      <td>NaN</td>\n",
       "      <td>NaN</td>\n",
       "      <td>NaN</td>\n",
       "      <td>NaN</td>\n",
       "    </tr>\n",
       "    <tr>\n",
       "      <th>1163</th>\n",
       "      <td>2001</td>\n",
       "      <td>ABW</td>\n",
       "      <td>AZE</td>\n",
       "      <td>ABW</td>\n",
       "      <td>AZE</td>\n",
       "      <td>533.0</td>\n",
       "      <td>31.0</td>\n",
       "      <td>1</td>\n",
       "      <td>1</td>\n",
       "      <td>-4.0</td>\n",
       "      <td>...</td>\n",
       "      <td>NaN</td>\n",
       "      <td>NaN</td>\n",
       "      <td>NaN</td>\n",
       "      <td>NaN</td>\n",
       "      <td>NaN</td>\n",
       "      <td>NaN</td>\n",
       "      <td>NaN</td>\n",
       "      <td>NaN</td>\n",
       "      <td>NaN</td>\n",
       "      <td>NaN</td>\n",
       "    </tr>\n",
       "    <tr>\n",
       "      <th>1164</th>\n",
       "      <td>2002</td>\n",
       "      <td>ABW</td>\n",
       "      <td>AZE</td>\n",
       "      <td>ABW</td>\n",
       "      <td>AZE</td>\n",
       "      <td>533.0</td>\n",
       "      <td>31.0</td>\n",
       "      <td>1</td>\n",
       "      <td>1</td>\n",
       "      <td>-4.0</td>\n",
       "      <td>...</td>\n",
       "      <td>NaN</td>\n",
       "      <td>NaN</td>\n",
       "      <td>NaN</td>\n",
       "      <td>NaN</td>\n",
       "      <td>NaN</td>\n",
       "      <td>NaN</td>\n",
       "      <td>NaN</td>\n",
       "      <td>NaN</td>\n",
       "      <td>NaN</td>\n",
       "      <td>NaN</td>\n",
       "    </tr>\n",
       "    <tr>\n",
       "      <th>1165</th>\n",
       "      <td>2003</td>\n",
       "      <td>ABW</td>\n",
       "      <td>AZE</td>\n",
       "      <td>ABW</td>\n",
       "      <td>AZE</td>\n",
       "      <td>533.0</td>\n",
       "      <td>31.0</td>\n",
       "      <td>1</td>\n",
       "      <td>1</td>\n",
       "      <td>-4.0</td>\n",
       "      <td>...</td>\n",
       "      <td>NaN</td>\n",
       "      <td>105.0</td>\n",
       "      <td>NaN</td>\n",
       "      <td>119.0</td>\n",
       "      <td>NaN</td>\n",
       "      <td>NaN</td>\n",
       "      <td>NaN</td>\n",
       "      <td>NaN</td>\n",
       "      <td>NaN</td>\n",
       "      <td>NaN</td>\n",
       "    </tr>\n",
       "    <tr>\n",
       "      <th>1166</th>\n",
       "      <td>2004</td>\n",
       "      <td>ABW</td>\n",
       "      <td>AZE</td>\n",
       "      <td>ABW</td>\n",
       "      <td>AZE</td>\n",
       "      <td>533.0</td>\n",
       "      <td>31.0</td>\n",
       "      <td>1</td>\n",
       "      <td>1</td>\n",
       "      <td>-4.0</td>\n",
       "      <td>...</td>\n",
       "      <td>NaN</td>\n",
       "      <td>121.0</td>\n",
       "      <td>NaN</td>\n",
       "      <td>134.0</td>\n",
       "      <td>NaN</td>\n",
       "      <td>NaN</td>\n",
       "      <td>NaN</td>\n",
       "      <td>NaN</td>\n",
       "      <td>NaN</td>\n",
       "      <td>NaN</td>\n",
       "    </tr>\n",
       "  </tbody>\n",
       "</table>\n",
       "<p>5 rows × 87 columns</p>\n",
       "</div>"
      ],
      "text/plain": [
       "      year country_id_o country_id_d iso3_o iso3_d  iso3num_o  iso3num_d  \\\n",
       "1162  2000          ABW          AZE    ABW    AZE      533.0       31.0   \n",
       "1163  2001          ABW          AZE    ABW    AZE      533.0       31.0   \n",
       "1164  2002          ABW          AZE    ABW    AZE      533.0       31.0   \n",
       "1165  2003          ABW          AZE    ABW    AZE      533.0       31.0   \n",
       "1166  2004          ABW          AZE    ABW    AZE      533.0       31.0   \n",
       "\n",
       "      country_exists_o  country_exists_d  gmt_offset_2020_o  ...  \\\n",
       "1162                 1                 1               -4.0  ...   \n",
       "1163                 1                 1               -4.0  ...   \n",
       "1164                 1                 1               -4.0  ...   \n",
       "1165                 1                 1               -4.0  ...   \n",
       "1166                 1                 1               -4.0  ...   \n",
       "\n",
       "      entry_time_o  entry_time_d  entry_tp_o  entry_tp_d  \\\n",
       "1162           NaN           NaN         NaN         NaN   \n",
       "1163           NaN           NaN         NaN         NaN   \n",
       "1164           NaN           NaN         NaN         NaN   \n",
       "1165           NaN         105.0         NaN       119.0   \n",
       "1166           NaN         121.0         NaN       134.0   \n",
       "\n",
       "      tradeflow_comtrade_o  tradeflow_comtrade_d tradeflow_baci  \\\n",
       "1162                   NaN                   NaN            NaN   \n",
       "1163                   NaN                   NaN            NaN   \n",
       "1164                   NaN                   NaN            NaN   \n",
       "1165                   NaN                   NaN            NaN   \n",
       "1166                   NaN                   NaN            NaN   \n",
       "\n",
       "     manuf_tradeflow_baci  tradeflow_imf_o  tradeflow_imf_d  \n",
       "1162                  NaN              NaN              NaN  \n",
       "1163                  NaN              NaN              NaN  \n",
       "1164                  NaN              NaN              NaN  \n",
       "1165                  NaN              NaN              NaN  \n",
       "1166                  NaN              NaN              NaN  \n",
       "\n",
       "[5 rows x 87 columns]"
      ]
     },
     "execution_count": 7,
     "metadata": {},
     "output_type": "execute_result"
    }
   ],
   "source": [
    "filtered_data.head()"
   ]
  },
  {
   "cell_type": "code",
   "execution_count": 8,
   "metadata": {},
   "outputs": [
    {
     "data": {
      "text/plain": [
       "array(['ABW', 'AFG', 'AGO', 'AIA', 'ALB', 'AND', 'ANT', 'ARE', 'ARG',\n",
       "       'ARM', 'ASM', 'ATG', 'AUS', 'AUT', 'AZE', 'BDI', 'BEL', 'BEN',\n",
       "       'BES', 'BFA', 'BGD', 'BGR', 'BHR', 'BHS', 'BIH', 'BLR', 'BLZ',\n",
       "       'BMU', 'BOL', 'BRA', 'BRB', 'BRN', 'BTN', 'BWA', 'CAF', 'CAN',\n",
       "       'CCK', 'CHE', 'CHL', 'CHN', 'CIV', 'CMR', 'COD', 'COG', 'COK',\n",
       "       'COL', 'COM', 'CPV', 'CRI', 'CSK', 'CUB', 'CUW', 'CXR', 'CYM',\n",
       "       'CYP', 'CZE', 'DDR', 'DEU', 'DJI', 'DMA', 'DNK', 'DOM', 'DZA',\n",
       "       'ECU', 'EGY', 'ERI', 'ESH', 'ESP', 'EST', 'ETH', 'FIN', 'FJI',\n",
       "       'FLK', 'FRA', 'FRO', 'FSM', 'GAB', 'GBR', 'GEO', 'GHA', 'GIB',\n",
       "       'GIN', 'GLP', 'GMB', 'GNB', 'GNQ', 'GRC', 'GRD', 'GRL', 'GTM',\n",
       "       'GUF', 'GUM', 'GUY', 'HKG', 'HND', 'HRV', 'HTI', 'HUN', 'IDN',\n",
       "       'IND', 'IOT', 'IRL', 'IRN', 'IRQ', 'ISL', 'ISR', 'ITA', 'JAM',\n",
       "       'JOR', 'JPN', 'KAZ', 'KEN', 'KGZ', 'KHM', 'KIR', 'KNA', 'KOR',\n",
       "       'KWT', 'LAO', 'LBN', 'LBR', 'LBY', 'LCA', 'LIE', 'LKA', 'LSO',\n",
       "       'LTU', 'LUX', 'LVA', 'MAC', 'MAR', 'MCO', 'MDA', 'MDG', 'MDV',\n",
       "       'MEX', 'MHL', 'MKD', 'MLI', 'MLT', 'MMR', 'MNE', 'MNG', 'MNP',\n",
       "       'MOZ', 'MRT', 'MSR', 'MTQ', 'MUS', 'MWI', 'MYS', 'MYT', 'NAM',\n",
       "       'NCL', 'NER', 'NFK', 'NGA', 'NIC', 'NIU', 'NLD', 'NOR', 'NPL',\n",
       "       'NRU', 'NZL', 'OMN', 'PAK', 'PAN', 'PCN', 'PER', 'PHL', 'PLW',\n",
       "       'PNG', 'POL', 'PRI', 'PRK', 'PRT', 'PRY', 'PSE', 'PYF', 'QAT',\n",
       "       'REU', 'ROU', 'RUS', 'RWA', 'SAU', 'SCG', 'SDN', 'SEN', 'SGP',\n",
       "       'SHN', 'SLB', 'SLE', 'SLV', 'SMR', 'SOM', 'SPM', 'SRB', 'SSD',\n",
       "       'STP', 'SUN', 'SUR', 'SVK', 'SVN', 'SWE', 'SWZ', 'SXM', 'SYC',\n",
       "       'SYR', 'TCA', 'TCD', 'TGO', 'THA', 'TJK', 'TKL', 'TKM', 'TLS',\n",
       "       'TON', 'TTO', 'TUN', 'TUR', 'TUV', 'TWN', 'TZA', 'UGA', 'UKR',\n",
       "       'URY', 'USA', 'UZB', 'VAT', 'VCT', 'VDR', 'VEN', 'VGB', 'VNM',\n",
       "       'VUT', 'WLF', 'WSM', 'YEM', 'YMD', 'YUG', 'ZAF', 'ZMB', 'ZWE'],\n",
       "      dtype=object)"
      ]
     },
     "execution_count": 8,
     "metadata": {},
     "output_type": "execute_result"
    }
   ],
   "source": [
    "exporters = data['iso3_o'].unique()\n",
    "exporters"
   ]
  },
  {
   "cell_type": "code",
   "execution_count": 9,
   "metadata": {},
   "outputs": [
    {
     "data": {
      "text/plain": [
       "array(['ABW', 'AFG', 'AGO', 'AIA', 'ALB', 'AND', 'ANT', 'ARE', 'ARG',\n",
       "       'ARM', 'ASM', 'ATG', 'AUS', 'AUT', 'AZE', 'BDI', 'BEL', 'BEN',\n",
       "       'BES', 'BFA', 'BGD', 'BGR', 'BHR', 'BHS', 'BIH', 'BLR', 'BLZ',\n",
       "       'BMU', 'BOL', 'BRA', 'BRB', 'BRN', 'BTN', 'BWA', 'CAF', 'CAN',\n",
       "       'CCK', 'CHE', 'CHL', 'CHN', 'CIV', 'CMR', 'COD', 'COG', 'COK',\n",
       "       'COL', 'COM', 'CPV', 'CRI', 'CSK', 'CUB', 'CUW', 'CXR', 'CYM',\n",
       "       'CYP', 'CZE', 'DDR', 'DEU', 'DJI', 'DMA', 'DNK', 'DOM', 'DZA',\n",
       "       'ECU', 'EGY', 'ERI', 'ESH', 'ESP', 'EST', 'ETH', 'FIN', 'FJI',\n",
       "       'FLK', 'FRA', 'FRO', 'FSM', 'GAB', 'GBR', 'GEO', 'GHA', 'GIB',\n",
       "       'GIN', 'GLP', 'GMB', 'GNB', 'GNQ', 'GRC', 'GRD', 'GRL', 'GTM',\n",
       "       'GUF', 'GUM', 'GUY', 'HKG', 'HND', 'HRV', 'HTI', 'HUN', 'IDN',\n",
       "       'IND', 'IOT', 'IRL', 'IRN', 'IRQ', 'ISL', 'ISR', 'ITA', 'JAM',\n",
       "       'JOR', 'JPN', 'KAZ', 'KEN', 'KGZ', 'KHM', 'KIR', 'KNA', 'KOR',\n",
       "       'KWT', 'LAO', 'LBN', 'LBR', 'LBY', 'LCA', 'LIE', 'LKA', 'LSO',\n",
       "       'LTU', 'LUX', 'LVA', 'MAC', 'MAR', 'MCO', 'MDA', 'MDG', 'MDV',\n",
       "       'MEX', 'MHL', 'MKD', 'MLI', 'MLT', 'MMR', 'MNE', 'MNG', 'MNP',\n",
       "       'MOZ', 'MRT', 'MSR', 'MTQ', 'MUS', 'MWI', 'MYS', 'MYT', 'NAM',\n",
       "       'NCL', 'NER', 'NFK', 'NGA', 'NIC', 'NIU', 'NLD', 'NOR', 'NPL',\n",
       "       'NRU', 'NZL', 'OMN', 'PAK', 'PAN', 'PCN', 'PER', 'PHL', 'PLW',\n",
       "       'PNG', 'POL', 'PRI', 'PRK', 'PRT', 'PRY', 'PSE', 'PYF', 'QAT',\n",
       "       'REU', 'ROU', 'RUS', 'RWA', 'SAU', 'SCG', 'SDN', 'SEN', 'SGP',\n",
       "       'SHN', 'SLB', 'SLE', 'SLV', 'SMR', 'SOM', 'SPM', 'SRB', 'SSD',\n",
       "       'STP', 'SUN', 'SUR', 'SVK', 'SVN', 'SWE', 'SWZ', 'SXM', 'SYC',\n",
       "       'SYR', 'TCA', 'TCD', 'TGO', 'THA', 'TJK', 'TKL', 'TKM', 'TLS',\n",
       "       'TON', 'TTO', 'TUN', 'TUR', 'TUV', 'TWN', 'TZA', 'UGA', 'UKR',\n",
       "       'URY', 'USA', 'UZB', 'VAT', 'VCT', 'VDR', 'VEN', 'VGB', 'VNM',\n",
       "       'VUT', 'WLF', 'WSM', 'YEM', 'YMD', 'YUG', 'ZAF', 'ZMB', 'ZWE'],\n",
       "      dtype=object)"
      ]
     },
     "execution_count": 9,
     "metadata": {},
     "output_type": "execute_result"
    }
   ],
   "source": [
    "importers = data['iso3_d'].unique()\n",
    "\n",
    "importers"
   ]
  },
  {
   "cell_type": "code",
   "execution_count": 10,
   "metadata": {},
   "outputs": [
    {
     "name": "stdout",
     "output_type": "stream",
     "text": [
      "All parameters for gme.EstimationData:\n",
      "data_frame: data_frame=None\n",
      "name: name: str = 'unnamed'\n",
      "imp_var_name: imp_var_name: str = 'importer'\n",
      "exp_var_name: exp_var_name: str = 'exporter'\n",
      "year_var_name: year_var_name: str = 'year'\n",
      "trade_var_name: trade_var_name: str = None\n",
      "sector_var_name: sector_var_name: str = None\n",
      "expend_var_name: expend_var_name: str = None\n",
      "output_var_name: output_var_name: str = None\n",
      "notes: notes: List[str] = []\n"
     ]
    }
   ],
   "source": [
    "parameters = inspect.signature(gme.EstimationData)\n",
    "print(\"All parameters for gme.EstimationData:\")\n",
    "for param_name, param in parameters.parameters.items():\n",
    "    print(f\"{param_name}: {param}\")"
   ]
  },
  {
   "cell_type": "code",
   "execution_count": 11,
   "metadata": {},
   "outputs": [
    {
     "name": "stdout",
     "output_type": "stream",
     "text": [
      "number of countries: 243 \n",
      "number of exporters: 243 \n",
      "number of importers: 243 \n",
      "number of years: 21 \n",
      "number of sectors: not_applicable \n",
      "dimensions: (10563, 87)\n",
      "\n"
     ]
    }
   ],
   "source": [
    "# General Data Set \n",
    "gme_data = gme.EstimationData(data_frame=filtered_data,\n",
    "                              imp_var_name='iso3_d',\n",
    "                              exp_var_name='iso3_o',\n",
    "                              trade_var_name='tradeflow_baci',\n",
    "                              year_var_name='year')\n",
    "\n",
    "# Print the output\n",
    "print(gme_data)"
   ]
  },
  {
   "cell_type": "code",
   "execution_count": 12,
   "metadata": {},
   "outputs": [
    {
     "name": "stdout",
     "output_type": "stream",
     "text": [
      "Number of unique countries Azerbaijan is trading or traded durin 21 years with: 206\n",
      "Out of total possible importers: 243\n",
      "Percentage of countries Azerbaijan trades with: 84.77%\n"
     ]
    }
   ],
   "source": [
    "filtered_data = data[\n",
    "    (\n",
    "        (data['iso3_o'] == 'AZE') | (data['iso3_d'] == 'AZE')\n",
    "    ) &\n",
    "    (data['year'] >= 2000) &\n",
    "    (data['year'] <= 2020) &\n",
    "    ((data['tradeflow_imf_o'] > 0) | (data['tradeflow_imf_d'] > 0))\n",
    "]\n",
    "\n",
    "trade_partners = set(filtered_data.loc[filtered_data['iso3_o'] != 'AZE', 'iso3_o']) | \\\n",
    "                 set(filtered_data.loc[filtered_data['iso3_d'] != 'AZE', 'iso3_d'])\n",
    "\n",
    "unique_trade_partners_count = len(trade_partners)\n",
    "\n",
    "total_importers = 243\n",
    "\n",
    "print(f\"Number of unique countries Azerbaijan is trading or traded durin 21 years with: {unique_trade_partners_count}\")\n",
    "print(f\"Out of total possible importers: {total_importers}\")\n",
    "print(f\"Percentage of countries Azerbaijan trades with: {unique_trade_partners_count / total_importers * 100:.2f}%\")"
   ]
  },
  {
   "cell_type": "code",
   "execution_count": 13,
   "metadata": {},
   "outputs": [
    {
     "data": {
      "text/plain": [
       "['year',\n",
       " 'country_id_o',\n",
       " 'country_id_d',\n",
       " 'iso3_o',\n",
       " 'iso3_d',\n",
       " 'iso3num_o',\n",
       " 'iso3num_d',\n",
       " 'country_exists_o',\n",
       " 'country_exists_d',\n",
       " 'gmt_offset_2020_o',\n",
       " 'gmt_offset_2020_d',\n",
       " 'distw_harmonic',\n",
       " 'distw_arithmetic',\n",
       " 'distw_harmonic_jh',\n",
       " 'distw_arithmetic_jh',\n",
       " 'dist',\n",
       " 'main_city_source_o',\n",
       " 'main_city_source_d',\n",
       " 'distcap',\n",
       " 'contig',\n",
       " 'diplo_disagreement',\n",
       " 'scaled_sci_2021',\n",
       " 'comlang_off',\n",
       " 'comlang_ethno',\n",
       " 'comcol',\n",
       " 'col45',\n",
       " 'legal_old_o',\n",
       " 'legal_old_d',\n",
       " 'legal_new_o',\n",
       " 'legal_new_d',\n",
       " 'comleg_pretrans',\n",
       " 'comleg_posttrans',\n",
       " 'transition_legalchange',\n",
       " 'comrelig',\n",
       " 'heg_o',\n",
       " 'heg_d',\n",
       " 'col_dep_ever',\n",
       " 'col_dep',\n",
       " 'col_dep_end_year',\n",
       " 'col_dep_end_conflict',\n",
       " 'empire',\n",
       " 'sibling_ever',\n",
       " 'sibling',\n",
       " 'sever_year',\n",
       " 'sib_conflict',\n",
       " 'pop_o',\n",
       " 'pop_d',\n",
       " 'gdp_o',\n",
       " 'gdp_d',\n",
       " 'gdpcap_o',\n",
       " 'gdpcap_d',\n",
       " 'pop_source_o',\n",
       " 'pop_source_d',\n",
       " 'gdp_source_o',\n",
       " 'gdp_source_d',\n",
       " 'gdp_ppp_o',\n",
       " 'gdp_ppp_d',\n",
       " 'gdpcap_ppp_o',\n",
       " 'gdpcap_ppp_d',\n",
       " 'pop_pwt_o',\n",
       " 'pop_pwt_d',\n",
       " 'gdp_ppp_pwt_o',\n",
       " 'gdp_ppp_pwt_d',\n",
       " 'gatt_o',\n",
       " 'gatt_d',\n",
       " 'wto_o',\n",
       " 'wto_d',\n",
       " 'eu_o',\n",
       " 'eu_d',\n",
       " 'fta_wto',\n",
       " 'fta_wto_raw',\n",
       " 'rta_coverage',\n",
       " 'rta_type',\n",
       " 'entry_cost_o',\n",
       " 'entry_cost_d',\n",
       " 'entry_proc_o',\n",
       " 'entry_proc_d',\n",
       " 'entry_time_o',\n",
       " 'entry_time_d',\n",
       " 'entry_tp_o',\n",
       " 'entry_tp_d',\n",
       " 'tradeflow_comtrade_o',\n",
       " 'tradeflow_comtrade_d',\n",
       " 'tradeflow_baci',\n",
       " 'manuf_tradeflow_baci',\n",
       " 'tradeflow_imf_o',\n",
       " 'tradeflow_imf_d']"
      ]
     },
     "execution_count": 13,
     "metadata": {},
     "output_type": "execute_result"
    }
   ],
   "source": [
    "gme_data.columns"
   ]
  },
  {
   "cell_type": "code",
   "execution_count": 38,
   "metadata": {},
   "outputs": [
    {
     "name": "stdout",
     "output_type": "stream",
     "text": [
      "number of countries: 207 \n",
      "number of exporters: 201 \n",
      "number of importers: 187 \n",
      "number of years: 21 \n",
      "number of sectors: not_applicable \n",
      "dimensions: (5389, 18)\n",
      "\n"
     ]
    }
   ],
   "source": [
    "# If tradeflow_baci > 0, it implies trade exists.\n",
    "# If tradeflow_baci == 0 or is missing, it indicates no recorded trade for that relationship.\n",
    "\n",
    "gme_data = gme.EstimationData(data_frame=filtered_data,\n",
    "                              imp_var_name='iso3_d',\n",
    "                              exp_var_name='iso3_o',\n",
    "                              trade_var_name='tradeflow_baci',\n",
    "                              year_var_name='year')\n",
    "\n",
    "# Print the output\n",
    "print(gme_data)"
   ]
  },
  {
   "cell_type": "code",
   "execution_count": 15,
   "metadata": {},
   "outputs": [
    {
     "data": {
      "text/plain": [
       "187"
      ]
     },
     "execution_count": 15,
     "metadata": {},
     "output_type": "execute_result"
    }
   ],
   "source": [
    "#Checking the number of exporters\n",
    "gme_data.number_of_importers\n"
   ]
  },
  {
   "cell_type": "code",
   "execution_count": 16,
   "metadata": {},
   "outputs": [
    {
     "data": {
      "text/plain": [
       "[2000,\n",
       " 2001,\n",
       " 2002,\n",
       " 2003,\n",
       " 2004,\n",
       " 2005,\n",
       " 2006,\n",
       " 2007,\n",
       " 2008,\n",
       " 2009,\n",
       " 2010,\n",
       " 2011,\n",
       " 2012,\n",
       " 2013,\n",
       " 2014,\n",
       " 2015,\n",
       " 2016,\n",
       " 2017,\n",
       " 2018,\n",
       " 2019,\n",
       " 2020]"
      ]
     },
     "execution_count": 16,
     "metadata": {},
     "output_type": "execute_result"
    }
   ],
   "source": [
    "# Checking the number of years\n",
    "years = gme_data.year_list()\n",
    " \n",
    "sorted(years)"
   ]
  },
  {
   "cell_type": "code",
   "execution_count": 17,
   "metadata": {},
   "outputs": [
    {
     "data": {
      "text/html": [
       "<div>\n",
       "<style scoped>\n",
       "    .dataframe tbody tr th:only-of-type {\n",
       "        vertical-align: middle;\n",
       "    }\n",
       "\n",
       "    .dataframe tbody tr th {\n",
       "        vertical-align: top;\n",
       "    }\n",
       "\n",
       "    .dataframe thead th {\n",
       "        text-align: right;\n",
       "    }\n",
       "</style>\n",
       "<table border=\"1\" class=\"dataframe\">\n",
       "  <thead>\n",
       "    <tr style=\"text-align: right;\">\n",
       "      <th></th>\n",
       "      <th>year</th>\n",
       "      <th>iso3num_o</th>\n",
       "      <th>iso3num_d</th>\n",
       "      <th>country_exists_o</th>\n",
       "      <th>country_exists_d</th>\n",
       "      <th>gmt_offset_2020_o</th>\n",
       "      <th>gmt_offset_2020_d</th>\n",
       "      <th>distw_harmonic</th>\n",
       "      <th>distw_arithmetic</th>\n",
       "      <th>distw_harmonic_jh</th>\n",
       "      <th>...</th>\n",
       "      <th>entry_time_o</th>\n",
       "      <th>entry_time_d</th>\n",
       "      <th>entry_tp_o</th>\n",
       "      <th>entry_tp_d</th>\n",
       "      <th>tradeflow_comtrade_o</th>\n",
       "      <th>tradeflow_comtrade_d</th>\n",
       "      <th>tradeflow_baci</th>\n",
       "      <th>manuf_tradeflow_baci</th>\n",
       "      <th>tradeflow_imf_o</th>\n",
       "      <th>tradeflow_imf_d</th>\n",
       "    </tr>\n",
       "  </thead>\n",
       "  <tbody>\n",
       "    <tr>\n",
       "      <th>count</th>\n",
       "      <td>5389.000000</td>\n",
       "      <td>5389.000000</td>\n",
       "      <td>5389.000000</td>\n",
       "      <td>5389.0</td>\n",
       "      <td>5389.0</td>\n",
       "      <td>5389.000000</td>\n",
       "      <td>5389.000000</td>\n",
       "      <td>5389.000000</td>\n",
       "      <td>5389.000000</td>\n",
       "      <td>2963.000000</td>\n",
       "      <td>...</td>\n",
       "      <td>4279.000000</td>\n",
       "      <td>4312.000000</td>\n",
       "      <td>4279.000000</td>\n",
       "      <td>4312.000000</td>\n",
       "      <td>3.971000e+03</td>\n",
       "      <td>4.760000e+03</td>\n",
       "      <td>5.251000e+03</td>\n",
       "      <td>5.251000e+03</td>\n",
       "      <td>4.266000e+03</td>\n",
       "      <td>4.963000e+03</td>\n",
       "    </tr>\n",
       "    <tr>\n",
       "      <th>mean</th>\n",
       "      <td>2010.736315</td>\n",
       "      <td>242.804416</td>\n",
       "      <td>229.561329</td>\n",
       "      <td>1.0</td>\n",
       "      <td>1.0</td>\n",
       "      <td>2.793607</td>\n",
       "      <td>3.115838</td>\n",
       "      <td>5553.678048</td>\n",
       "      <td>5568.192615</td>\n",
       "      <td>5277.478907</td>\n",
       "      <td>...</td>\n",
       "      <td>27.128722</td>\n",
       "      <td>26.176971</td>\n",
       "      <td>34.273382</td>\n",
       "      <td>33.195524</td>\n",
       "      <td>1.190599e+05</td>\n",
       "      <td>9.570869e+04</td>\n",
       "      <td>9.914503e+04</td>\n",
       "      <td>3.953197e+04</td>\n",
       "      <td>1.120692e+05</td>\n",
       "      <td>9.310321e+04</td>\n",
       "    </tr>\n",
       "    <tr>\n",
       "      <th>std</th>\n",
       "      <td>5.999479</td>\n",
       "      <td>270.301258</td>\n",
       "      <td>270.202185</td>\n",
       "      <td>0.0</td>\n",
       "      <td>0.0</td>\n",
       "      <td>3.168939</td>\n",
       "      <td>2.825571</td>\n",
       "      <td>3880.743301</td>\n",
       "      <td>3874.969783</td>\n",
       "      <td>3829.956994</td>\n",
       "      <td>...</td>\n",
       "      <td>39.444938</td>\n",
       "      <td>34.161444</td>\n",
       "      <td>42.186821</td>\n",
       "      <td>37.343944</td>\n",
       "      <td>5.290237e+05</td>\n",
       "      <td>4.467355e+05</td>\n",
       "      <td>4.691038e+05</td>\n",
       "      <td>1.694444e+05</td>\n",
       "      <td>5.145707e+05</td>\n",
       "      <td>4.389921e+05</td>\n",
       "    </tr>\n",
       "    <tr>\n",
       "      <th>min</th>\n",
       "      <td>2000.000000</td>\n",
       "      <td>8.000000</td>\n",
       "      <td>8.000000</td>\n",
       "      <td>1.0</td>\n",
       "      <td>1.0</td>\n",
       "      <td>-11.000000</td>\n",
       "      <td>-10.000000</td>\n",
       "      <td>371.000000</td>\n",
       "      <td>412.000000</td>\n",
       "      <td>254.000000</td>\n",
       "      <td>...</td>\n",
       "      <td>0.500000</td>\n",
       "      <td>0.500000</td>\n",
       "      <td>1.500000</td>\n",
       "      <td>1.500000</td>\n",
       "      <td>1.000000e-03</td>\n",
       "      <td>9.000000e-03</td>\n",
       "      <td>1.000000e-02</td>\n",
       "      <td>0.000000e+00</td>\n",
       "      <td>2.000000e-03</td>\n",
       "      <td>1.200000e-02</td>\n",
       "    </tr>\n",
       "    <tr>\n",
       "      <th>25%</th>\n",
       "      <td>2006.000000</td>\n",
       "      <td>31.000000</td>\n",
       "      <td>31.000000</td>\n",
       "      <td>1.0</td>\n",
       "      <td>1.0</td>\n",
       "      <td>1.000000</td>\n",
       "      <td>2.000000</td>\n",
       "      <td>2516.000000</td>\n",
       "      <td>2520.000000</td>\n",
       "      <td>2378.500000</td>\n",
       "      <td>...</td>\n",
       "      <td>6.000000</td>\n",
       "      <td>5.000000</td>\n",
       "      <td>10.000000</td>\n",
       "      <td>8.500000</td>\n",
       "      <td>1.038185e+02</td>\n",
       "      <td>3.118675e+01</td>\n",
       "      <td>4.154600e+01</td>\n",
       "      <td>1.825600e+01</td>\n",
       "      <td>6.892500e+01</td>\n",
       "      <td>2.887800e+01</td>\n",
       "    </tr>\n",
       "    <tr>\n",
       "      <th>50%</th>\n",
       "      <td>2011.000000</td>\n",
       "      <td>44.000000</td>\n",
       "      <td>31.000000</td>\n",
       "      <td>1.0</td>\n",
       "      <td>1.0</td>\n",
       "      <td>4.000000</td>\n",
       "      <td>4.000000</td>\n",
       "      <td>4557.000000</td>\n",
       "      <td>4558.000000</td>\n",
       "      <td>3907.000000</td>\n",
       "      <td>...</td>\n",
       "      <td>10.000000</td>\n",
       "      <td>10.000000</td>\n",
       "      <td>16.000000</td>\n",
       "      <td>16.000000</td>\n",
       "      <td>3.157195e+03</td>\n",
       "      <td>8.356730e+02</td>\n",
       "      <td>1.316668e+03</td>\n",
       "      <td>3.881270e+02</td>\n",
       "      <td>2.278000e+03</td>\n",
       "      <td>7.956020e+02</td>\n",
       "    </tr>\n",
       "    <tr>\n",
       "      <th>75%</th>\n",
       "      <td>2016.000000</td>\n",
       "      <td>434.000000</td>\n",
       "      <td>422.000000</td>\n",
       "      <td>1.0</td>\n",
       "      <td>1.0</td>\n",
       "      <td>4.000000</td>\n",
       "      <td>4.000000</td>\n",
       "      <td>7056.000000</td>\n",
       "      <td>7059.000000</td>\n",
       "      <td>6881.000000</td>\n",
       "      <td>...</td>\n",
       "      <td>35.750000</td>\n",
       "      <td>35.000000</td>\n",
       "      <td>46.000000</td>\n",
       "      <td>45.000000</td>\n",
       "      <td>4.482271e+04</td>\n",
       "      <td>2.093573e+04</td>\n",
       "      <td>3.147828e+04</td>\n",
       "      <td>9.670257e+03</td>\n",
       "      <td>3.953531e+04</td>\n",
       "      <td>2.102228e+04</td>\n",
       "    </tr>\n",
       "    <tr>\n",
       "      <th>max</th>\n",
       "      <td>2020.000000</td>\n",
       "      <td>894.000000</td>\n",
       "      <td>894.000000</td>\n",
       "      <td>1.0</td>\n",
       "      <td>1.0</td>\n",
       "      <td>13.000000</td>\n",
       "      <td>13.000000</td>\n",
       "      <td>16884.000000</td>\n",
       "      <td>16884.000000</td>\n",
       "      <td>15516.000000</td>\n",
       "      <td>...</td>\n",
       "      <td>690.500000</td>\n",
       "      <td>230.000000</td>\n",
       "      <td>703.500000</td>\n",
       "      <td>250.000000</td>\n",
       "      <td>1.922014e+07</td>\n",
       "      <td>1.146601e+07</td>\n",
       "      <td>1.924018e+07</td>\n",
       "      <td>3.158459e+06</td>\n",
       "      <td>1.922001e+07</td>\n",
       "      <td>1.150286e+07</td>\n",
       "    </tr>\n",
       "  </tbody>\n",
       "</table>\n",
       "<p>8 rows × 80 columns</p>\n",
       "</div>"
      ],
      "text/plain": [
       "              year    iso3num_o    iso3num_d  country_exists_o  \\\n",
       "count  5389.000000  5389.000000  5389.000000            5389.0   \n",
       "mean   2010.736315   242.804416   229.561329               1.0   \n",
       "std       5.999479   270.301258   270.202185               0.0   \n",
       "min    2000.000000     8.000000     8.000000               1.0   \n",
       "25%    2006.000000    31.000000    31.000000               1.0   \n",
       "50%    2011.000000    44.000000    31.000000               1.0   \n",
       "75%    2016.000000   434.000000   422.000000               1.0   \n",
       "max    2020.000000   894.000000   894.000000               1.0   \n",
       "\n",
       "       country_exists_d  gmt_offset_2020_o  gmt_offset_2020_d  distw_harmonic  \\\n",
       "count            5389.0        5389.000000        5389.000000     5389.000000   \n",
       "mean                1.0           2.793607           3.115838     5553.678048   \n",
       "std                 0.0           3.168939           2.825571     3880.743301   \n",
       "min                 1.0         -11.000000         -10.000000      371.000000   \n",
       "25%                 1.0           1.000000           2.000000     2516.000000   \n",
       "50%                 1.0           4.000000           4.000000     4557.000000   \n",
       "75%                 1.0           4.000000           4.000000     7056.000000   \n",
       "max                 1.0          13.000000          13.000000    16884.000000   \n",
       "\n",
       "       distw_arithmetic  distw_harmonic_jh  ...  entry_time_o  entry_time_d  \\\n",
       "count       5389.000000        2963.000000  ...   4279.000000   4312.000000   \n",
       "mean        5568.192615        5277.478907  ...     27.128722     26.176971   \n",
       "std         3874.969783        3829.956994  ...     39.444938     34.161444   \n",
       "min          412.000000         254.000000  ...      0.500000      0.500000   \n",
       "25%         2520.000000        2378.500000  ...      6.000000      5.000000   \n",
       "50%         4558.000000        3907.000000  ...     10.000000     10.000000   \n",
       "75%         7059.000000        6881.000000  ...     35.750000     35.000000   \n",
       "max        16884.000000       15516.000000  ...    690.500000    230.000000   \n",
       "\n",
       "        entry_tp_o   entry_tp_d  tradeflow_comtrade_o  tradeflow_comtrade_d  \\\n",
       "count  4279.000000  4312.000000          3.971000e+03          4.760000e+03   \n",
       "mean     34.273382    33.195524          1.190599e+05          9.570869e+04   \n",
       "std      42.186821    37.343944          5.290237e+05          4.467355e+05   \n",
       "min       1.500000     1.500000          1.000000e-03          9.000000e-03   \n",
       "25%      10.000000     8.500000          1.038185e+02          3.118675e+01   \n",
       "50%      16.000000    16.000000          3.157195e+03          8.356730e+02   \n",
       "75%      46.000000    45.000000          4.482271e+04          2.093573e+04   \n",
       "max     703.500000   250.000000          1.922014e+07          1.146601e+07   \n",
       "\n",
       "       tradeflow_baci  manuf_tradeflow_baci  tradeflow_imf_o  tradeflow_imf_d  \n",
       "count    5.251000e+03          5.251000e+03     4.266000e+03     4.963000e+03  \n",
       "mean     9.914503e+04          3.953197e+04     1.120692e+05     9.310321e+04  \n",
       "std      4.691038e+05          1.694444e+05     5.145707e+05     4.389921e+05  \n",
       "min      1.000000e-02          0.000000e+00     2.000000e-03     1.200000e-02  \n",
       "25%      4.154600e+01          1.825600e+01     6.892500e+01     2.887800e+01  \n",
       "50%      1.316668e+03          3.881270e+02     2.278000e+03     7.956020e+02  \n",
       "75%      3.147828e+04          9.670257e+03     3.953531e+04     2.102228e+04  \n",
       "max      1.924018e+07          3.158459e+06     1.922001e+07     1.150286e+07  \n",
       "\n",
       "[8 rows x 80 columns]"
      ]
     },
     "execution_count": 17,
     "metadata": {},
     "output_type": "execute_result"
    }
   ],
   "source": [
    "gme_data.describe()"
   ]
  },
  {
   "cell_type": "markdown",
   "metadata": {},
   "source": [
    "| Column Name         | Description                                                  |\n",
    "|----------------------|--------------------------------------------------------------|\n",
    "| **year**            | Year of the trade flow data                                  |\n",
    "| **iso3_d**          | ISO 3166-1 alpha-3 code of the destination country           |\n",
    "| **iso3_o**          | ISO 3166-1 alpha-3 code of the origin country                |\n",
    "| **tradeflow_baci**  | Trade flow value according to the BACI dataset               |\n",
    "| **tradeflow_imf_o** | Trade flow value as reported by the origin country (IMF)     |\n",
    "| **tradeflow_imf_d** | Trade flow value as reported by the destination country (IMF)|\n",
    "| **gdp_d**           | GDP of the destination country                               |\n",
    "| **gdp_o**           | GDP of the origin country                                    |"
   ]
  },
  {
   "cell_type": "code",
   "execution_count": 18,
   "metadata": {},
   "outputs": [
    {
     "data": {
      "text/html": [
       "<div>\n",
       "<style scoped>\n",
       "    .dataframe tbody tr th:only-of-type {\n",
       "        vertical-align: middle;\n",
       "    }\n",
       "\n",
       "    .dataframe tbody tr th {\n",
       "        vertical-align: top;\n",
       "    }\n",
       "\n",
       "    .dataframe thead th {\n",
       "        text-align: right;\n",
       "    }\n",
       "</style>\n",
       "<table border=\"1\" class=\"dataframe\">\n",
       "  <thead>\n",
       "    <tr style=\"text-align: right;\">\n",
       "      <th></th>\n",
       "      <th>year</th>\n",
       "      <th>iso3_d</th>\n",
       "      <th>iso3_o</th>\n",
       "      <th>tradeflow_baci</th>\n",
       "      <th>tradeflow_imf_o</th>\n",
       "      <th>tradeflow_imf_d</th>\n",
       "      <th>gdp_d</th>\n",
       "      <th>gdp_o</th>\n",
       "    </tr>\n",
       "  </thead>\n",
       "  <tbody>\n",
       "    <tr>\n",
       "      <th>38460</th>\n",
       "      <td>2002</td>\n",
       "      <td>AZE</td>\n",
       "      <td>AGO</td>\n",
       "      <td>69.107</td>\n",
       "      <td>NaN</td>\n",
       "      <td>69.504</td>\n",
       "      <td>6.236025e+06</td>\n",
       "      <td>1.249735e+07</td>\n",
       "    </tr>\n",
       "    <tr>\n",
       "      <th>38462</th>\n",
       "      <td>2004</td>\n",
       "      <td>AZE</td>\n",
       "      <td>AGO</td>\n",
       "      <td>3.111</td>\n",
       "      <td>NaN</td>\n",
       "      <td>3.204</td>\n",
       "      <td>8.680511e+06</td>\n",
       "      <td>1.964086e+07</td>\n",
       "    </tr>\n",
       "    <tr>\n",
       "      <th>38463</th>\n",
       "      <td>2005</td>\n",
       "      <td>AZE</td>\n",
       "      <td>AGO</td>\n",
       "      <td>4.985</td>\n",
       "      <td>NaN</td>\n",
       "      <td>5.100</td>\n",
       "      <td>1.324542e+07</td>\n",
       "      <td>2.823370e+07</td>\n",
       "    </tr>\n",
       "    <tr>\n",
       "      <th>38464</th>\n",
       "      <td>2006</td>\n",
       "      <td>AZE</td>\n",
       "      <td>AGO</td>\n",
       "      <td>20.962</td>\n",
       "      <td>NaN</td>\n",
       "      <td>21.804</td>\n",
       "      <td>2.098227e+07</td>\n",
       "      <td>4.178949e+07</td>\n",
       "    </tr>\n",
       "    <tr>\n",
       "      <th>38465</th>\n",
       "      <td>2007</td>\n",
       "      <td>AZE</td>\n",
       "      <td>AGO</td>\n",
       "      <td>33.581</td>\n",
       "      <td>NaN</td>\n",
       "      <td>34.200</td>\n",
       "      <td>3.305034e+07</td>\n",
       "      <td>6.044889e+07</td>\n",
       "    </tr>\n",
       "    <tr>\n",
       "      <th>38466</th>\n",
       "      <td>2008</td>\n",
       "      <td>AZE</td>\n",
       "      <td>AGO</td>\n",
       "      <td>277.113</td>\n",
       "      <td>NaN</td>\n",
       "      <td>279.096</td>\n",
       "      <td>4.885248e+07</td>\n",
       "      <td>8.417808e+07</td>\n",
       "    </tr>\n",
       "    <tr>\n",
       "      <th>38467</th>\n",
       "      <td>2009</td>\n",
       "      <td>AZE</td>\n",
       "      <td>AGO</td>\n",
       "      <td>2.567</td>\n",
       "      <td>NaN</td>\n",
       "      <td>2.604</td>\n",
       "      <td>4.429149e+07</td>\n",
       "      <td>7.549242e+07</td>\n",
       "    </tr>\n",
       "    <tr>\n",
       "      <th>38468</th>\n",
       "      <td>2010</td>\n",
       "      <td>AZE</td>\n",
       "      <td>AGO</td>\n",
       "      <td>5.766</td>\n",
       "      <td>NaN</td>\n",
       "      <td>5.800</td>\n",
       "      <td>5.290270e+07</td>\n",
       "      <td>8.247090e+07</td>\n",
       "    </tr>\n",
       "    <tr>\n",
       "      <th>38469</th>\n",
       "      <td>2011</td>\n",
       "      <td>AZE</td>\n",
       "      <td>AGO</td>\n",
       "      <td>3.643</td>\n",
       "      <td>NaN</td>\n",
       "      <td>3.700</td>\n",
       "      <td>6.595163e+07</td>\n",
       "      <td>1.041159e+08</td>\n",
       "    </tr>\n",
       "    <tr>\n",
       "      <th>38471</th>\n",
       "      <td>2013</td>\n",
       "      <td>AZE</td>\n",
       "      <td>AGO</td>\n",
       "      <td>12.555</td>\n",
       "      <td>NaN</td>\n",
       "      <td>12.600</td>\n",
       "      <td>7.356048e+07</td>\n",
       "      <td>1.241782e+08</td>\n",
       "    </tr>\n",
       "  </tbody>\n",
       "</table>\n",
       "</div>"
      ],
      "text/plain": [
       "       year iso3_d iso3_o  tradeflow_baci  tradeflow_imf_o  tradeflow_imf_d  \\\n",
       "38460  2002    AZE    AGO          69.107              NaN           69.504   \n",
       "38462  2004    AZE    AGO           3.111              NaN            3.204   \n",
       "38463  2005    AZE    AGO           4.985              NaN            5.100   \n",
       "38464  2006    AZE    AGO          20.962              NaN           21.804   \n",
       "38465  2007    AZE    AGO          33.581              NaN           34.200   \n",
       "38466  2008    AZE    AGO         277.113              NaN          279.096   \n",
       "38467  2009    AZE    AGO           2.567              NaN            2.604   \n",
       "38468  2010    AZE    AGO           5.766              NaN            5.800   \n",
       "38469  2011    AZE    AGO           3.643              NaN            3.700   \n",
       "38471  2013    AZE    AGO          12.555              NaN           12.600   \n",
       "\n",
       "              gdp_d         gdp_o  \n",
       "38460  6.236025e+06  1.249735e+07  \n",
       "38462  8.680511e+06  1.964086e+07  \n",
       "38463  1.324542e+07  2.823370e+07  \n",
       "38464  2.098227e+07  4.178949e+07  \n",
       "38465  3.305034e+07  6.044889e+07  \n",
       "38466  4.885248e+07  8.417808e+07  \n",
       "38467  4.429149e+07  7.549242e+07  \n",
       "38468  5.290270e+07  8.247090e+07  \n",
       "38469  6.595163e+07  1.041159e+08  \n",
       "38471  7.356048e+07  1.241782e+08  "
      ]
     },
     "execution_count": 18,
     "metadata": {},
     "output_type": "execute_result"
    }
   ],
   "source": [
    "#you can add other variables to the data set, as long as they are present in the data frame.\n",
    "\n",
    "filtered_data_custom = filtered_data[['year','iso3_d', 'iso3_o', 'tradeflow_baci', 'tradeflow_imf_o', 'tradeflow_imf_d','gdp_d','gdp_o']]\n",
    "filtered_data_custom.head(10)"
   ]
  },
  {
   "cell_type": "code",
   "execution_count": 19,
   "metadata": {},
   "outputs": [
    {
     "name": "stderr",
     "output_type": "stream",
     "text": [
      "/var/folders/9w/mh3y2sps7_v81cj0mntlqn3c0000gr/T/ipykernel_4212/2989868126.py:7: SettingWithCopyWarning: \n",
      "A value is trying to be set on a copy of a slice from a DataFrame.\n",
      "Try using .loc[row_indexer,col_indexer] = value instead\n",
      "\n",
      "See the caveats in the documentation: https://pandas.pydata.org/pandas-docs/stable/user_guide/indexing.html#returning-a-view-versus-a-copy\n",
      "  filtered_data_custom['Flow'] = filtered_data_custom['iso3_d'].astype(str) + '->' + filtered_data_custom['iso3_o'].astype(str)\n"
     ]
    },
    {
     "data": {
      "text/html": [
       "<div>\n",
       "<style scoped>\n",
       "    .dataframe tbody tr th:only-of-type {\n",
       "        vertical-align: middle;\n",
       "    }\n",
       "\n",
       "    .dataframe tbody tr th {\n",
       "        vertical-align: top;\n",
       "    }\n",
       "\n",
       "    .dataframe thead th {\n",
       "        text-align: right;\n",
       "    }\n",
       "</style>\n",
       "<table border=\"1\" class=\"dataframe\">\n",
       "  <thead>\n",
       "    <tr style=\"text-align: right;\">\n",
       "      <th></th>\n",
       "      <th>year</th>\n",
       "      <th>iso3_d</th>\n",
       "      <th>iso3_o</th>\n",
       "      <th>tradeflow_baci</th>\n",
       "      <th>tradeflow_imf_o</th>\n",
       "      <th>tradeflow_imf_d</th>\n",
       "      <th>Flow</th>\n",
       "    </tr>\n",
       "  </thead>\n",
       "  <tbody>\n",
       "    <tr>\n",
       "      <th>38460</th>\n",
       "      <td>2002</td>\n",
       "      <td>AZE</td>\n",
       "      <td>AGO</td>\n",
       "      <td>69.107</td>\n",
       "      <td>NaN</td>\n",
       "      <td>69.504</td>\n",
       "      <td>AZE-&gt;AGO</td>\n",
       "    </tr>\n",
       "    <tr>\n",
       "      <th>38462</th>\n",
       "      <td>2004</td>\n",
       "      <td>AZE</td>\n",
       "      <td>AGO</td>\n",
       "      <td>3.111</td>\n",
       "      <td>NaN</td>\n",
       "      <td>3.204</td>\n",
       "      <td>AZE-&gt;AGO</td>\n",
       "    </tr>\n",
       "    <tr>\n",
       "      <th>38463</th>\n",
       "      <td>2005</td>\n",
       "      <td>AZE</td>\n",
       "      <td>AGO</td>\n",
       "      <td>4.985</td>\n",
       "      <td>NaN</td>\n",
       "      <td>5.100</td>\n",
       "      <td>AZE-&gt;AGO</td>\n",
       "    </tr>\n",
       "    <tr>\n",
       "      <th>38464</th>\n",
       "      <td>2006</td>\n",
       "      <td>AZE</td>\n",
       "      <td>AGO</td>\n",
       "      <td>20.962</td>\n",
       "      <td>NaN</td>\n",
       "      <td>21.804</td>\n",
       "      <td>AZE-&gt;AGO</td>\n",
       "    </tr>\n",
       "    <tr>\n",
       "      <th>38465</th>\n",
       "      <td>2007</td>\n",
       "      <td>AZE</td>\n",
       "      <td>AGO</td>\n",
       "      <td>33.581</td>\n",
       "      <td>NaN</td>\n",
       "      <td>34.200</td>\n",
       "      <td>AZE-&gt;AGO</td>\n",
       "    </tr>\n",
       "    <tr>\n",
       "      <th>38466</th>\n",
       "      <td>2008</td>\n",
       "      <td>AZE</td>\n",
       "      <td>AGO</td>\n",
       "      <td>277.113</td>\n",
       "      <td>NaN</td>\n",
       "      <td>279.096</td>\n",
       "      <td>AZE-&gt;AGO</td>\n",
       "    </tr>\n",
       "    <tr>\n",
       "      <th>38467</th>\n",
       "      <td>2009</td>\n",
       "      <td>AZE</td>\n",
       "      <td>AGO</td>\n",
       "      <td>2.567</td>\n",
       "      <td>NaN</td>\n",
       "      <td>2.604</td>\n",
       "      <td>AZE-&gt;AGO</td>\n",
       "    </tr>\n",
       "    <tr>\n",
       "      <th>38468</th>\n",
       "      <td>2010</td>\n",
       "      <td>AZE</td>\n",
       "      <td>AGO</td>\n",
       "      <td>5.766</td>\n",
       "      <td>NaN</td>\n",
       "      <td>5.800</td>\n",
       "      <td>AZE-&gt;AGO</td>\n",
       "    </tr>\n",
       "    <tr>\n",
       "      <th>38469</th>\n",
       "      <td>2011</td>\n",
       "      <td>AZE</td>\n",
       "      <td>AGO</td>\n",
       "      <td>3.643</td>\n",
       "      <td>NaN</td>\n",
       "      <td>3.700</td>\n",
       "      <td>AZE-&gt;AGO</td>\n",
       "    </tr>\n",
       "    <tr>\n",
       "      <th>38471</th>\n",
       "      <td>2013</td>\n",
       "      <td>AZE</td>\n",
       "      <td>AGO</td>\n",
       "      <td>12.555</td>\n",
       "      <td>NaN</td>\n",
       "      <td>12.600</td>\n",
       "      <td>AZE-&gt;AGO</td>\n",
       "    </tr>\n",
       "  </tbody>\n",
       "</table>\n",
       "</div>"
      ],
      "text/plain": [
       "       year iso3_d iso3_o  tradeflow_baci  tradeflow_imf_o  tradeflow_imf_d  \\\n",
       "38460  2002    AZE    AGO          69.107              NaN           69.504   \n",
       "38462  2004    AZE    AGO           3.111              NaN            3.204   \n",
       "38463  2005    AZE    AGO           4.985              NaN            5.100   \n",
       "38464  2006    AZE    AGO          20.962              NaN           21.804   \n",
       "38465  2007    AZE    AGO          33.581              NaN           34.200   \n",
       "38466  2008    AZE    AGO         277.113              NaN          279.096   \n",
       "38467  2009    AZE    AGO           2.567              NaN            2.604   \n",
       "38468  2010    AZE    AGO           5.766              NaN            5.800   \n",
       "38469  2011    AZE    AGO           3.643              NaN            3.700   \n",
       "38471  2013    AZE    AGO          12.555              NaN           12.600   \n",
       "\n",
       "           Flow  \n",
       "38460  AZE->AGO  \n",
       "38462  AZE->AGO  \n",
       "38463  AZE->AGO  \n",
       "38464  AZE->AGO  \n",
       "38465  AZE->AGO  \n",
       "38466  AZE->AGO  \n",
       "38467  AZE->AGO  \n",
       "38468  AZE->AGO  \n",
       "38469  AZE->AGO  \n",
       "38471  AZE->AGO  "
      ]
     },
     "execution_count": 19,
     "metadata": {},
     "output_type": "execute_result"
    }
   ],
   "source": [
    "# to add the new variables to the data set to consolodate the data for further analysis\n",
    "\n",
    "filtered_data_custom = filtered_data[['year', 'iso3_d', 'iso3_o', \n",
    "                                     'tradeflow_baci', 'tradeflow_imf_o', \n",
    "                                     'tradeflow_imf_d']]\n",
    "\n",
    "filtered_data_custom['Flow'] = filtered_data_custom['iso3_d'].astype(str) + '->' + filtered_data_custom['iso3_o'].astype(str)\n",
    "\n",
    "filtered_data_custom.head(10)"
   ]
  },
  {
   "cell_type": "code",
   "execution_count": 23,
   "metadata": {},
   "outputs": [
    {
     "data": {
      "application/vnd.plotly.v1+json": {
       "config": {
        "plotlyServerURL": "https://plot.ly"
       },
       "data": [
        {
         "domain": {
          "x": [
           0,
           1
          ],
          "y": [
           0,
           1
          ]
         },
         "hovertemplate": "Partner=%{label}<br>tradeflow_baci=%{value}<extra></extra>",
         "labels": [
          "ITA",
          "RUS",
          "TUR",
          "ISR",
          "FRA",
          "TUR",
          "USA",
          "GBR",
          "DEU",
          "CHN"
         ],
         "legendgroup": "",
         "name": "",
         "pull": [
          0.05,
          0.05,
          0.05,
          0.05,
          0.05,
          0.05,
          0.05,
          0.05,
          0.05,
          0.05
         ],
         "showlegend": true,
         "textinfo": "percent",
         "type": "pie",
         "values": [
          95355251.496,
          30258384.295,
          29816203.091,
          19481326.503,
          18980084.844,
          17372503.455,
          16578702.978,
          14466517.163,
          13655095.175999999,
          12858896.754
         ]
        }
       ],
       "layout": {
        "legend": {
         "tracegroupgap": 0
        },
        "template": {
         "data": {
          "bar": [
           {
            "error_x": {
             "color": "#2a3f5f"
            },
            "error_y": {
             "color": "#2a3f5f"
            },
            "marker": {
             "line": {
              "color": "#E5ECF6",
              "width": 0.5
             },
             "pattern": {
              "fillmode": "overlay",
              "size": 10,
              "solidity": 0.2
             }
            },
            "type": "bar"
           }
          ],
          "barpolar": [
           {
            "marker": {
             "line": {
              "color": "#E5ECF6",
              "width": 0.5
             },
             "pattern": {
              "fillmode": "overlay",
              "size": 10,
              "solidity": 0.2
             }
            },
            "type": "barpolar"
           }
          ],
          "carpet": [
           {
            "aaxis": {
             "endlinecolor": "#2a3f5f",
             "gridcolor": "white",
             "linecolor": "white",
             "minorgridcolor": "white",
             "startlinecolor": "#2a3f5f"
            },
            "baxis": {
             "endlinecolor": "#2a3f5f",
             "gridcolor": "white",
             "linecolor": "white",
             "minorgridcolor": "white",
             "startlinecolor": "#2a3f5f"
            },
            "type": "carpet"
           }
          ],
          "choropleth": [
           {
            "colorbar": {
             "outlinewidth": 0,
             "ticks": ""
            },
            "type": "choropleth"
           }
          ],
          "contour": [
           {
            "colorbar": {
             "outlinewidth": 0,
             "ticks": ""
            },
            "colorscale": [
             [
              0,
              "#0d0887"
             ],
             [
              0.1111111111111111,
              "#46039f"
             ],
             [
              0.2222222222222222,
              "#7201a8"
             ],
             [
              0.3333333333333333,
              "#9c179e"
             ],
             [
              0.4444444444444444,
              "#bd3786"
             ],
             [
              0.5555555555555556,
              "#d8576b"
             ],
             [
              0.6666666666666666,
              "#ed7953"
             ],
             [
              0.7777777777777778,
              "#fb9f3a"
             ],
             [
              0.8888888888888888,
              "#fdca26"
             ],
             [
              1,
              "#f0f921"
             ]
            ],
            "type": "contour"
           }
          ],
          "contourcarpet": [
           {
            "colorbar": {
             "outlinewidth": 0,
             "ticks": ""
            },
            "type": "contourcarpet"
           }
          ],
          "heatmap": [
           {
            "colorbar": {
             "outlinewidth": 0,
             "ticks": ""
            },
            "colorscale": [
             [
              0,
              "#0d0887"
             ],
             [
              0.1111111111111111,
              "#46039f"
             ],
             [
              0.2222222222222222,
              "#7201a8"
             ],
             [
              0.3333333333333333,
              "#9c179e"
             ],
             [
              0.4444444444444444,
              "#bd3786"
             ],
             [
              0.5555555555555556,
              "#d8576b"
             ],
             [
              0.6666666666666666,
              "#ed7953"
             ],
             [
              0.7777777777777778,
              "#fb9f3a"
             ],
             [
              0.8888888888888888,
              "#fdca26"
             ],
             [
              1,
              "#f0f921"
             ]
            ],
            "type": "heatmap"
           }
          ],
          "heatmapgl": [
           {
            "colorbar": {
             "outlinewidth": 0,
             "ticks": ""
            },
            "colorscale": [
             [
              0,
              "#0d0887"
             ],
             [
              0.1111111111111111,
              "#46039f"
             ],
             [
              0.2222222222222222,
              "#7201a8"
             ],
             [
              0.3333333333333333,
              "#9c179e"
             ],
             [
              0.4444444444444444,
              "#bd3786"
             ],
             [
              0.5555555555555556,
              "#d8576b"
             ],
             [
              0.6666666666666666,
              "#ed7953"
             ],
             [
              0.7777777777777778,
              "#fb9f3a"
             ],
             [
              0.8888888888888888,
              "#fdca26"
             ],
             [
              1,
              "#f0f921"
             ]
            ],
            "type": "heatmapgl"
           }
          ],
          "histogram": [
           {
            "marker": {
             "pattern": {
              "fillmode": "overlay",
              "size": 10,
              "solidity": 0.2
             }
            },
            "type": "histogram"
           }
          ],
          "histogram2d": [
           {
            "colorbar": {
             "outlinewidth": 0,
             "ticks": ""
            },
            "colorscale": [
             [
              0,
              "#0d0887"
             ],
             [
              0.1111111111111111,
              "#46039f"
             ],
             [
              0.2222222222222222,
              "#7201a8"
             ],
             [
              0.3333333333333333,
              "#9c179e"
             ],
             [
              0.4444444444444444,
              "#bd3786"
             ],
             [
              0.5555555555555556,
              "#d8576b"
             ],
             [
              0.6666666666666666,
              "#ed7953"
             ],
             [
              0.7777777777777778,
              "#fb9f3a"
             ],
             [
              0.8888888888888888,
              "#fdca26"
             ],
             [
              1,
              "#f0f921"
             ]
            ],
            "type": "histogram2d"
           }
          ],
          "histogram2dcontour": [
           {
            "colorbar": {
             "outlinewidth": 0,
             "ticks": ""
            },
            "colorscale": [
             [
              0,
              "#0d0887"
             ],
             [
              0.1111111111111111,
              "#46039f"
             ],
             [
              0.2222222222222222,
              "#7201a8"
             ],
             [
              0.3333333333333333,
              "#9c179e"
             ],
             [
              0.4444444444444444,
              "#bd3786"
             ],
             [
              0.5555555555555556,
              "#d8576b"
             ],
             [
              0.6666666666666666,
              "#ed7953"
             ],
             [
              0.7777777777777778,
              "#fb9f3a"
             ],
             [
              0.8888888888888888,
              "#fdca26"
             ],
             [
              1,
              "#f0f921"
             ]
            ],
            "type": "histogram2dcontour"
           }
          ],
          "mesh3d": [
           {
            "colorbar": {
             "outlinewidth": 0,
             "ticks": ""
            },
            "type": "mesh3d"
           }
          ],
          "parcoords": [
           {
            "line": {
             "colorbar": {
              "outlinewidth": 0,
              "ticks": ""
             }
            },
            "type": "parcoords"
           }
          ],
          "pie": [
           {
            "automargin": true,
            "type": "pie"
           }
          ],
          "scatter": [
           {
            "fillpattern": {
             "fillmode": "overlay",
             "size": 10,
             "solidity": 0.2
            },
            "type": "scatter"
           }
          ],
          "scatter3d": [
           {
            "line": {
             "colorbar": {
              "outlinewidth": 0,
              "ticks": ""
             }
            },
            "marker": {
             "colorbar": {
              "outlinewidth": 0,
              "ticks": ""
             }
            },
            "type": "scatter3d"
           }
          ],
          "scattercarpet": [
           {
            "marker": {
             "colorbar": {
              "outlinewidth": 0,
              "ticks": ""
             }
            },
            "type": "scattercarpet"
           }
          ],
          "scattergeo": [
           {
            "marker": {
             "colorbar": {
              "outlinewidth": 0,
              "ticks": ""
             }
            },
            "type": "scattergeo"
           }
          ],
          "scattergl": [
           {
            "marker": {
             "colorbar": {
              "outlinewidth": 0,
              "ticks": ""
             }
            },
            "type": "scattergl"
           }
          ],
          "scattermapbox": [
           {
            "marker": {
             "colorbar": {
              "outlinewidth": 0,
              "ticks": ""
             }
            },
            "type": "scattermapbox"
           }
          ],
          "scatterpolar": [
           {
            "marker": {
             "colorbar": {
              "outlinewidth": 0,
              "ticks": ""
             }
            },
            "type": "scatterpolar"
           }
          ],
          "scatterpolargl": [
           {
            "marker": {
             "colorbar": {
              "outlinewidth": 0,
              "ticks": ""
             }
            },
            "type": "scatterpolargl"
           }
          ],
          "scatterternary": [
           {
            "marker": {
             "colorbar": {
              "outlinewidth": 0,
              "ticks": ""
             }
            },
            "type": "scatterternary"
           }
          ],
          "surface": [
           {
            "colorbar": {
             "outlinewidth": 0,
             "ticks": ""
            },
            "colorscale": [
             [
              0,
              "#0d0887"
             ],
             [
              0.1111111111111111,
              "#46039f"
             ],
             [
              0.2222222222222222,
              "#7201a8"
             ],
             [
              0.3333333333333333,
              "#9c179e"
             ],
             [
              0.4444444444444444,
              "#bd3786"
             ],
             [
              0.5555555555555556,
              "#d8576b"
             ],
             [
              0.6666666666666666,
              "#ed7953"
             ],
             [
              0.7777777777777778,
              "#fb9f3a"
             ],
             [
              0.8888888888888888,
              "#fdca26"
             ],
             [
              1,
              "#f0f921"
             ]
            ],
            "type": "surface"
           }
          ],
          "table": [
           {
            "cells": {
             "fill": {
              "color": "#EBF0F8"
             },
             "line": {
              "color": "white"
             }
            },
            "header": {
             "fill": {
              "color": "#C8D4E3"
             },
             "line": {
              "color": "white"
             }
            },
            "type": "table"
           }
          ]
         },
         "layout": {
          "annotationdefaults": {
           "arrowcolor": "#2a3f5f",
           "arrowhead": 0,
           "arrowwidth": 1
          },
          "autotypenumbers": "strict",
          "coloraxis": {
           "colorbar": {
            "outlinewidth": 0,
            "ticks": ""
           }
          },
          "colorscale": {
           "diverging": [
            [
             0,
             "#8e0152"
            ],
            [
             0.1,
             "#c51b7d"
            ],
            [
             0.2,
             "#de77ae"
            ],
            [
             0.3,
             "#f1b6da"
            ],
            [
             0.4,
             "#fde0ef"
            ],
            [
             0.5,
             "#f7f7f7"
            ],
            [
             0.6,
             "#e6f5d0"
            ],
            [
             0.7,
             "#b8e186"
            ],
            [
             0.8,
             "#7fbc41"
            ],
            [
             0.9,
             "#4d9221"
            ],
            [
             1,
             "#276419"
            ]
           ],
           "sequential": [
            [
             0,
             "#0d0887"
            ],
            [
             0.1111111111111111,
             "#46039f"
            ],
            [
             0.2222222222222222,
             "#7201a8"
            ],
            [
             0.3333333333333333,
             "#9c179e"
            ],
            [
             0.4444444444444444,
             "#bd3786"
            ],
            [
             0.5555555555555556,
             "#d8576b"
            ],
            [
             0.6666666666666666,
             "#ed7953"
            ],
            [
             0.7777777777777778,
             "#fb9f3a"
            ],
            [
             0.8888888888888888,
             "#fdca26"
            ],
            [
             1,
             "#f0f921"
            ]
           ],
           "sequentialminus": [
            [
             0,
             "#0d0887"
            ],
            [
             0.1111111111111111,
             "#46039f"
            ],
            [
             0.2222222222222222,
             "#7201a8"
            ],
            [
             0.3333333333333333,
             "#9c179e"
            ],
            [
             0.4444444444444444,
             "#bd3786"
            ],
            [
             0.5555555555555556,
             "#d8576b"
            ],
            [
             0.6666666666666666,
             "#ed7953"
            ],
            [
             0.7777777777777778,
             "#fb9f3a"
            ],
            [
             0.8888888888888888,
             "#fdca26"
            ],
            [
             1,
             "#f0f921"
            ]
           ]
          },
          "colorway": [
           "#636efa",
           "#EF553B",
           "#00cc96",
           "#ab63fa",
           "#FFA15A",
           "#19d3f3",
           "#FF6692",
           "#B6E880",
           "#FF97FF",
           "#FECB52"
          ],
          "font": {
           "color": "#2a3f5f"
          },
          "geo": {
           "bgcolor": "white",
           "lakecolor": "white",
           "landcolor": "#E5ECF6",
           "showlakes": true,
           "showland": true,
           "subunitcolor": "white"
          },
          "hoverlabel": {
           "align": "left"
          },
          "hovermode": "closest",
          "mapbox": {
           "style": "light"
          },
          "paper_bgcolor": "white",
          "plot_bgcolor": "#E5ECF6",
          "polar": {
           "angularaxis": {
            "gridcolor": "white",
            "linecolor": "white",
            "ticks": ""
           },
           "bgcolor": "#E5ECF6",
           "radialaxis": {
            "gridcolor": "white",
            "linecolor": "white",
            "ticks": ""
           }
          },
          "scene": {
           "xaxis": {
            "backgroundcolor": "#E5ECF6",
            "gridcolor": "white",
            "gridwidth": 2,
            "linecolor": "white",
            "showbackground": true,
            "ticks": "",
            "zerolinecolor": "white"
           },
           "yaxis": {
            "backgroundcolor": "#E5ECF6",
            "gridcolor": "white",
            "gridwidth": 2,
            "linecolor": "white",
            "showbackground": true,
            "ticks": "",
            "zerolinecolor": "white"
           },
           "zaxis": {
            "backgroundcolor": "#E5ECF6",
            "gridcolor": "white",
            "gridwidth": 2,
            "linecolor": "white",
            "showbackground": true,
            "ticks": "",
            "zerolinecolor": "white"
           }
          },
          "shapedefaults": {
           "line": {
            "color": "#2a3f5f"
           }
          },
          "ternary": {
           "aaxis": {
            "gridcolor": "white",
            "linecolor": "white",
            "ticks": ""
           },
           "baxis": {
            "gridcolor": "white",
            "linecolor": "white",
            "ticks": ""
           },
           "bgcolor": "#E5ECF6",
           "caxis": {
            "gridcolor": "white",
            "linecolor": "white",
            "ticks": ""
           }
          },
          "title": {
           "x": 0.05
          },
          "xaxis": {
           "automargin": true,
           "gridcolor": "white",
           "linecolor": "white",
           "ticks": "",
           "title": {
            "standoff": 15
           },
           "zerolinecolor": "white",
           "zerolinewidth": 2
          },
          "yaxis": {
           "automargin": true,
           "gridcolor": "white",
           "linecolor": "white",
           "ticks": "",
           "title": {
            "standoff": 15
           },
           "zerolinecolor": "white",
           "zerolinewidth": 2
          }
         }
        },
        "title": {
         "text": "Top 10 consolidated Trading Partners by 'tradeflow baci' for 2000 till 2020"
        }
       }
      }
     },
     "metadata": {},
     "output_type": "display_data"
    },
    {
     "data": {
      "text/html": [
       "<div>\n",
       "<style scoped>\n",
       "    .dataframe tbody tr th:only-of-type {\n",
       "        vertical-align: middle;\n",
       "    }\n",
       "\n",
       "    .dataframe tbody tr th {\n",
       "        vertical-align: top;\n",
       "    }\n",
       "\n",
       "    .dataframe thead th {\n",
       "        text-align: right;\n",
       "    }\n",
       "</style>\n",
       "<table border=\"1\" class=\"dataframe\">\n",
       "  <thead>\n",
       "    <tr style=\"text-align: right;\">\n",
       "      <th></th>\n",
       "      <th>Flow</th>\n",
       "      <th>tradeflow_baci</th>\n",
       "      <th>tradeflow_imf_o</th>\n",
       "      <th>tradeflow_imf_d</th>\n",
       "    </tr>\n",
       "  </thead>\n",
       "  <tbody>\n",
       "    <tr>\n",
       "      <th>283</th>\n",
       "      <td>ITA-&gt;AZE</td>\n",
       "      <td>9.535525e+07</td>\n",
       "      <td>9.460031e+07</td>\n",
       "      <td>9.491047e+07</td>\n",
       "    </tr>\n",
       "    <tr>\n",
       "      <th>161</th>\n",
       "      <td>AZE-&gt;RUS</td>\n",
       "      <td>3.025838e+07</td>\n",
       "      <td>3.278231e+07</td>\n",
       "      <td>2.471699e+07</td>\n",
       "    </tr>\n",
       "    <tr>\n",
       "      <th>191</th>\n",
       "      <td>AZE-&gt;TUR</td>\n",
       "      <td>2.981620e+07</td>\n",
       "      <td>2.970976e+07</td>\n",
       "      <td>1.864745e+07</td>\n",
       "    </tr>\n",
       "    <tr>\n",
       "      <th>282</th>\n",
       "      <td>ISR-&gt;AZE</td>\n",
       "      <td>1.948133e+07</td>\n",
       "      <td>1.944815e+07</td>\n",
       "      <td>3.449300e+04</td>\n",
       "    </tr>\n",
       "    <tr>\n",
       "      <th>255</th>\n",
       "      <td>FRA-&gt;AZE</td>\n",
       "      <td>1.898008e+07</td>\n",
       "      <td>1.873932e+07</td>\n",
       "      <td>2.577318e+07</td>\n",
       "    </tr>\n",
       "    <tr>\n",
       "      <th>368</th>\n",
       "      <td>TUR-&gt;AZE</td>\n",
       "      <td>1.737250e+07</td>\n",
       "      <td>1.659803e+07</td>\n",
       "      <td>7.982200e+06</td>\n",
       "    </tr>\n",
       "    <tr>\n",
       "      <th>375</th>\n",
       "      <td>USA-&gt;AZE</td>\n",
       "      <td>1.657870e+07</td>\n",
       "      <td>1.653319e+07</td>\n",
       "      <td>1.852974e+07</td>\n",
       "    </tr>\n",
       "    <tr>\n",
       "      <th>73</th>\n",
       "      <td>AZE-&gt;GBR</td>\n",
       "      <td>1.446652e+07</td>\n",
       "      <td>1.407403e+07</td>\n",
       "      <td>8.495471e+06</td>\n",
       "    </tr>\n",
       "    <tr>\n",
       "      <th>242</th>\n",
       "      <td>DEU-&gt;AZE</td>\n",
       "      <td>1.365510e+07</td>\n",
       "      <td>9.463073e+06</td>\n",
       "      <td>2.981451e+07</td>\n",
       "    </tr>\n",
       "    <tr>\n",
       "      <th>42</th>\n",
       "      <td>AZE-&gt;CHN</td>\n",
       "      <td>1.285890e+07</td>\n",
       "      <td>9.997663e+06</td>\n",
       "      <td>1.121552e+07</td>\n",
       "    </tr>\n",
       "  </tbody>\n",
       "</table>\n",
       "</div>"
      ],
      "text/plain": [
       "         Flow  tradeflow_baci  tradeflow_imf_o  tradeflow_imf_d\n",
       "283  ITA->AZE    9.535525e+07     9.460031e+07     9.491047e+07\n",
       "161  AZE->RUS    3.025838e+07     3.278231e+07     2.471699e+07\n",
       "191  AZE->TUR    2.981620e+07     2.970976e+07     1.864745e+07\n",
       "282  ISR->AZE    1.948133e+07     1.944815e+07     3.449300e+04\n",
       "255  FRA->AZE    1.898008e+07     1.873932e+07     2.577318e+07\n",
       "368  TUR->AZE    1.737250e+07     1.659803e+07     7.982200e+06\n",
       "375  USA->AZE    1.657870e+07     1.653319e+07     1.852974e+07\n",
       "73   AZE->GBR    1.446652e+07     1.407403e+07     8.495471e+06\n",
       "242  DEU->AZE    1.365510e+07     9.463073e+06     2.981451e+07\n",
       "42   AZE->CHN    1.285890e+07     9.997663e+06     1.121552e+07"
      ]
     },
     "execution_count": 23,
     "metadata": {},
     "output_type": "execute_result"
    }
   ],
   "source": [
    "\n",
    "df_simplified = (\n",
    "    filtered_data_custom\n",
    "    .groupby('Flow', as_index=False)\n",
    "    .agg({\n",
    "        'tradeflow_baci': 'sum',\n",
    "        'tradeflow_imf_o': 'sum',\n",
    "        'tradeflow_imf_d': 'sum'\n",
    "    })\n",
    "    .sort_values(by='tradeflow_baci', ascending=False)\n",
    ")\n",
    "\n",
    "df_simplified_aze = df_simplified[\n",
    "    df_simplified['Flow'].str.contains('AZE->') | df_simplified['Flow'].str.contains('->AZE')\n",
    "]\n",
    "\n",
    "df_simplified_aze = df_simplified_aze[\n",
    "    df_simplified_aze['Flow'].str.split('->').str[0] \n",
    "    != df_simplified_aze['Flow'].str.split('->').str[1]\n",
    "]\n",
    "\n",
    "def get_partner(flow_string):\n",
    "    origin, destination = flow_string.split('->')\n",
    "    return destination if origin == 'AZE' else origin\n",
    "\n",
    "df_simplified_aze['Partner'] = df_simplified_aze['Flow'].apply(get_partner)\n",
    "\n",
    "df_simplified_aze_top10 = df_simplified_aze.head(10).copy()\n",
    "\n",
    "fig = px.pie(\n",
    "    df_simplified_aze_top10,\n",
    "    values='tradeflow_baci',\n",
    "    names='Partner',\n",
    "    title=\"Top 10 consolidated Trading Partners by 'tradeflow baci' for 2000 till 2020\"\n",
    ")\n",
    "\n",
    "fig.update_traces(\n",
    "    pull=[0.05]*len(df_simplified_aze_top10),\n",
    "    textinfo='percent'\n",
    ")\n",
    "\n",
    "fig.show()\n",
    "\n",
    "df_simplified.head(10)\n"
   ]
  },
  {
   "cell_type": "code",
   "execution_count": 24,
   "metadata": {},
   "outputs": [
    {
     "data": {
      "text/html": [
       "<div>\n",
       "<style scoped>\n",
       "    .dataframe tbody tr th:only-of-type {\n",
       "        vertical-align: middle;\n",
       "    }\n",
       "\n",
       "    .dataframe tbody tr th {\n",
       "        vertical-align: top;\n",
       "    }\n",
       "\n",
       "    .dataframe thead th {\n",
       "        text-align: right;\n",
       "    }\n",
       "</style>\n",
       "<table border=\"1\" class=\"dataframe\">\n",
       "  <thead>\n",
       "    <tr style=\"text-align: right;\">\n",
       "      <th></th>\n",
       "      <th>Flow</th>\n",
       "      <th>tradeflow_baci</th>\n",
       "      <th>tradeflow_imf_o</th>\n",
       "      <th>tradeflow_imf_d</th>\n",
       "    </tr>\n",
       "  </thead>\n",
       "  <tbody>\n",
       "    <tr>\n",
       "      <th>161</th>\n",
       "      <td>AZE-&gt;RUS</td>\n",
       "      <td>3.025838e+07</td>\n",
       "      <td>3.278231e+07</td>\n",
       "      <td>2.471699e+07</td>\n",
       "    </tr>\n",
       "    <tr>\n",
       "      <th>191</th>\n",
       "      <td>AZE-&gt;TUR</td>\n",
       "      <td>2.981620e+07</td>\n",
       "      <td>2.970976e+07</td>\n",
       "      <td>1.864745e+07</td>\n",
       "    </tr>\n",
       "    <tr>\n",
       "      <th>73</th>\n",
       "      <td>AZE-&gt;GBR</td>\n",
       "      <td>1.446652e+07</td>\n",
       "      <td>1.407403e+07</td>\n",
       "      <td>8.495471e+06</td>\n",
       "    </tr>\n",
       "    <tr>\n",
       "      <th>55</th>\n",
       "      <td>AZE-&gt;DEU</td>\n",
       "      <td>1.255898e+07</td>\n",
       "      <td>1.208749e+07</td>\n",
       "      <td>1.011572e+07</td>\n",
       "    </tr>\n",
       "    <tr>\n",
       "      <th>42</th>\n",
       "      <td>AZE-&gt;CHN</td>\n",
       "      <td>1.285890e+07</td>\n",
       "      <td>9.997663e+06</td>\n",
       "      <td>1.121552e+07</td>\n",
       "    </tr>\n",
       "    <tr>\n",
       "      <th>196</th>\n",
       "      <td>AZE-&gt;UKR</td>\n",
       "      <td>9.167915e+06</td>\n",
       "      <td>8.915899e+06</td>\n",
       "      <td>7.515808e+06</td>\n",
       "    </tr>\n",
       "    <tr>\n",
       "      <th>98</th>\n",
       "      <td>AZE-&gt;ITA</td>\n",
       "      <td>6.731057e+06</td>\n",
       "      <td>6.691392e+06</td>\n",
       "      <td>4.443758e+06</td>\n",
       "    </tr>\n",
       "    <tr>\n",
       "      <th>198</th>\n",
       "      <td>AZE-&gt;USA</td>\n",
       "      <td>6.585655e+06</td>\n",
       "      <td>6.150615e+06</td>\n",
       "      <td>8.311581e+06</td>\n",
       "    </tr>\n",
       "    <tr>\n",
       "      <th>74</th>\n",
       "      <td>AZE-&gt;GEO</td>\n",
       "      <td>5.432699e+06</td>\n",
       "      <td>5.469953e+06</td>\n",
       "      <td>1.250912e+06</td>\n",
       "    </tr>\n",
       "    <tr>\n",
       "      <th>102</th>\n",
       "      <td>AZE-&gt;KAZ</td>\n",
       "      <td>4.139752e+06</td>\n",
       "      <td>3.891301e+06</td>\n",
       "      <td>3.570837e+06</td>\n",
       "    </tr>\n",
       "  </tbody>\n",
       "</table>\n",
       "</div>"
      ],
      "text/plain": [
       "         Flow  tradeflow_baci  tradeflow_imf_o  tradeflow_imf_d\n",
       "161  AZE->RUS    3.025838e+07     3.278231e+07     2.471699e+07\n",
       "191  AZE->TUR    2.981620e+07     2.970976e+07     1.864745e+07\n",
       "73   AZE->GBR    1.446652e+07     1.407403e+07     8.495471e+06\n",
       "55   AZE->DEU    1.255898e+07     1.208749e+07     1.011572e+07\n",
       "42   AZE->CHN    1.285890e+07     9.997663e+06     1.121552e+07\n",
       "196  AZE->UKR    9.167915e+06     8.915899e+06     7.515808e+06\n",
       "98   AZE->ITA    6.731057e+06     6.691392e+06     4.443758e+06\n",
       "198  AZE->USA    6.585655e+06     6.150615e+06     8.311581e+06\n",
       "74   AZE->GEO    5.432699e+06     5.469953e+06     1.250912e+06\n",
       "102  AZE->KAZ    4.139752e+06     3.891301e+06     3.570837e+06"
      ]
     },
     "execution_count": 24,
     "metadata": {},
     "output_type": "execute_result"
    }
   ],
   "source": [
    "df_aze = (\n",
    "    df_simplified[df_simplified['Flow'].str.startswith('AZE->')]\n",
    "    .sort_values(by='tradeflow_imf_o', ascending=False)\n",
    ")\n",
    "\n",
    "df_aze.head(10)"
   ]
  },
  {
   "cell_type": "code",
   "execution_count": 25,
   "metadata": {},
   "outputs": [
    {
     "data": {
      "text/html": [
       "<div>\n",
       "<style scoped>\n",
       "    .dataframe tbody tr th:only-of-type {\n",
       "        vertical-align: middle;\n",
       "    }\n",
       "\n",
       "    .dataframe tbody tr th {\n",
       "        vertical-align: top;\n",
       "    }\n",
       "\n",
       "    .dataframe thead th {\n",
       "        text-align: right;\n",
       "    }\n",
       "</style>\n",
       "<table border=\"1\" class=\"dataframe\">\n",
       "  <thead>\n",
       "    <tr style=\"text-align: right;\">\n",
       "      <th></th>\n",
       "      <th>Flow</th>\n",
       "      <th>tradeflow_baci</th>\n",
       "      <th>tradeflow_imf_o</th>\n",
       "      <th>tradeflow_imf_d</th>\n",
       "    </tr>\n",
       "  </thead>\n",
       "  <tbody>\n",
       "    <tr>\n",
       "      <th>283</th>\n",
       "      <td>ITA-&gt;AZE</td>\n",
       "      <td>9.535525e+07</td>\n",
       "      <td>9.460031e+07</td>\n",
       "      <td>9.491047e+07</td>\n",
       "    </tr>\n",
       "    <tr>\n",
       "      <th>242</th>\n",
       "      <td>DEU-&gt;AZE</td>\n",
       "      <td>1.365510e+07</td>\n",
       "      <td>9.463073e+06</td>\n",
       "      <td>2.981451e+07</td>\n",
       "    </tr>\n",
       "    <tr>\n",
       "      <th>255</th>\n",
       "      <td>FRA-&gt;AZE</td>\n",
       "      <td>1.898008e+07</td>\n",
       "      <td>1.873932e+07</td>\n",
       "      <td>2.577318e+07</td>\n",
       "    </tr>\n",
       "    <tr>\n",
       "      <th>161</th>\n",
       "      <td>AZE-&gt;RUS</td>\n",
       "      <td>3.025838e+07</td>\n",
       "      <td>3.278231e+07</td>\n",
       "      <td>2.471699e+07</td>\n",
       "    </tr>\n",
       "    <tr>\n",
       "      <th>241</th>\n",
       "      <td>CZE-&gt;AZE</td>\n",
       "      <td>1.112013e+07</td>\n",
       "      <td>4.662000e+06</td>\n",
       "      <td>1.891758e+07</td>\n",
       "    </tr>\n",
       "    <tr>\n",
       "      <th>191</th>\n",
       "      <td>AZE-&gt;TUR</td>\n",
       "      <td>2.981620e+07</td>\n",
       "      <td>2.970976e+07</td>\n",
       "      <td>1.864745e+07</td>\n",
       "    </tr>\n",
       "    <tr>\n",
       "      <th>375</th>\n",
       "      <td>USA-&gt;AZE</td>\n",
       "      <td>1.657870e+07</td>\n",
       "      <td>1.653319e+07</td>\n",
       "      <td>1.852974e+07</td>\n",
       "    </tr>\n",
       "    <tr>\n",
       "      <th>276</th>\n",
       "      <td>IDN-&gt;AZE</td>\n",
       "      <td>1.248503e+07</td>\n",
       "      <td>1.245250e+07</td>\n",
       "      <td>1.185299e+07</td>\n",
       "    </tr>\n",
       "    <tr>\n",
       "      <th>42</th>\n",
       "      <td>AZE-&gt;CHN</td>\n",
       "      <td>1.285890e+07</td>\n",
       "      <td>9.997663e+06</td>\n",
       "      <td>1.121552e+07</td>\n",
       "    </tr>\n",
       "    <tr>\n",
       "      <th>55</th>\n",
       "      <td>AZE-&gt;DEU</td>\n",
       "      <td>1.255898e+07</td>\n",
       "      <td>1.208749e+07</td>\n",
       "      <td>1.011572e+07</td>\n",
       "    </tr>\n",
       "  </tbody>\n",
       "</table>\n",
       "</div>"
      ],
      "text/plain": [
       "         Flow  tradeflow_baci  tradeflow_imf_o  tradeflow_imf_d\n",
       "283  ITA->AZE    9.535525e+07     9.460031e+07     9.491047e+07\n",
       "242  DEU->AZE    1.365510e+07     9.463073e+06     2.981451e+07\n",
       "255  FRA->AZE    1.898008e+07     1.873932e+07     2.577318e+07\n",
       "161  AZE->RUS    3.025838e+07     3.278231e+07     2.471699e+07\n",
       "241  CZE->AZE    1.112013e+07     4.662000e+06     1.891758e+07\n",
       "191  AZE->TUR    2.981620e+07     2.970976e+07     1.864745e+07\n",
       "375  USA->AZE    1.657870e+07     1.653319e+07     1.852974e+07\n",
       "276  IDN->AZE    1.248503e+07     1.245250e+07     1.185299e+07\n",
       "42   AZE->CHN    1.285890e+07     9.997663e+06     1.121552e+07\n",
       "55   AZE->DEU    1.255898e+07     1.208749e+07     1.011572e+07"
      ]
     },
     "execution_count": 25,
     "metadata": {},
     "output_type": "execute_result"
    }
   ],
   "source": [
    "df_simplified_sorted = df_simplified.sort_values(by='tradeflow_imf_d', ascending=False)\n",
    "\n",
    "df_simplified_sorted.head(10)"
   ]
  },
  {
   "cell_type": "markdown",
   "metadata": {},
   "source": [
    "#  Free Trade Agreement (FTA) \n",
    "- Information on the countries that have signed the Free Trade Agreement with the Government of the Republic of Azerbaijan\n",
    "Source:\n",
    "\n",
    "https://customs.gov.az/en/sahibkarlar-ucun/serbestticaret\n",
    "\n",
    "| №  | Country                 | ISO Code |\n",
    "|----|-------------------------|----------|\n",
    "| 1  | Russian Federation      | RUS      |\n",
    "| 2  | Republic of Moldova     | MDA      |\n",
    "| 3  | Republic of Ukraine     | UKR      |\n",
    "| 4  | Georgia                 | GEO      |\n",
    "| 5  | Republic of Turkmenistan| TKM      |\n",
    "| 6  | Republic of Uzbekistan  | UZB      |\n",
    "| 7  | Republic of Kazakhstan  | KAZ      |\n",
    "| 8  | Kyrgyz Republic         | KGZ      |\n",
    "| 9  | Republic of Belarus     | BLR      |\n",
    "| 10 | Republic of Tajikistan  | TJK      |\n",
    "\n",
    "\n",
    "FTA_AZE=['RUS', 'MDA', 'UKR', 'GEO', 'TKM', 'UZB', 'KAZ', 'KGZ', 'BLR', 'TJK']\n"
   ]
  },
  {
   "cell_type": "code",
   "execution_count": 26,
   "metadata": {},
   "outputs": [
    {
     "data": {
      "text/html": [
       "<div>\n",
       "<style scoped>\n",
       "    .dataframe tbody tr th:only-of-type {\n",
       "        vertical-align: middle;\n",
       "    }\n",
       "\n",
       "    .dataframe tbody tr th {\n",
       "        vertical-align: top;\n",
       "    }\n",
       "\n",
       "    .dataframe thead th {\n",
       "        text-align: right;\n",
       "    }\n",
       "</style>\n",
       "<table border=\"1\" class=\"dataframe\">\n",
       "  <thead>\n",
       "    <tr style=\"text-align: right;\">\n",
       "      <th></th>\n",
       "      <th>year</th>\n",
       "      <th>iso3_d</th>\n",
       "      <th>iso3_o</th>\n",
       "      <th>tradeflow_baci</th>\n",
       "      <th>tradeflow_imf_o</th>\n",
       "      <th>tradeflow_imf_d</th>\n",
       "      <th>Flow</th>\n",
       "    </tr>\n",
       "  </thead>\n",
       "  <tbody>\n",
       "    <tr>\n",
       "      <th>281696</th>\n",
       "      <td>2000</td>\n",
       "      <td>BLR</td>\n",
       "      <td>AZE</td>\n",
       "      <td>4201.355</td>\n",
       "      <td>1221.799</td>\n",
       "      <td>6735.201</td>\n",
       "      <td>BLR-&gt;AZE</td>\n",
       "    </tr>\n",
       "    <tr>\n",
       "      <th>281697</th>\n",
       "      <td>2001</td>\n",
       "      <td>BLR</td>\n",
       "      <td>AZE</td>\n",
       "      <td>3106.718</td>\n",
       "      <td>1028.599</td>\n",
       "      <td>3495.399</td>\n",
       "      <td>BLR-&gt;AZE</td>\n",
       "    </tr>\n",
       "    <tr>\n",
       "      <th>281698</th>\n",
       "      <td>2002</td>\n",
       "      <td>BLR</td>\n",
       "      <td>AZE</td>\n",
       "      <td>1276.440</td>\n",
       "      <td>914.200</td>\n",
       "      <td>2221.903</td>\n",
       "      <td>BLR-&gt;AZE</td>\n",
       "    </tr>\n",
       "    <tr>\n",
       "      <th>281699</th>\n",
       "      <td>2003</td>\n",
       "      <td>BLR</td>\n",
       "      <td>AZE</td>\n",
       "      <td>1931.195</td>\n",
       "      <td>954.101</td>\n",
       "      <td>1720.401</td>\n",
       "      <td>BLR-&gt;AZE</td>\n",
       "    </tr>\n",
       "    <tr>\n",
       "      <th>281700</th>\n",
       "      <td>2004</td>\n",
       "      <td>BLR</td>\n",
       "      <td>AZE</td>\n",
       "      <td>1206.968</td>\n",
       "      <td>789.300</td>\n",
       "      <td>1214.800</td>\n",
       "      <td>BLR-&gt;AZE</td>\n",
       "    </tr>\n",
       "    <tr>\n",
       "      <th>...</th>\n",
       "      <td>...</td>\n",
       "      <td>...</td>\n",
       "      <td>...</td>\n",
       "      <td>...</td>\n",
       "      <td>...</td>\n",
       "      <td>...</td>\n",
       "      <td>...</td>\n",
       "    </tr>\n",
       "    <tr>\n",
       "      <th>4364810</th>\n",
       "      <td>2016</td>\n",
       "      <td>AZE</td>\n",
       "      <td>UZB</td>\n",
       "      <td>11694.800</td>\n",
       "      <td>13070.460</td>\n",
       "      <td>11910.400</td>\n",
       "      <td>AZE-&gt;UZB</td>\n",
       "    </tr>\n",
       "    <tr>\n",
       "      <th>4364811</th>\n",
       "      <td>2017</td>\n",
       "      <td>AZE</td>\n",
       "      <td>UZB</td>\n",
       "      <td>25196.042</td>\n",
       "      <td>24980.633</td>\n",
       "      <td>26041.301</td>\n",
       "      <td>AZE-&gt;UZB</td>\n",
       "    </tr>\n",
       "    <tr>\n",
       "      <th>4364812</th>\n",
       "      <td>2018</td>\n",
       "      <td>AZE</td>\n",
       "      <td>UZB</td>\n",
       "      <td>31797.356</td>\n",
       "      <td>30537.133</td>\n",
       "      <td>34597.199</td>\n",
       "      <td>AZE-&gt;UZB</td>\n",
       "    </tr>\n",
       "    <tr>\n",
       "      <th>4364813</th>\n",
       "      <td>2019</td>\n",
       "      <td>AZE</td>\n",
       "      <td>UZB</td>\n",
       "      <td>50374.786</td>\n",
       "      <td>48811.793</td>\n",
       "      <td>53092.199</td>\n",
       "      <td>AZE-&gt;UZB</td>\n",
       "    </tr>\n",
       "    <tr>\n",
       "      <th>4364814</th>\n",
       "      <td>2020</td>\n",
       "      <td>AZE</td>\n",
       "      <td>UZB</td>\n",
       "      <td>53067.931</td>\n",
       "      <td>52026.617</td>\n",
       "      <td>59162.801</td>\n",
       "      <td>AZE-&gt;UZB</td>\n",
       "    </tr>\n",
       "  </tbody>\n",
       "</table>\n",
       "<p>418 rows × 7 columns</p>\n",
       "</div>"
      ],
      "text/plain": [
       "         year iso3_d iso3_o  tradeflow_baci  tradeflow_imf_o  tradeflow_imf_d  \\\n",
       "281696   2000    BLR    AZE        4201.355         1221.799         6735.201   \n",
       "281697   2001    BLR    AZE        3106.718         1028.599         3495.399   \n",
       "281698   2002    BLR    AZE        1276.440          914.200         2221.903   \n",
       "281699   2003    BLR    AZE        1931.195          954.101         1720.401   \n",
       "281700   2004    BLR    AZE        1206.968          789.300         1214.800   \n",
       "...       ...    ...    ...             ...              ...              ...   \n",
       "4364810  2016    AZE    UZB       11694.800        13070.460        11910.400   \n",
       "4364811  2017    AZE    UZB       25196.042        24980.633        26041.301   \n",
       "4364812  2018    AZE    UZB       31797.356        30537.133        34597.199   \n",
       "4364813  2019    AZE    UZB       50374.786        48811.793        53092.199   \n",
       "4364814  2020    AZE    UZB       53067.931        52026.617        59162.801   \n",
       "\n",
       "             Flow  \n",
       "281696   BLR->AZE  \n",
       "281697   BLR->AZE  \n",
       "281698   BLR->AZE  \n",
       "281699   BLR->AZE  \n",
       "281700   BLR->AZE  \n",
       "...           ...  \n",
       "4364810  AZE->UZB  \n",
       "4364811  AZE->UZB  \n",
       "4364812  AZE->UZB  \n",
       "4364813  AZE->UZB  \n",
       "4364814  AZE->UZB  \n",
       "\n",
       "[418 rows x 7 columns]"
      ]
     },
     "execution_count": 26,
     "metadata": {},
     "output_type": "execute_result"
    }
   ],
   "source": [
    "FTA_AZE = ['RUS', 'MDA', 'UKR', 'GEO', 'TKM', 'UZB', 'KAZ', 'KGZ', 'BLR', 'TJK']\n",
    "\n",
    "fta_aze_data = filtered_data_custom[\n",
    "    (filtered_data_custom['iso3_d'].isin(FTA_AZE)) | \n",
    "    (filtered_data_custom['iso3_o'].isin(FTA_AZE))\n",
    "]\n",
    "\n",
    "fta_aze_data\n"
   ]
  },
  {
   "cell_type": "code",
   "execution_count": 95,
   "metadata": {},
   "outputs": [
    {
     "data": {
      "application/vnd.plotly.v1+json": {
       "config": {
        "plotlyServerURL": "https://plot.ly"
       },
       "data": [
        {
         "domain": {
          "x": [
           0,
           1
          ],
          "y": [
           0,
           1
          ]
         },
         "hovertemplate": "Partner=%{label}<br>tradeflow_baci=%{value}<extra></extra>",
         "labels": [
          "RUS",
          "RUS",
          "UKR",
          "GEO",
          "GEO",
          "UKR",
          "KAZ",
          "BLR",
          "TKM",
          "KAZ"
         ],
         "legendgroup": "",
         "name": "",
         "pull": [
          0.05,
          0.05,
          0.05,
          0.05,
          0.05,
          0.05,
          0.05,
          0.05,
          0.05,
          0.05
         ],
         "showlegend": true,
         "textinfo": "percent",
         "type": "pie",
         "values": [
          30258384.295,
          11265055.92,
          9167915.28,
          8326378.390000001,
          5432698.838,
          4366655.254,
          4139751.941,
          2121513.776,
          1836050.566,
          1334860.246
         ]
        }
       ],
       "layout": {
        "legend": {
         "tracegroupgap": 0
        },
        "template": {
         "data": {
          "bar": [
           {
            "error_x": {
             "color": "#2a3f5f"
            },
            "error_y": {
             "color": "#2a3f5f"
            },
            "marker": {
             "line": {
              "color": "#E5ECF6",
              "width": 0.5
             },
             "pattern": {
              "fillmode": "overlay",
              "size": 10,
              "solidity": 0.2
             }
            },
            "type": "bar"
           }
          ],
          "barpolar": [
           {
            "marker": {
             "line": {
              "color": "#E5ECF6",
              "width": 0.5
             },
             "pattern": {
              "fillmode": "overlay",
              "size": 10,
              "solidity": 0.2
             }
            },
            "type": "barpolar"
           }
          ],
          "carpet": [
           {
            "aaxis": {
             "endlinecolor": "#2a3f5f",
             "gridcolor": "white",
             "linecolor": "white",
             "minorgridcolor": "white",
             "startlinecolor": "#2a3f5f"
            },
            "baxis": {
             "endlinecolor": "#2a3f5f",
             "gridcolor": "white",
             "linecolor": "white",
             "minorgridcolor": "white",
             "startlinecolor": "#2a3f5f"
            },
            "type": "carpet"
           }
          ],
          "choropleth": [
           {
            "colorbar": {
             "outlinewidth": 0,
             "ticks": ""
            },
            "type": "choropleth"
           }
          ],
          "contour": [
           {
            "colorbar": {
             "outlinewidth": 0,
             "ticks": ""
            },
            "colorscale": [
             [
              0,
              "#0d0887"
             ],
             [
              0.1111111111111111,
              "#46039f"
             ],
             [
              0.2222222222222222,
              "#7201a8"
             ],
             [
              0.3333333333333333,
              "#9c179e"
             ],
             [
              0.4444444444444444,
              "#bd3786"
             ],
             [
              0.5555555555555556,
              "#d8576b"
             ],
             [
              0.6666666666666666,
              "#ed7953"
             ],
             [
              0.7777777777777778,
              "#fb9f3a"
             ],
             [
              0.8888888888888888,
              "#fdca26"
             ],
             [
              1,
              "#f0f921"
             ]
            ],
            "type": "contour"
           }
          ],
          "contourcarpet": [
           {
            "colorbar": {
             "outlinewidth": 0,
             "ticks": ""
            },
            "type": "contourcarpet"
           }
          ],
          "heatmap": [
           {
            "colorbar": {
             "outlinewidth": 0,
             "ticks": ""
            },
            "colorscale": [
             [
              0,
              "#0d0887"
             ],
             [
              0.1111111111111111,
              "#46039f"
             ],
             [
              0.2222222222222222,
              "#7201a8"
             ],
             [
              0.3333333333333333,
              "#9c179e"
             ],
             [
              0.4444444444444444,
              "#bd3786"
             ],
             [
              0.5555555555555556,
              "#d8576b"
             ],
             [
              0.6666666666666666,
              "#ed7953"
             ],
             [
              0.7777777777777778,
              "#fb9f3a"
             ],
             [
              0.8888888888888888,
              "#fdca26"
             ],
             [
              1,
              "#f0f921"
             ]
            ],
            "type": "heatmap"
           }
          ],
          "heatmapgl": [
           {
            "colorbar": {
             "outlinewidth": 0,
             "ticks": ""
            },
            "colorscale": [
             [
              0,
              "#0d0887"
             ],
             [
              0.1111111111111111,
              "#46039f"
             ],
             [
              0.2222222222222222,
              "#7201a8"
             ],
             [
              0.3333333333333333,
              "#9c179e"
             ],
             [
              0.4444444444444444,
              "#bd3786"
             ],
             [
              0.5555555555555556,
              "#d8576b"
             ],
             [
              0.6666666666666666,
              "#ed7953"
             ],
             [
              0.7777777777777778,
              "#fb9f3a"
             ],
             [
              0.8888888888888888,
              "#fdca26"
             ],
             [
              1,
              "#f0f921"
             ]
            ],
            "type": "heatmapgl"
           }
          ],
          "histogram": [
           {
            "marker": {
             "pattern": {
              "fillmode": "overlay",
              "size": 10,
              "solidity": 0.2
             }
            },
            "type": "histogram"
           }
          ],
          "histogram2d": [
           {
            "colorbar": {
             "outlinewidth": 0,
             "ticks": ""
            },
            "colorscale": [
             [
              0,
              "#0d0887"
             ],
             [
              0.1111111111111111,
              "#46039f"
             ],
             [
              0.2222222222222222,
              "#7201a8"
             ],
             [
              0.3333333333333333,
              "#9c179e"
             ],
             [
              0.4444444444444444,
              "#bd3786"
             ],
             [
              0.5555555555555556,
              "#d8576b"
             ],
             [
              0.6666666666666666,
              "#ed7953"
             ],
             [
              0.7777777777777778,
              "#fb9f3a"
             ],
             [
              0.8888888888888888,
              "#fdca26"
             ],
             [
              1,
              "#f0f921"
             ]
            ],
            "type": "histogram2d"
           }
          ],
          "histogram2dcontour": [
           {
            "colorbar": {
             "outlinewidth": 0,
             "ticks": ""
            },
            "colorscale": [
             [
              0,
              "#0d0887"
             ],
             [
              0.1111111111111111,
              "#46039f"
             ],
             [
              0.2222222222222222,
              "#7201a8"
             ],
             [
              0.3333333333333333,
              "#9c179e"
             ],
             [
              0.4444444444444444,
              "#bd3786"
             ],
             [
              0.5555555555555556,
              "#d8576b"
             ],
             [
              0.6666666666666666,
              "#ed7953"
             ],
             [
              0.7777777777777778,
              "#fb9f3a"
             ],
             [
              0.8888888888888888,
              "#fdca26"
             ],
             [
              1,
              "#f0f921"
             ]
            ],
            "type": "histogram2dcontour"
           }
          ],
          "mesh3d": [
           {
            "colorbar": {
             "outlinewidth": 0,
             "ticks": ""
            },
            "type": "mesh3d"
           }
          ],
          "parcoords": [
           {
            "line": {
             "colorbar": {
              "outlinewidth": 0,
              "ticks": ""
             }
            },
            "type": "parcoords"
           }
          ],
          "pie": [
           {
            "automargin": true,
            "type": "pie"
           }
          ],
          "scatter": [
           {
            "fillpattern": {
             "fillmode": "overlay",
             "size": 10,
             "solidity": 0.2
            },
            "type": "scatter"
           }
          ],
          "scatter3d": [
           {
            "line": {
             "colorbar": {
              "outlinewidth": 0,
              "ticks": ""
             }
            },
            "marker": {
             "colorbar": {
              "outlinewidth": 0,
              "ticks": ""
             }
            },
            "type": "scatter3d"
           }
          ],
          "scattercarpet": [
           {
            "marker": {
             "colorbar": {
              "outlinewidth": 0,
              "ticks": ""
             }
            },
            "type": "scattercarpet"
           }
          ],
          "scattergeo": [
           {
            "marker": {
             "colorbar": {
              "outlinewidth": 0,
              "ticks": ""
             }
            },
            "type": "scattergeo"
           }
          ],
          "scattergl": [
           {
            "marker": {
             "colorbar": {
              "outlinewidth": 0,
              "ticks": ""
             }
            },
            "type": "scattergl"
           }
          ],
          "scattermapbox": [
           {
            "marker": {
             "colorbar": {
              "outlinewidth": 0,
              "ticks": ""
             }
            },
            "type": "scattermapbox"
           }
          ],
          "scatterpolar": [
           {
            "marker": {
             "colorbar": {
              "outlinewidth": 0,
              "ticks": ""
             }
            },
            "type": "scatterpolar"
           }
          ],
          "scatterpolargl": [
           {
            "marker": {
             "colorbar": {
              "outlinewidth": 0,
              "ticks": ""
             }
            },
            "type": "scatterpolargl"
           }
          ],
          "scatterternary": [
           {
            "marker": {
             "colorbar": {
              "outlinewidth": 0,
              "ticks": ""
             }
            },
            "type": "scatterternary"
           }
          ],
          "surface": [
           {
            "colorbar": {
             "outlinewidth": 0,
             "ticks": ""
            },
            "colorscale": [
             [
              0,
              "#0d0887"
             ],
             [
              0.1111111111111111,
              "#46039f"
             ],
             [
              0.2222222222222222,
              "#7201a8"
             ],
             [
              0.3333333333333333,
              "#9c179e"
             ],
             [
              0.4444444444444444,
              "#bd3786"
             ],
             [
              0.5555555555555556,
              "#d8576b"
             ],
             [
              0.6666666666666666,
              "#ed7953"
             ],
             [
              0.7777777777777778,
              "#fb9f3a"
             ],
             [
              0.8888888888888888,
              "#fdca26"
             ],
             [
              1,
              "#f0f921"
             ]
            ],
            "type": "surface"
           }
          ],
          "table": [
           {
            "cells": {
             "fill": {
              "color": "#EBF0F8"
             },
             "line": {
              "color": "white"
             }
            },
            "header": {
             "fill": {
              "color": "#C8D4E3"
             },
             "line": {
              "color": "white"
             }
            },
            "type": "table"
           }
          ]
         },
         "layout": {
          "annotationdefaults": {
           "arrowcolor": "#2a3f5f",
           "arrowhead": 0,
           "arrowwidth": 1
          },
          "autotypenumbers": "strict",
          "coloraxis": {
           "colorbar": {
            "outlinewidth": 0,
            "ticks": ""
           }
          },
          "colorscale": {
           "diverging": [
            [
             0,
             "#8e0152"
            ],
            [
             0.1,
             "#c51b7d"
            ],
            [
             0.2,
             "#de77ae"
            ],
            [
             0.3,
             "#f1b6da"
            ],
            [
             0.4,
             "#fde0ef"
            ],
            [
             0.5,
             "#f7f7f7"
            ],
            [
             0.6,
             "#e6f5d0"
            ],
            [
             0.7,
             "#b8e186"
            ],
            [
             0.8,
             "#7fbc41"
            ],
            [
             0.9,
             "#4d9221"
            ],
            [
             1,
             "#276419"
            ]
           ],
           "sequential": [
            [
             0,
             "#0d0887"
            ],
            [
             0.1111111111111111,
             "#46039f"
            ],
            [
             0.2222222222222222,
             "#7201a8"
            ],
            [
             0.3333333333333333,
             "#9c179e"
            ],
            [
             0.4444444444444444,
             "#bd3786"
            ],
            [
             0.5555555555555556,
             "#d8576b"
            ],
            [
             0.6666666666666666,
             "#ed7953"
            ],
            [
             0.7777777777777778,
             "#fb9f3a"
            ],
            [
             0.8888888888888888,
             "#fdca26"
            ],
            [
             1,
             "#f0f921"
            ]
           ],
           "sequentialminus": [
            [
             0,
             "#0d0887"
            ],
            [
             0.1111111111111111,
             "#46039f"
            ],
            [
             0.2222222222222222,
             "#7201a8"
            ],
            [
             0.3333333333333333,
             "#9c179e"
            ],
            [
             0.4444444444444444,
             "#bd3786"
            ],
            [
             0.5555555555555556,
             "#d8576b"
            ],
            [
             0.6666666666666666,
             "#ed7953"
            ],
            [
             0.7777777777777778,
             "#fb9f3a"
            ],
            [
             0.8888888888888888,
             "#fdca26"
            ],
            [
             1,
             "#f0f921"
            ]
           ]
          },
          "colorway": [
           "#636efa",
           "#EF553B",
           "#00cc96",
           "#ab63fa",
           "#FFA15A",
           "#19d3f3",
           "#FF6692",
           "#B6E880",
           "#FF97FF",
           "#FECB52"
          ],
          "font": {
           "color": "#2a3f5f"
          },
          "geo": {
           "bgcolor": "white",
           "lakecolor": "white",
           "landcolor": "#E5ECF6",
           "showlakes": true,
           "showland": true,
           "subunitcolor": "white"
          },
          "hoverlabel": {
           "align": "left"
          },
          "hovermode": "closest",
          "mapbox": {
           "style": "light"
          },
          "paper_bgcolor": "white",
          "plot_bgcolor": "#E5ECF6",
          "polar": {
           "angularaxis": {
            "gridcolor": "white",
            "linecolor": "white",
            "ticks": ""
           },
           "bgcolor": "#E5ECF6",
           "radialaxis": {
            "gridcolor": "white",
            "linecolor": "white",
            "ticks": ""
           }
          },
          "scene": {
           "xaxis": {
            "backgroundcolor": "#E5ECF6",
            "gridcolor": "white",
            "gridwidth": 2,
            "linecolor": "white",
            "showbackground": true,
            "ticks": "",
            "zerolinecolor": "white"
           },
           "yaxis": {
            "backgroundcolor": "#E5ECF6",
            "gridcolor": "white",
            "gridwidth": 2,
            "linecolor": "white",
            "showbackground": true,
            "ticks": "",
            "zerolinecolor": "white"
           },
           "zaxis": {
            "backgroundcolor": "#E5ECF6",
            "gridcolor": "white",
            "gridwidth": 2,
            "linecolor": "white",
            "showbackground": true,
            "ticks": "",
            "zerolinecolor": "white"
           }
          },
          "shapedefaults": {
           "line": {
            "color": "#2a3f5f"
           }
          },
          "ternary": {
           "aaxis": {
            "gridcolor": "white",
            "linecolor": "white",
            "ticks": ""
           },
           "baxis": {
            "gridcolor": "white",
            "linecolor": "white",
            "ticks": ""
           },
           "bgcolor": "#E5ECF6",
           "caxis": {
            "gridcolor": "white",
            "linecolor": "white",
            "ticks": ""
           }
          },
          "title": {
           "x": 0.05
          },
          "xaxis": {
           "automargin": true,
           "gridcolor": "white",
           "linecolor": "white",
           "ticks": "",
           "title": {
            "standoff": 15
           },
           "zerolinecolor": "white",
           "zerolinewidth": 2
          },
          "yaxis": {
           "automargin": true,
           "gridcolor": "white",
           "linecolor": "white",
           "ticks": "",
           "title": {
            "standoff": 15
           },
           "zerolinecolor": "white",
           "zerolinewidth": 2
          }
         }
        },
        "title": {
         "text": "Top 10 FTA_AZE Trading Partners by 'tradeflow baci' for 2000 till 2020"
        }
       }
      }
     },
     "metadata": {},
     "output_type": "display_data"
    }
   ],
   "source": [
    "FTA_AZE = ['RUS', 'MDA', 'UKR', 'GEO', 'TKM', 'UZB', 'KAZ', 'KGZ', 'BLR', 'TJK']\n",
    "\n",
    "df_simplified_fta_aze = df_simplified_aze[df_simplified_aze['Partner'].isin(FTA_AZE)]\n",
    "\n",
    "df_simplified_fta_aze_top10 = df_simplified_fta_aze.head(10).copy()\n",
    "\n",
    "fig_fta_aze = px.pie(\n",
    "    df_simplified_fta_aze_top10,\n",
    "    values='tradeflow_baci',\n",
    "    names='Partner',\n",
    "    title=\"Top 10 FTA_AZE Trading Partners by 'tradeflow baci' for 2000 till 2020\",\n",
    ")\n",
    "\n",
    "fig_fta_aze.update_traces(\n",
    "    pull=[0.05]*len(df_simplified_fta_aze_top10),\n",
    "    textinfo='percent'\n",
    ")\n",
    "\n",
    "fig_fta_aze.show()"
   ]
  },
  {
   "cell_type": "markdown",
   "metadata": {},
   "source": [
    "Below is the list of countries represents there was almost no direct trade within 20 years (2000-2020)\n",
    "\n",
    "1. **AGO** - Angola  \n",
    "2. **AIA** - Anguilla  \n",
    "3. **ALB** - Albania  \n",
    "4. **ARM** - Armenia  \n",
    "5. **ZWE** - Zimbabwe \n",
    "6. **BIH** - Bosnia and Herzegovina  \n",
    "7. **BMU** - Bermuda  \n",
    "8. **CAF** - Central African Republic  \n",
    "9. **COD** - Democratic Republic of the Congo  \n",
    "10. **COG** - Republic of the Congo  \n",
    "11. **DOM** - Dominican Republic  \n",
    "12. **ECU** - Ecuador  \n",
    "13. **FJI** - Fiji  \n",
    "14. **FRO** - Faroe Islands  \n",
    "15. **GAB** - Gabon  \n",
    "16. **GHA** - Ghana  \n",
    "17. **GIN** - Guinea  \n",
    "18. **GNB** - Guinea-Bissau  \n",
    "19. **GRL** - Greenland  \n",
    "20. **HND** - Honduras  \n",
    "21. **ISL** - Iceland  \n",
    "22. **KEN** - Kenya  \n",
    "23. **KIR** - Kiribati  \n",
    "24. **KNA** - Saint Kitts and Nevis  \n",
    "25. **KWT** - Kuwait  \n",
    "26. **LBR** - Liberia  \n",
    "27. **MDG** - Madagascar  \n",
    "28. **MLI** - Mali  \n",
    "29. **MMR** - Myanmar  \n",
    "30. **MNG** - Mongolia  \n",
    "31. **NCL** - New Caledonia  \n",
    "32. **NIC** - Nicaragua  \n",
    "33. **PAN** - Panama  \n",
    "34. **PER** - Peru  \n",
    "35. **PRK** - North Korea (Democratic People's Republic of Korea)  \n",
    "36. **RWA** - Rwanda  \n",
    "37. **SCG** - Serbia and Montenegro (obsolete, now separate as Serbia and Montenegro)  \n",
    "38. **STP** - São Tomé and Príncipe  \n",
    "39. **SUR** - Suriname  \n",
    "40. **SYC** - Seychelles  \n",
    "41. **TGO** - Togo  \n",
    "42. **TZA** - Tanzania  \n",
    "43. **UGA** - Uganda  \n",
    "44. **VCT** - Saint Vincent and the Grenadines  \n",
    "45. **VEN** - Venezuela  \n",
    "46. **VUT** - Vanuatu  \n",
    "47. **YEM** - Yemen  \n",
    "48. **ZMB** - Zambia  \n",
    " "
   ]
  },
  {
   "cell_type": "markdown",
   "metadata": {},
   "source": [
    "\n",
    "\n",
    "```python\n",
    "model_data = filtered_data[\n",
    "    [\n",
    "        'year', 'iso3_d', 'iso3_o', 'tradeflow_baci', 'tradeflow_imf_o', \n",
    "        'tradeflow_imf_d', 'gdp_d', 'gdp_o', 'col45', 'FTA', 'dist', \n",
    "        'distcap', 'contig', 'comlang_off', 'comlang_ethno', \n",
    "        'comleg_posttrans', 'pop_o', 'pop_d'\n",
    "    ]\n",
    "]\n",
    "\n",
    "model_data.head()\n",
    "```\n",
    "\n",
    "### Headers in `model_data`:\n",
    "| Column Name         | Description                                                  |\n",
    "|----------------------|--------------------------------------------------------------|\n",
    "| **year**            | Year of the trade flow data                                  |\n",
    "| **iso3_d**          | ISO 3166-1 alpha-3 code of the destination country           |\n",
    "| **iso3_o**          | ISO 3166-1 alpha-3 code of the origin country                |\n",
    "| **tradeflow_baci**  | Trade flow value according to the BACI dataset               |\n",
    "| **tradeflow_imf_o** | Trade flow value as reported by the origin country (IMF)     |\n",
    "| **tradeflow_imf_d** | Trade flow value as reported by the destination country (IMF)|\n",
    "| **gdp_d**           | GDP of the destination country                               |\n",
    "| **gdp_o**           | GDP of the origin country                                    |\n",
    "| **col45**           | 1 = Pair in colonial relationship post 1945                  |\n",
    "| **FTA**             | Indicates if the pair is in a Free Trade Agreement           |\n",
    "| **dist**            | Distance between the most populated cities, in kilometers    |\n",
    "| **distcap**         | Distance between capitals, in kilometers                     |\n",
    "| **contig**          | 1 = Indicates contiguity (sharing a common border)           |\n",
    "| **comlang_off**     | 1 = Indicates a common official or primary language          |\n",
    "| **comlang_ethno**   | 1 = Language is spoken by at least 9% of the population      |\n",
    "| **comleg_posttrans**| 1 = Indicates common legal origins after a political transition |\n",
    "| **pop_o**           | Origin population, total in thousands                        |\n",
    "| **pop_d**           | Destination population, total in thousands                   | \n",
    "\n",
    "\n",
    "- Our equation:\n",
    "\n",
    "\n",
    "\\begin{align*}\n",
    "\\log(\\text{Trade\\_value}_{ijt}) = & \\ \\beta_1 \\log(\\text{GDP}_i^t) + \\beta_2 \\log(\\text{GDP}_j^t) + \\beta_3 \\log(\\text{Distance}_{ij}) \\\\\n",
    "& + \\beta_4 \\text{Contig}_{ij} + \\beta_5 \\text{FTA}_{ijt} + \\beta_6 \\text{Common\\_Language}_{ij} \\\\\n",
    "& + \\beta_7 \\text{Historical\\_Ties}_{ij} + \\beta_8 \\text{Inst\\_Quality}_j^t \\\\\n",
    "& + \\mu_{ij} + \\nu_t + \\epsilon_{ijt}.\n",
    "\\end{align*}\n",
    "\n"
   ]
  },
  {
   "cell_type": "code",
   "execution_count": 75,
   "metadata": {},
   "outputs": [
    {
     "name": "stderr",
     "output_type": "stream",
     "text": [
      "/var/folders/9w/mh3y2sps7_v81cj0mntlqn3c0000gr/T/ipykernel_4212/2984530479.py:22: SettingWithCopyWarning:\n",
      "\n",
      "\n",
      "A value is trying to be set on a copy of a slice from a DataFrame.\n",
      "Try using .loc[row_indexer,col_indexer] = value instead\n",
      "\n",
      "See the caveats in the documentation: https://pandas.pydata.org/pandas-docs/stable/user_guide/indexing.html#returning-a-view-versus-a-copy\n",
      "\n"
     ]
    }
   ],
   "source": [
    "FTA_AZE = ['RUS', 'MDA', 'UKR', 'GEO', 'TKM', 'UZB', 'KAZ', 'KGZ', 'BLR', 'TJK']\n",
    "\n",
    "filtered_data['FTA'] = filtered_data.apply(\n",
    "    lambda row: 1 if (row['iso3_o'] == 'AZE' and row['iso3_d'] in FTA_AZE) or \n",
    "                  (row['iso3_d'] == 'AZE' and row['iso3_o'] in FTA_AZE) \n",
    "                  else 0, \n",
    "    axis=1\n",
    ")\n",
    "\n",
    "\n",
    "model_data = filtered_data[\n",
    "    [\n",
    "        'year', 'iso3_d', 'iso3_o', 'tradeflow_baci', 'tradeflow_imf_o', \n",
    "        'tradeflow_imf_d', 'gdp_d', 'gdp_o', 'col45', 'FTA', 'dist', \n",
    "        'distcap', 'contig', 'comlang_off', 'comlang_ethno', \n",
    "        'comleg_posttrans', 'pop_o', 'pop_d'\n",
    "    ]\n",
    "]\n",
    "\n",
    "\n",
    "\n",
    "model_data['ln_dist'] = np.log(model_data['dist'])\n",
    "\n"
   ]
  },
  {
   "cell_type": "code",
   "execution_count": 74,
   "metadata": {},
   "outputs": [
    {
     "name": "stdout",
     "output_type": "stream",
     "text": [
      "Estimation began at 12:29 AM  on Dec 29, 2024\n",
      "Omitted Regressors: []\n",
      "Estimation completed at 12:29 AM  on Dec 29, 2024\n",
      "FTA       -0.417641\n",
      "dist       0.000856\n",
      "col45      0.696894\n",
      "contig    11.870203\n",
      "dtype: float64\n",
      "FTA       0.096647\n",
      "dist      0.000000\n",
      "col45     0.000022\n",
      "contig    0.000000\n",
      "dtype: float64\n",
      "                 Generalized Linear Model Regression Results                  \n",
      "==============================================================================\n",
      "Dep. Variable:         tradeflow_baci   No. Observations:                 5229\n",
      "Model:                            GLM   Df Residuals:                     5225\n",
      "Model Family:                 Poisson   Df Model:                            3\n",
      "Link Function:                    Log   Scale:                          1.0000\n",
      "Method:                          IRLS   Log-Likelihood:            -3.7957e+09\n",
      "Date:                Sun, 29 Dec 2024   Deviance:                   7.5914e+09\n",
      "Time:                        00:29:04   Pearson chi2:                 7.19e+13\n",
      "No. Iterations:                    17   Pseudo R-squ. (CS):               -inf\n",
      "Covariance Type:                  HC1                                         \n",
      "==============================================================================\n",
      "                 coef    std err          z      P>|z|      [0.025      0.975]\n",
      "------------------------------------------------------------------------------\n",
      "FTA           -0.4176      0.251     -1.661      0.097      -0.910       0.075\n",
      "dist           0.0009   7.76e-06    110.327      0.000       0.001       0.001\n",
      "col45          0.6969      0.164      4.243      0.000       0.375       1.019\n",
      "contig        11.8702      0.193     61.487      0.000      11.492      12.249\n",
      "==============================================================================\n",
      "FTA       0.251389\n",
      "dist      0.000008\n",
      "col45     0.164238\n",
      "contig    0.193052\n",
      "dtype: float64\n"
     ]
    },
    {
     "name": "stderr",
     "output_type": "stream",
     "text": [
      "/Users/toghruln/anaconda3/lib/python3.11/site-packages/statsmodels/genmod/generalized_linear_model.py:1806: RuntimeWarning:\n",
      "\n",
      "overflow encountered in exp\n",
      "\n"
     ]
    }
   ],
   "source": [
    "gme_data = gme.EstimationData(data_frame=model_data,\n",
    "                              imp_var_name='iso3_d',\n",
    "                              exp_var_name='iso3_o',\n",
    "                              trade_var_name='tradeflow_baci',\n",
    "                              year_var_name='year')\n",
    "\n",
    "\n",
    "\n",
    "model_baseline = gme.EstimationModel(estimation_data = gme_data,\n",
    "                                         lhs_var = 'tradeflow_baci',\n",
    "                                         rhs_var = ['FTA',\n",
    "                                                    'dist', \n",
    "                                                    'col45',\n",
    "                                                    'contig'])\n",
    "\n",
    "\n",
    "results = model_baseline.estimate()\n",
    "glm_results = results['all']\n",
    "print(glm_results.params)\n",
    "print(glm_results.pvalues)\n",
    "print(glm_results.summary())\n",
    "print(glm_results.bse)\n",
    "\n",
    "\n"
   ]
  },
  {
   "cell_type": "code",
   "execution_count": 77,
   "metadata": {},
   "outputs": [],
   "source": [
    "model_data = model_data[model_data['tradeflow_baci'] > 0].copy()\n",
    "model_data['ln_tradeflow'] = np.log(model_data['tradeflow_baci'])\n",
    "model_data['ln_gdp_o'] = np.log(model_data['gdp_o'])\n",
    "model_data['ln_gdp_d'] = np.log(model_data['gdp_d'])\n",
    "model_data['ln_dist'] = np.log(model_data['dist'])\n"
   ]
  },
  {
   "cell_type": "code",
   "execution_count": 78,
   "metadata": {},
   "outputs": [
    {
     "name": "stdout",
     "output_type": "stream",
     "text": [
      "                            OLS Regression Results                            \n",
      "==============================================================================\n",
      "Dep. Variable:           ln_tradeflow   R-squared:                       0.549\n",
      "Model:                            OLS   Adj. R-squared:                  0.547\n",
      "Method:                 Least Squares   F-statistic:                     236.0\n",
      "Date:                Sun, 29 Dec 2024   Prob (F-statistic):               0.00\n",
      "Time:                        00:30:06   Log-Likelihood:                -12383.\n",
      "No. Observations:                5064   AIC:                         2.482e+04\n",
      "Df Residuals:                    5037   BIC:                         2.500e+04\n",
      "Df Model:                          26                                         \n",
      "Covariance Type:            nonrobust                                         \n",
      "===================================================================================\n",
      "                      coef    std err          t      P>|t|      [0.025      0.975]\n",
      "-----------------------------------------------------------------------------------\n",
      "Intercept         -22.1824      0.882    -25.160      0.000     -23.911     -20.454\n",
      "C(year)[T.2001]    -0.2119      0.283     -0.750      0.454      -0.766       0.342\n",
      "C(year)[T.2002]    -0.3014      0.281     -1.072      0.284      -0.852       0.250\n",
      "C(year)[T.2003]    -0.5678      0.282     -2.017      0.044      -1.120      -0.016\n",
      "C(year)[T.2004]    -0.8587      0.278     -3.086      0.002      -1.404      -0.313\n",
      "C(year)[T.2005]    -1.1250      0.279     -4.032      0.000      -1.672      -0.578\n",
      "C(year)[T.2006]    -1.7943      0.277     -6.489      0.000      -2.336      -1.252\n",
      "C(year)[T.2007]    -2.2090      0.275     -8.031      0.000      -2.748      -1.670\n",
      "C(year)[T.2008]    -2.2425      0.276     -8.114      0.000      -2.784      -1.701\n",
      "C(year)[T.2009]    -2.4385      0.277     -8.805      0.000      -2.981      -1.896\n",
      "C(year)[T.2010]    -2.7675      0.273    -10.140      0.000      -3.303      -2.232\n",
      "C(year)[T.2011]    -3.0072      0.274    -10.968      0.000      -3.545      -2.470\n",
      "C(year)[T.2012]    -3.0525      0.275    -11.111      0.000      -3.591      -2.514\n",
      "C(year)[T.2013]    -3.4061      0.276    -12.333      0.000      -3.947      -2.865\n",
      "C(year)[T.2014]    -3.5305      0.278    -12.701      0.000      -4.075      -2.986\n",
      "C(year)[T.2015]    -3.0963      0.274    -11.313      0.000      -3.633      -2.560\n",
      "C(year)[T.2016]    -2.2608      0.270     -8.358      0.000      -2.791      -1.731\n",
      "C(year)[T.2017]    -2.8488      0.266    -10.700      0.000      -3.371      -2.327\n",
      "C(year)[T.2018]    -2.8969      0.268    -10.809      0.000      -3.422      -2.372\n",
      "C(year)[T.2019]    -2.8485      0.265    -10.740      0.000      -3.368      -2.329\n",
      "C(year)[T.2020]    -2.7788      0.269    -10.323      0.000      -3.307      -2.251\n",
      "ln_gdp_o            1.3729      0.026     53.324      0.000       1.322       1.423\n",
      "ln_gdp_d            1.1677      0.027     43.898      0.000       1.116       1.220\n",
      "ln_dist            -1.6432      0.061    -26.881      0.000      -1.763      -1.523\n",
      "contig              0.8292      0.228      3.631      0.000       0.381       1.277\n",
      "FTA                 2.8437      0.176     16.200      0.000       2.500       3.188\n",
      "comlang_off              0          0        nan        nan           0           0\n",
      "col45              -1.6966      0.488     -3.480      0.001      -2.652      -0.741\n",
      "==============================================================================\n",
      "Omnibus:                      110.948   Durbin-Watson:                   0.731\n",
      "Prob(Omnibus):                  0.000   Jarque-Bera (JB):              126.941\n",
      "Skew:                          -0.320   Prob(JB):                     2.72e-28\n",
      "Kurtosis:                       3.437   Cond. No.                     1.00e+16\n",
      "==============================================================================\n",
      "\n",
      "Notes:\n",
      "[1] Standard Errors assume that the covariance matrix of the errors is correctly specified.\n",
      "[2] The smallest eigenvalue is 3.51e-26. This might indicate that there are\n",
      "strong multicollinearity problems or that the design matrix is singular.\n"
     ]
    }
   ],
   "source": [
    "# Example formula with year fixed effects:\n",
    "#   C(year) creates dummy variables for each year.\n",
    "#   Adjust or add variables as needed (comlang_ethno, comleg_posttrans, distcap, etc.)\n",
    "\n",
    "ols_formula = \"\"\"\n",
    "ln_tradeflow ~ ln_gdp_o \n",
    "               + ln_gdp_d\n",
    "               + ln_dist\n",
    "               + contig\n",
    "               + FTA\n",
    "               + comlang_off\n",
    "               + col45\n",
    "               + C(year)\n",
    "\"\"\"\n",
    "\n",
    "# Fit the OLS model\n",
    "ols_model = smf.ols(formula=ols_formula, data=model_data)\n",
    "ols_results = ols_model.fit()\n",
    "\n",
    "print(ols_results.summary())\n"
   ]
  },
  {
   "cell_type": "code",
   "execution_count": 79,
   "metadata": {},
   "outputs": [
    {
     "name": "stdout",
     "output_type": "stream",
     "text": [
      "                 Generalized Linear Model Regression Results                  \n",
      "==============================================================================\n",
      "Dep. Variable:         tradeflow_baci   No. Observations:                 5064\n",
      "Model:                            GLM   Df Residuals:                     5037\n",
      "Model Family:                 Poisson   Df Model:                           26\n",
      "Link Function:                    log   Scale:                          1.0000\n",
      "Method:                          IRLS   Log-Likelihood:            -4.6472e+08\n",
      "Date:                Sun, 29 Dec 2024   Deviance:                   9.2939e+08\n",
      "Time:                        00:30:09   Pearson chi2:                 1.73e+09\n",
      "No. Iterations:                     7   Pseudo R-squ. (CS):              1.000\n",
      "Covariance Type:            nonrobust                                         \n",
      "===================================================================================\n",
      "                      coef    std err          z      P>|z|      [0.025      0.975]\n",
      "-----------------------------------------------------------------------------------\n",
      "Intercept         -11.4842      0.001  -9511.110      0.000     -11.487     -11.482\n",
      "C(year)[T.2001]     0.1235      0.001    176.507      0.000       0.122       0.125\n",
      "C(year)[T.2002]     0.0352      0.001     50.812      0.000       0.034       0.037\n",
      "C(year)[T.2003]     0.1050      0.001    161.930      0.000       0.104       0.106\n",
      "C(year)[T.2004]     0.0893      0.001    144.161      0.000       0.088       0.091\n",
      "C(year)[T.2005]    -0.0943      0.001   -157.444      0.000      -0.095      -0.093\n",
      "C(year)[T.2006]    -0.2774      0.001   -477.739      0.000      -0.279      -0.276\n",
      "C(year)[T.2007]    -0.6538      0.001  -1133.712      0.000      -0.655      -0.653\n",
      "C(year)[T.2008]     0.1034      0.001    189.835      0.000       0.102       0.105\n",
      "C(year)[T.2009]    -0.6096      0.001  -1078.738      0.000      -0.611      -0.609\n",
      "C(year)[T.2010]    -0.4919      0.001   -885.115      0.000      -0.493      -0.491\n",
      "C(year)[T.2011]    -0.6185      0.001  -1115.427      0.000      -0.620      -0.617\n",
      "C(year)[T.2012]    -0.7093      0.001  -1276.326      0.000      -0.710      -0.708\n",
      "C(year)[T.2013]    -0.7652      0.001  -1376.516      0.000      -0.766      -0.764\n",
      "C(year)[T.2014]    -0.9310      0.001  -1664.257      0.000      -0.932      -0.930\n",
      "C(year)[T.2015]    -0.9335      0.001  -1644.933      0.000      -0.935      -0.932\n",
      "C(year)[T.2016]    -0.6736      0.001  -1183.975      0.000      -0.675      -0.672\n",
      "C(year)[T.2017]    -0.8223      0.001  -1451.176      0.000      -0.823      -0.821\n",
      "C(year)[T.2018]    -0.6995      0.001  -1250.933      0.000      -0.701      -0.698\n",
      "C(year)[T.2019]    -0.6654      0.001  -1192.810      0.000      -0.666      -0.664\n",
      "C(year)[T.2020]    -0.8221      0.001  -1449.641      0.000      -0.823      -0.821\n",
      "ln_gdp_o            0.7906   4.03e-05   1.96e+04      0.000       0.790       0.791\n",
      "ln_gdp_d            0.9175   3.72e-05   2.46e+04      0.000       0.917       0.918\n",
      "ln_dist            -1.0098   9.14e-05  -1.11e+04      0.000      -1.010      -1.010\n",
      "contig              0.3573      0.000   2042.739      0.000       0.357       0.358\n",
      "FTA                 0.9799      0.000   5037.822      0.000       0.980       0.980\n",
      "comlang_off              0          0        nan        nan           0           0\n",
      "col45              -0.7837      0.000  -3092.333      0.000      -0.784      -0.783\n",
      "===================================================================================\n"
     ]
    },
    {
     "name": "stderr",
     "output_type": "stream",
     "text": [
      "/Users/toghruln/anaconda3/lib/python3.11/site-packages/statsmodels/genmod/families/links.py:13: FutureWarning:\n",
      "\n",
      "The log link alias is deprecated. Use Log instead. The log link alias will be removed after the 0.15.0 release.\n",
      "\n"
     ]
    }
   ],
   "source": [
    "from statsmodels.genmod import families\n",
    "\n",
    "\n",
    "\n",
    "ppml_formula = \"\"\"\n",
    "tradeflow_baci ~ ln_gdp_o \n",
    "                 + ln_gdp_d\n",
    "                 + ln_dist\n",
    "                 + contig\n",
    "                 + FTA\n",
    "                 + comlang_off\n",
    "                 + col45\n",
    "                 + C(year)\n",
    "\"\"\"\n",
    "\n",
    "ppml_model = smf.glm(\n",
    "    formula=ppml_formula,\n",
    "    data=model_data,\n",
    "    family=families.Poisson(link=families.links.log())\n",
    ")\n",
    "\n",
    "\n",
    "\n",
    "ppml_results = ppml_model.fit()\n",
    "print(ppml_results.summary())\n"
   ]
  },
  {
   "cell_type": "code",
   "execution_count": 133,
   "metadata": {},
   "outputs": [
    {
     "name": "stdout",
     "output_type": "stream",
     "text": [
      "Index(['year', 'iso3_d', 'iso3_o', 'tradeflow_baci', 'tradeflow_imf_o',\n",
      "       'tradeflow_imf_d', 'gdp_d', 'gdp_o', 'col45', 'FTA', 'dist', 'distcap',\n",
      "       'contig', 'comlang_off', 'comlang_ethno', 'comleg_posttrans', 'pop_o',\n",
      "       'pop_d'],\n",
      "      dtype='object')\n"
     ]
    },
    {
     "name": "stderr",
     "output_type": "stream",
     "text": [
      "/var/folders/9w/mh3y2sps7_v81cj0mntlqn3c0000gr/T/ipykernel_40505/3932275335.py:34: SettingWithCopyWarning:\n",
      "\n",
      "\n",
      "A value is trying to be set on a copy of a slice from a DataFrame.\n",
      "Try using .loc[row_indexer,col_indexer] = value instead\n",
      "\n",
      "See the caveats in the documentation: https://pandas.pydata.org/pandas-docs/stable/user_guide/indexing.html#returning-a-view-versus-a-copy\n",
      "\n",
      "/var/folders/9w/mh3y2sps7_v81cj0mntlqn3c0000gr/T/ipykernel_40505/3932275335.py:72: FutureWarning:\n",
      "\n",
      "A value is trying to be set on a copy of a DataFrame or Series through chained assignment using an inplace method.\n",
      "The behavior will change in pandas 3.0. This inplace method will never work because the intermediate object on which we are setting values always behaves as a copy.\n",
      "\n",
      "For example, when doing 'df[col].method(value, inplace=True)', try using 'df.method({col: value}, inplace=True)' or df[col] = df[col].method(value) instead, to perform the operation inplace on the original object.\n",
      "\n",
      "\n",
      "\n",
      "/var/folders/9w/mh3y2sps7_v81cj0mntlqn3c0000gr/T/ipykernel_40505/3932275335.py:73: FutureWarning:\n",
      "\n",
      "A value is trying to be set on a copy of a DataFrame or Series through chained assignment using an inplace method.\n",
      "The behavior will change in pandas 3.0. This inplace method will never work because the intermediate object on which we are setting values always behaves as a copy.\n",
      "\n",
      "For example, when doing 'df[col].method(value, inplace=True)', try using 'df.method({col: value}, inplace=True)' or df[col] = df[col].method(value) instead, to perform the operation inplace on the original object.\n",
      "\n",
      "\n",
      "\n"
     ]
    },
    {
     "name": "stdout",
     "output_type": "stream",
     "text": [
      "Estimation began at 08:25 PM  on Dec 28, 2024\n",
      "Omitted Regressors: ['comlang_off', 'iso3_o_fe_ABW', 'iso3_o_fe_BMU', 'iso3_o_fe_FRO', 'iso3_o_fe_FSM', 'iso3_o_fe_GMB', 'iso3_o_fe_LCA', 'iso3_o_fe_PLW', 'iso3_o_fe_TON', 'iso3_d_fe_AIA', 'iso3_d_fe_ASM', 'iso3_d_fe_ATG', 'iso3_d_fe_BTN', 'iso3_d_fe_CUW', 'iso3_d_fe_ERI', 'iso3_d_fe_FLK', 'iso3_d_fe_FRO', 'iso3_d_fe_GNB', 'iso3_d_fe_GUM', 'iso3_d_fe_HTI', 'iso3_d_fe_KIR', 'iso3_d_fe_LSO', 'iso3_d_fe_MHL', 'iso3_d_fe_MSR', 'iso3_d_fe_NRU', 'iso3_d_fe_SLB', 'iso3_d_fe_SLV', 'iso3_d_fe_SOM', 'iso3_d_fe_STP', 'iso3_d_fe_SXM', 'iso3_d_fe_TLS', 'iso3_d_fe_ZWE']\n",
      "Estimation completed at 08:40 PM  on Dec 28, 2024\n",
      "                 Generalized Linear Model Regression Results                  \n",
      "==============================================================================\n",
      "Dep. Variable:         tradeflow_baci   No. Observations:                41813\n",
      "Model:                            GLM   Df Residuals:                    41427\n",
      "Model Family:                 Poisson   Df Model:                          385\n",
      "Link Function:                    Log   Scale:                          1.0000\n",
      "Method:                          IRLS   Log-Likelihood:            -2.1759e+08\n",
      "Date:                Sat, 28 Dec 2024   Deviance:                   4.3514e+08\n",
      "Time:                        20:40:00   Pearson chi2:                 5.25e+08\n",
      "No. Iterations:                  1000   Pseudo R-squ. (CS):              1.000\n",
      "Covariance Type:                  HC1                                         \n",
      "=================================================================================\n",
      "                    coef    std err          z      P>|z|      [0.025      0.975]\n",
      "---------------------------------------------------------------------------------\n",
      "contig           19.8083     16.999      1.165      0.244     -13.509      53.125\n",
      "dist             -0.0001   2.44e-05     -5.764      0.000      -0.000   -9.28e-05\n",
      "FTA              18.7515        nan        nan        nan         nan         nan\n",
      "iso3_o_fe_AGO    -7.3611      0.792     -9.294      0.000      -8.913      -5.809\n",
      "iso3_o_fe_AIA    -8.4600      0.819    -10.336      0.000     -10.064      -6.856\n",
      "iso3_o_fe_ALB    -7.5892      0.743    -10.219      0.000      -9.045      -6.134\n",
      "iso3_o_fe_ANT    -9.9409      1.180     -8.426      0.000     -12.253      -7.629\n",
      "iso3_o_fe_ARE    -1.1152      0.686     -1.627      0.104      -2.459       0.228\n",
      "iso3_o_fe_ARG    -2.2167      0.724     -3.063      0.002      -3.635      -0.798\n",
      "iso3_o_fe_ARM   -25.5992        nan        nan        nan         nan         nan\n",
      "iso3_o_fe_ASM    -9.2746      0.779    -11.913      0.000     -10.801      -7.749\n",
      "iso3_o_fe_ATG    -9.5204      0.842    -11.305      0.000     -11.171      -7.870\n",
      "iso3_o_fe_AUS    -1.5609      0.895     -1.744      0.081      -3.315       0.194\n",
      "iso3_o_fe_AUT    -1.6267      0.678     -2.399      0.016      -2.956      -0.297\n",
      "iso3_o_fe_AZE     3.3296      0.451      7.388      0.000       2.446       4.213\n",
      "iso3_o_fe_BDI   -11.8711      0.810    -14.649      0.000     -13.459     -10.283\n",
      "iso3_o_fe_BEL    -1.9926      0.674     -2.958      0.003      -3.313      -0.672\n",
      "iso3_o_fe_BEN    -8.4343      0.956     -8.823      0.000     -10.308      -6.561\n",
      "iso3_o_fe_BFA    -6.4771      1.027     -6.307      0.000      -8.490      -4.464\n",
      "iso3_o_fe_BGD    -4.7730      0.755     -6.323      0.000      -6.252      -3.294\n",
      "iso3_o_fe_BGR    -2.9452      0.675     -4.366      0.000      -4.267      -1.623\n",
      "iso3_o_fe_BHR    -7.1495      0.794     -9.000      0.000      -8.706      -5.593\n",
      "iso3_o_fe_BHS   -11.1322      0.779    -14.296      0.000     -12.658      -9.606\n",
      "iso3_o_fe_BIH    -6.9083      0.686    -10.073      0.000      -8.252      -5.564\n",
      "iso3_o_fe_BLR   -20.1592     11.181     -1.803      0.071     -42.073       1.755\n",
      "iso3_o_fe_BLZ    -5.0818      0.796     -6.382      0.000      -6.642      -3.521\n",
      "iso3_o_fe_BOL    -9.1906      0.810    -11.340      0.000     -10.779      -7.602\n",
      "iso3_o_fe_BRA    -0.1878      0.720     -0.261      0.794      -1.600       1.224\n",
      "iso3_o_fe_BRB    -8.2480      0.789    -10.449      0.000      -9.795      -6.701\n",
      "iso3_o_fe_BRN   -11.6112      0.724    -16.047      0.000     -13.029     -10.193\n",
      "iso3_o_fe_BTN    -9.0529      0.806    -11.232      0.000     -10.633      -7.473\n",
      "iso3_o_fe_BWA    -8.0397      0.978     -8.221      0.000      -9.957      -6.123\n",
      "iso3_o_fe_CAF    -8.7459      0.874    -10.012      0.000     -10.458      -7.034\n",
      "iso3_o_fe_CAN    -1.2809      0.785     -1.631      0.103      -2.820       0.259\n",
      "iso3_o_fe_CHE    -1.2046      0.685     -1.758      0.079      -2.547       0.138\n",
      "iso3_o_fe_CHL    -4.3565      0.745     -5.848      0.000      -5.816      -2.897\n",
      "iso3_o_fe_CHN     0.8929      0.688      1.298      0.194      -0.455       2.241\n",
      "iso3_o_fe_CIV    -9.1292      0.738    -12.371      0.000     -10.576      -7.683\n",
      "iso3_o_fe_CMR    -8.6748      0.721    -12.024      0.000     -10.089      -7.261\n",
      "iso3_o_fe_COD   -13.1092      0.772    -16.987      0.000     -14.622     -11.597\n",
      "iso3_o_fe_COG    -8.3229      0.725    -11.473      0.000      -9.745      -6.901\n",
      "iso3_o_fe_COL    -5.4603      0.761     -7.179      0.000      -6.951      -3.970\n",
      "iso3_o_fe_COM   -10.6186      0.729    -14.564      0.000     -12.048      -9.190\n",
      "iso3_o_fe_CPV    -9.9212      0.903    -10.986      0.000     -11.691      -8.151\n",
      "iso3_o_fe_CRI    -5.5211      0.759     -7.271      0.000      -7.009      -4.033\n",
      "iso3_o_fe_CUB    -6.0765      1.010     -6.019      0.000      -8.055      -4.098\n",
      "iso3_o_fe_CUW    -9.1829      0.775    -11.846      0.000     -10.702      -7.664\n",
      "iso3_o_fe_CYP    -4.2019      0.801     -5.244      0.000      -5.772      -2.631\n",
      "iso3_o_fe_CZE    -1.5312      0.680     -2.252      0.024      -2.864      -0.199\n",
      "iso3_o_fe_DEU     0.4341      0.676      0.642      0.521      -0.891       1.759\n",
      "iso3_o_fe_DJI    -9.6293      0.766    -12.569      0.000     -11.131      -8.128\n",
      "iso3_o_fe_DMA    -9.5394      0.769    -12.410      0.000     -11.046      -8.033\n",
      "iso3_o_fe_DNK    -2.8620      0.677     -4.227      0.000      -4.189      -1.535\n",
      "iso3_o_fe_DOM    -7.5408      0.747    -10.093      0.000      -9.005      -6.077\n",
      "iso3_o_fe_DZA    -6.9990      0.770     -9.088      0.000      -8.508      -5.490\n",
      "iso3_o_fe_ECU    -3.0671      0.731     -4.199      0.000      -4.499      -1.635\n",
      "iso3_o_fe_EGY    -4.5262      0.711     -6.362      0.000      -5.921      -3.132\n",
      "iso3_o_fe_ERI    -9.2539      1.059     -8.742      0.000     -11.329      -7.179\n",
      "iso3_o_fe_ESP    -1.7853      0.685     -2.605      0.009      -3.129      -0.442\n",
      "iso3_o_fe_EST    -3.8059      0.687     -5.537      0.000      -5.153      -2.459\n",
      "iso3_o_fe_ETH    -7.9326      0.747    -10.624      0.000      -9.396      -6.469\n",
      "iso3_o_fe_FIN    -1.8046      0.706     -2.557      0.011      -3.188      -0.422\n",
      "iso3_o_fe_FJI    -7.6534      0.762    -10.040      0.000      -9.147      -6.159\n",
      "iso3_o_fe_FLK    -8.5232      0.984     -8.658      0.000     -10.453      -6.594\n",
      "iso3_o_fe_FRA    -0.6418      0.683     -0.939      0.348      -1.981       0.697\n",
      "iso3_o_fe_GAB    -9.9737      0.812    -12.276      0.000     -11.566      -8.381\n",
      "iso3_o_fe_GBR     0.6974      0.690      1.011      0.312      -0.655       2.050\n",
      "iso3_o_fe_GEO   -39.2799     18.538     -2.119      0.034     -75.613      -2.947\n",
      "iso3_o_fe_GHA    -6.3597      0.996     -6.385      0.000      -8.312      -4.408\n",
      "iso3_o_fe_GIB    -7.5659      0.702    -10.781      0.000      -8.941      -6.190\n",
      "iso3_o_fe_GIN    -3.1056      0.733     -4.235      0.000      -4.543      -1.668\n",
      "iso3_o_fe_GNB   -11.8965      0.815    -14.603      0.000     -13.493     -10.300\n",
      "iso3_o_fe_GNQ    -9.6137      0.889    -10.811      0.000     -11.357      -7.871\n",
      "iso3_o_fe_GRC    -3.3146      0.674     -4.915      0.000      -4.636      -1.993\n",
      "iso3_o_fe_GRD   -10.6311      0.799    -13.313      0.000     -12.196      -9.066\n",
      "iso3_o_fe_GRL    -7.5166      0.961     -7.819      0.000      -9.401      -5.633\n",
      "iso3_o_fe_GTM    -6.7001      0.768     -8.727      0.000      -8.205      -5.195\n",
      "iso3_o_fe_GUM   -10.0636      0.702    -14.341      0.000     -11.439      -8.688\n",
      "iso3_o_fe_GUY    -5.6850      1.059     -5.370      0.000      -7.760      -3.610\n",
      "iso3_o_fe_HKG    -3.0630      0.719     -4.263      0.000      -4.471      -1.655\n",
      "iso3_o_fe_HND    -8.1527      0.787    -10.356      0.000      -9.696      -6.610\n",
      "iso3_o_fe_HRV    -3.6770      0.758     -4.854      0.000      -5.162      -2.192\n",
      "iso3_o_fe_HTI   -12.7234      0.740    -17.195      0.000     -14.174     -11.273\n",
      "iso3_o_fe_HUN    -2.1794      0.677     -3.219      0.001      -3.506      -0.852\n",
      "iso3_o_fe_IDN    -2.2415      0.732     -3.062      0.002      -3.676      -0.807\n",
      "iso3_o_fe_IND    -1.7206      0.672     -2.559      0.010      -3.038      -0.403\n",
      "iso3_o_fe_IRL    -3.2062      0.676     -4.741      0.000      -4.532      -1.881\n",
      "iso3_o_fe_IRN   -20.3871        nan        nan        nan         nan         nan\n",
      "iso3_o_fe_IRQ    -7.6274      0.709    -10.752      0.000      -9.018      -6.237\n",
      "iso3_o_fe_ISL    -5.2721      0.740     -7.122      0.000      -6.723      -3.821\n",
      "iso3_o_fe_ISR    -1.5381      0.682     -2.256      0.024      -2.875      -0.202\n",
      "iso3_o_fe_ITA    -0.1825      0.679     -0.269      0.788      -1.514       1.149\n",
      "iso3_o_fe_JAM    -2.7056      0.803     -3.369      0.001      -4.280      -1.131\n",
      "iso3_o_fe_JOR    -5.3391      0.677     -7.887      0.000      -6.666      -4.012\n",
      "iso3_o_fe_JPN    -0.2103      0.697     -0.302      0.763      -1.576       1.155\n",
      "iso3_o_fe_KAZ   -39.2976     10.278     -3.823      0.000     -59.443     -19.153\n",
      "iso3_o_fe_KEN    -6.4879      0.706     -9.192      0.000      -7.871      -5.104\n",
      "iso3_o_fe_KGZ   -23.7017        nan        nan        nan         nan         nan\n",
      "iso3_o_fe_KHM    -5.2174      0.724     -7.210      0.000      -6.636      -3.799\n",
      "iso3_o_fe_KIR   -11.0921      0.874    -12.684      0.000     -12.806      -9.378\n",
      "iso3_o_fe_KNA    -5.6434      0.939     -6.011      0.000      -7.483      -3.803\n",
      "iso3_o_fe_KOR    -0.6024      0.699     -0.862      0.389      -1.973       0.768\n",
      "iso3_o_fe_KWT    -5.9314      0.727     -8.164      0.000      -7.355      -4.507\n",
      "iso3_o_fe_LAO    -8.5261      0.773    -11.024      0.000     -10.042      -7.010\n",
      "iso3_o_fe_LBN    -5.2493      0.682     -7.693      0.000      -6.587      -3.912\n",
      "iso3_o_fe_LBR   -10.5133      0.771    -13.630      0.000     -12.025      -9.002\n",
      "iso3_o_fe_LBY    -6.9067      0.872     -7.921      0.000      -8.616      -5.198\n",
      "iso3_o_fe_LKA    -2.3363      0.693     -3.370      0.001      -3.695      -0.978\n",
      "iso3_o_fe_LSO   -11.9268      0.782    -15.258      0.000     -13.459     -10.395\n",
      "iso3_o_fe_LTU    -2.7464      0.679     -4.044      0.000      -4.077      -1.415\n",
      "iso3_o_fe_LUX    -2.7091      0.734     -3.692      0.000      -4.147      -1.271\n",
      "iso3_o_fe_LVA    -3.2790      0.680     -4.824      0.000      -4.611      -1.947\n",
      "iso3_o_fe_MAC   -12.9646      0.646    -20.074      0.000     -14.230     -11.699\n",
      "iso3_o_fe_MAR    -4.9795      0.702     -7.098      0.000      -6.355      -3.604\n",
      "iso3_o_fe_MDA   -23.1561     11.249     -2.058      0.040     -45.204      -1.108\n",
      "iso3_o_fe_MDG    -7.4590      0.746    -10.002      0.000      -8.921      -5.997\n",
      "iso3_o_fe_MDV   -11.8162      0.718    -16.455      0.000     -13.224     -10.409\n",
      "iso3_o_fe_MEX    -2.3108      0.753     -3.070      0.002      -3.786      -0.836\n",
      "iso3_o_fe_MHL   -10.2815      0.911    -11.287      0.000     -12.067      -8.496\n",
      "iso3_o_fe_MKD    -6.3158      0.683     -9.243      0.000      -7.655      -4.977\n",
      "iso3_o_fe_MLI   -11.5314      0.940    -12.265      0.000     -13.374      -9.689\n",
      "iso3_o_fe_MLT    -7.0378      0.706     -9.969      0.000      -8.422      -5.654\n",
      "iso3_o_fe_MMR    -6.3783      0.782     -8.152      0.000      -7.912      -4.845\n",
      "iso3_o_fe_MNE    -8.6691      0.757    -11.447      0.000     -10.153      -7.185\n",
      "iso3_o_fe_MNG    -7.8375      0.884     -8.866      0.000      -9.570      -6.105\n",
      "iso3_o_fe_MOZ    -9.3584      0.751    -12.454      0.000     -10.831      -7.886\n",
      "iso3_o_fe_MRT    -8.5437      0.743    -11.494      0.000     -10.001      -7.087\n",
      "iso3_o_fe_MSR   -12.3268      0.945    -13.043      0.000     -14.179     -10.475\n",
      "iso3_o_fe_MUS    -7.8925      0.742    -10.640      0.000      -9.346      -6.439\n",
      "iso3_o_fe_MWI    -7.1154      0.722     -9.857      0.000      -8.530      -5.701\n",
      "iso3_o_fe_MYS    -1.8533      0.699     -2.650      0.008      -3.224      -0.482\n",
      "iso3_o_fe_NAM    -8.0557      0.932     -8.643      0.000      -9.883      -6.229\n",
      "iso3_o_fe_NCL    -8.4162      0.811    -10.379      0.000     -10.006      -6.827\n",
      "iso3_o_fe_NER    -8.0784      1.032     -7.826      0.000     -10.102      -6.055\n",
      "iso3_o_fe_NGA    -8.4771      0.784    -10.806      0.000     -10.015      -6.940\n",
      "iso3_o_fe_NIC   -10.5266      0.767    -13.723      0.000     -12.030      -9.023\n",
      "iso3_o_fe_NLD    -0.7696      0.677     -1.137      0.256      -2.097       0.558\n",
      "iso3_o_fe_NOR    -1.7405      0.693     -2.512      0.012      -3.098      -0.383\n",
      "iso3_o_fe_NPL    -9.1881      0.704    -13.050      0.000     -10.568      -7.808\n",
      "iso3_o_fe_NRU    -9.7802      0.757    -12.926      0.000     -11.263      -8.297\n",
      "iso3_o_fe_NZL    -0.8862      0.723     -1.226      0.220      -2.303       0.531\n",
      "iso3_o_fe_OMN    -5.3409      0.727     -7.350      0.000      -6.765      -3.917\n",
      "iso3_o_fe_PAK    -3.3281      0.696     -4.780      0.000      -4.693      -1.963\n",
      "iso3_o_fe_PAN    -3.2557      0.765     -4.255      0.000      -4.755      -1.756\n",
      "iso3_o_fe_PER    -5.5770      0.814     -6.852      0.000      -7.172      -3.982\n",
      "iso3_o_fe_PHL    -5.4547      0.726     -7.514      0.000      -6.878      -4.032\n",
      "iso3_o_fe_PNG   -12.3085      0.687    -17.915      0.000     -13.655     -10.962\n",
      "iso3_o_fe_POL    -1.5304      0.674     -2.272      0.023      -2.851      -0.210\n",
      "iso3_o_fe_PRK    -7.7197      0.785     -9.829      0.000      -9.259      -6.180\n",
      "iso3_o_fe_PRT    -3.8310      0.709     -5.407      0.000      -5.220      -2.442\n",
      "iso3_o_fe_PRY    -5.9354      0.749     -7.928      0.000      -7.403      -4.468\n",
      "iso3_o_fe_PYF    -9.2525      1.023     -9.043      0.000     -11.258      -7.247\n",
      "iso3_o_fe_QAT    -6.2090      0.921     -6.742      0.000      -8.014      -4.404\n",
      "iso3_o_fe_ROU    -2.5700      0.678     -3.791      0.000      -3.899      -1.241\n",
      "iso3_o_fe_RUS   -37.3541     20.711     -1.804      0.071     -77.947       3.239\n",
      "iso3_o_fe_RWA    -7.9460      0.785    -10.128      0.000      -9.484      -6.408\n",
      "iso3_o_fe_SAU    -4.0662      0.677     -6.009      0.000      -5.392      -2.740\n",
      "iso3_o_fe_SCG    -8.0550      0.739    -10.904      0.000      -9.503      -6.607\n",
      "iso3_o_fe_SDN    -8.9101      0.725    -12.297      0.000     -10.330      -7.490\n",
      "iso3_o_fe_SEN    -8.5432      0.721    -11.857      0.000      -9.955      -7.131\n",
      "iso3_o_fe_SGP    -1.3078      0.746     -1.753      0.080      -2.770       0.154\n",
      "iso3_o_fe_SLB   -12.9358      0.982    -13.178      0.000     -14.860     -11.012\n",
      "iso3_o_fe_SLE    -9.0965      0.772    -11.788      0.000     -10.609      -7.584\n",
      "iso3_o_fe_SLV    -4.9058      1.070     -4.585      0.000      -7.003      -2.809\n",
      "iso3_o_fe_SMR    -7.1480      0.654    -10.923      0.000      -8.431      -5.865\n",
      "iso3_o_fe_SOM   -11.9707      0.709    -16.882      0.000     -13.360     -10.581\n",
      "iso3_o_fe_SRB    -3.6860      0.731     -5.043      0.000      -5.119      -2.253\n",
      "iso3_o_fe_STP   -13.5243      1.030    -13.132      0.000     -15.543     -11.506\n",
      "iso3_o_fe_SUR   -10.1213      0.973    -10.398      0.000     -12.029      -8.214\n",
      "iso3_o_fe_SVK    -2.9573      0.685     -4.319      0.000      -4.299      -1.615\n",
      "iso3_o_fe_SVN    -3.5271      0.680     -5.185      0.000      -4.860      -2.194\n",
      "iso3_o_fe_SWE    -1.9739      0.676     -2.922      0.003      -3.298      -0.650\n",
      "iso3_o_fe_SWZ    -8.0029      0.891     -8.977      0.000      -9.750      -6.256\n",
      "iso3_o_fe_SXM   -10.8541      0.759    -14.300      0.000     -12.342      -9.366\n",
      "iso3_o_fe_SYC    -6.3616      0.835     -7.618      0.000      -7.998      -4.725\n",
      "iso3_o_fe_SYR    -5.6895      0.719     -7.917      0.000      -7.098      -4.281\n",
      "iso3_o_fe_TCD   -13.6866      0.795    -17.221      0.000     -15.244     -12.129\n",
      "iso3_o_fe_TGO   -15.5844      0.839    -18.574      0.000     -17.229     -13.940\n",
      "iso3_o_fe_THA    -2.5965      0.694     -3.744      0.000      -3.956      -1.237\n",
      "iso3_o_fe_TJK   -25.6506     12.440     -2.062      0.039     -50.033      -1.268\n",
      "iso3_o_fe_TKM   -40.2694     12.076     -3.335      0.001     -63.937     -16.602\n",
      "iso3_o_fe_TLS   -12.4493      0.892    -13.959      0.000     -14.197     -10.701\n",
      "iso3_o_fe_TTO    -6.9227      0.911     -7.601      0.000      -8.708      -5.138\n",
      "iso3_o_fe_TUN    -5.0315      0.747     -6.733      0.000      -6.496      -3.567\n",
      "iso3_o_fe_TUR   -18.6405        nan        nan        nan         nan         nan\n",
      "iso3_o_fe_TUV    -8.7105      1.039     -8.387      0.000     -10.746      -6.675\n",
      "iso3_o_fe_TWN    -3.0213      0.699     -4.321      0.000      -4.392      -1.651\n",
      "iso3_o_fe_TZA    -6.6730      0.706     -9.456      0.000      -8.056      -5.290\n",
      "iso3_o_fe_UGA   -10.2825      0.806    -12.755      0.000     -11.862      -8.702\n",
      "iso3_o_fe_UKR   -18.7479     11.152     -1.681      0.093     -40.605       3.109\n",
      "iso3_o_fe_URY    -5.1344      0.845     -6.073      0.000      -6.791      -3.477\n",
      "iso3_o_fe_USA     0.6074      0.699      0.869      0.385      -0.763       1.978\n",
      "iso3_o_fe_UZB   -21.6424        nan        nan        nan         nan         nan\n",
      "iso3_o_fe_VCT   -15.9418      0.949    -16.790      0.000     -17.803     -14.081\n",
      "iso3_o_fe_VEN    -4.2768      0.861     -4.968      0.000      -5.964      -2.590\n",
      "iso3_o_fe_VNM    -2.7991      0.731     -3.828      0.000      -4.232      -1.366\n",
      "iso3_o_fe_VUT   -11.4627      0.712    -16.103      0.000     -12.858     -10.068\n",
      "iso3_o_fe_WSM   -15.8479      1.026    -15.439      0.000     -17.860     -13.836\n",
      "iso3_o_fe_YEM    -9.0007      0.818    -10.997      0.000     -10.605      -7.397\n",
      "iso3_o_fe_ZAF    -2.4179      0.807     -2.997      0.003      -3.999      -0.837\n",
      "iso3_o_fe_ZMB    -8.6081      0.853    -10.088      0.000     -10.281      -6.936\n",
      "iso3_o_fe_ZWE    -5.7081      0.726     -7.860      0.000      -7.132      -4.285\n",
      "iso3_d_fe_ABW     1.8680      0.552      3.385      0.001       0.786       2.950\n",
      "iso3_d_fe_AGO     3.3596      0.712      4.717      0.000       1.964       4.756\n",
      "iso3_d_fe_ALB     5.1895      0.524      9.901      0.000       4.162       6.217\n",
      "iso3_d_fe_ANT    -0.8306      0.787     -1.056      0.291      -2.373       0.711\n",
      "iso3_d_fe_ARE     6.3896      0.451     14.172      0.000       5.506       7.273\n",
      "iso3_d_fe_ARG     6.2175      0.636      9.772      0.000       4.971       7.465\n",
      "iso3_d_fe_ARM   -24.6215        nan        nan        nan         nan         nan\n",
      "iso3_d_fe_AUS     8.8896      0.569     15.616      0.000       7.774      10.005\n",
      "iso3_d_fe_AUT     8.8553      0.476     18.595      0.000       7.922       9.789\n",
      "iso3_d_fe_BDI    -2.6079      0.641     -4.069      0.000      -3.864      -1.352\n",
      "iso3_d_fe_BEL     6.0817      0.456     13.347      0.000       5.189       6.975\n",
      "iso3_d_fe_BEN     5.8936      0.927      6.357      0.000       4.077       7.711\n",
      "iso3_d_fe_BFA    -0.0601      0.709     -0.085      0.932      -1.449       1.329\n",
      "iso3_d_fe_BGD     3.5841      0.513      6.987      0.000       2.579       4.590\n",
      "iso3_d_fe_BGR     8.4122      0.553     15.216      0.000       7.329       9.496\n",
      "iso3_d_fe_BHR     2.8979      0.837      3.460      0.001       1.256       4.539\n",
      "iso3_d_fe_BHS     8.4173      0.626     13.440      0.000       7.190       9.645\n",
      "iso3_d_fe_BIH     4.3228      1.041      4.153      0.000       2.283       6.363\n",
      "iso3_d_fe_BLR   -10.9552        nan        nan        nan         nan         nan\n",
      "iso3_d_fe_BLZ     4.1557      0.940      4.423      0.000       2.314       5.997\n",
      "iso3_d_fe_BMU     0.9351      0.463      2.020      0.043       0.028       1.843\n",
      "iso3_d_fe_BOL     0.2767      0.545      0.508      0.611      -0.791       1.344\n",
      "iso3_d_fe_BRA     8.0304      0.704     11.401      0.000       6.650       9.411\n",
      "iso3_d_fe_BRB    -0.3077      0.855     -0.360      0.719      -1.984       1.369\n",
      "iso3_d_fe_BRN     1.4183      0.592      2.394      0.017       0.257       2.579\n",
      "iso3_d_fe_BWA     1.4193      0.575      2.468      0.014       0.292       2.546\n",
      "iso3_d_fe_CAF     1.5580      0.918      1.697      0.090      -0.242       3.358\n",
      "iso3_d_fe_CAN    10.4203      0.486     21.450      0.000       9.468      11.373\n",
      "iso3_d_fe_CHE     9.1688      0.489     18.760      0.000       8.211      10.127\n",
      "iso3_d_fe_CHL    10.2804      0.876     11.742      0.000       8.564      11.996\n",
      "iso3_d_fe_CHN     9.7624      0.472     20.666      0.000       8.837      10.688\n",
      "iso3_d_fe_CIV     1.9783      0.829      2.387      0.017       0.354       3.603\n",
      "iso3_d_fe_CMR     0.7532      0.560      1.345      0.179      -0.345       1.851\n",
      "iso3_d_fe_COD     1.3053      0.462      2.824      0.005       0.399       2.211\n",
      "iso3_d_fe_COG     3.1495      0.811      3.884      0.000       1.560       4.739\n",
      "iso3_d_fe_COL     3.0067      0.559      5.379      0.000       1.911       4.102\n",
      "iso3_d_fe_COM     0.4027      0.612      0.658      0.511      -0.797       1.603\n",
      "iso3_d_fe_CPV     5.1187      0.969      5.284      0.000       3.220       7.017\n",
      "iso3_d_fe_CRI    -0.1178      0.555     -0.212      0.832      -1.206       0.970\n",
      "iso3_d_fe_CUB     4.1797      0.517      8.078      0.000       3.166       5.194\n",
      "iso3_d_fe_CYP     6.6784      0.493     13.544      0.000       5.712       7.645\n",
      "iso3_d_fe_CZE    10.2450      0.453     22.626      0.000       9.358      11.133\n",
      "iso3_d_fe_DEU    10.4662      0.468     22.357      0.000       9.549      11.384\n",
      "iso3_d_fe_DJI     2.0597      0.620      3.323      0.001       0.845       3.274\n",
      "iso3_d_fe_DMA    -0.7030      0.760     -0.925      0.355      -2.192       0.786\n",
      "iso3_d_fe_DNK     5.8824      0.625      9.409      0.000       4.657       7.108\n",
      "iso3_d_fe_DOM    -1.7845      0.788     -2.266      0.023      -3.328      -0.241\n",
      "iso3_d_fe_DZA     5.6565      0.670      8.444      0.000       4.344       6.969\n",
      "iso3_d_fe_ECU     1.0452      0.679      1.539      0.124      -0.286       2.376\n",
      "iso3_d_fe_EGY     7.1950      0.544     13.224      0.000       6.129       8.261\n",
      "iso3_d_fe_ESP     9.8656      0.495     19.948      0.000       8.896      10.835\n",
      "iso3_d_fe_EST     4.1943      0.486      8.635      0.000       3.242       5.146\n",
      "iso3_d_fe_ETH     0.8997      0.829      1.085      0.278      -0.726       2.525\n",
      "iso3_d_fe_FIN     6.0451      1.016      5.950      0.000       4.054       8.036\n",
      "iso3_d_fe_FJI    -0.8989      0.646     -1.391      0.164      -2.166       0.368\n",
      "iso3_d_fe_FRA    10.8994      0.483     22.553      0.000       9.952      11.847\n",
      "iso3_d_fe_FSM    -3.8659      0.773     -5.001      0.000      -5.381      -2.351\n",
      "iso3_d_fe_GAB     0.6789      0.510      1.332      0.183      -0.320       1.678\n",
      "iso3_d_fe_GBR     9.3318      0.499     18.710      0.000       8.354      10.309\n",
      "iso3_d_fe_GEO   -28.9357        nan        nan        nan         nan         nan\n",
      "iso3_d_fe_GHA     3.4435      0.718      4.796      0.000       2.036       4.851\n",
      "iso3_d_fe_GIB     7.7024      0.540     14.265      0.000       6.644       8.761\n",
      "iso3_d_fe_GIN     1.9182      0.689      2.783      0.005       0.567       3.269\n",
      "iso3_d_fe_GMB    -0.1255      0.463     -0.271      0.786      -1.033       0.782\n",
      "iso3_d_fe_GNQ     1.8647      0.590      3.162      0.002       0.709       3.021\n",
      "iso3_d_fe_GRC     9.3366      0.479     19.495      0.000       8.398      10.275\n",
      "iso3_d_fe_GRD    -4.1217      0.769     -5.360      0.000      -5.629      -2.615\n",
      "iso3_d_fe_GRL    -2.4872      0.674     -3.691      0.000      -3.808      -1.166\n",
      "iso3_d_fe_GTM    -1.1179      0.827     -1.352      0.176      -2.738       0.502\n",
      "iso3_d_fe_GUY     1.1137      0.811      1.373      0.170      -0.476       2.703\n",
      "iso3_d_fe_HKG     7.0568      0.532     13.268      0.000       6.014       8.099\n",
      "iso3_d_fe_HND    -4.1126      0.822     -5.004      0.000      -5.724      -2.502\n",
      "iso3_d_fe_HRV     9.4306      0.465     20.272      0.000       8.519      10.342\n",
      "iso3_d_fe_HUN     5.5176      0.806      6.848      0.000       3.938       7.097\n",
      "iso3_d_fe_IDN    11.0187      0.504     21.861      0.000      10.031      12.007\n",
      "iso3_d_fe_IND    10.1738      0.506     20.114      0.000       9.182      11.165\n",
      "iso3_d_fe_IRL     5.8705      0.614      9.555      0.000       4.666       7.075\n",
      "iso3_d_fe_IRN   -11.3127     22.451     -0.504      0.614     -55.315      32.690\n",
      "iso3_d_fe_IRQ     8.1034      0.556     14.571      0.000       7.013       9.193\n",
      "iso3_d_fe_ISL     6.4668      0.841      7.694      0.000       4.819       8.114\n",
      "iso3_d_fe_ISR    10.6241      0.474     22.416      0.000       9.695      11.553\n",
      "iso3_d_fe_ITA    12.4170      0.463     26.830      0.000      11.510      13.324\n",
      "iso3_d_fe_JAM    -3.2035      0.805     -3.980      0.000      -4.781      -1.626\n",
      "iso3_d_fe_JOR     3.1585      0.640      4.938      0.000       1.905       4.412\n",
      "iso3_d_fe_JPN     8.1362      0.527     15.452      0.000       7.104       9.168\n",
      "iso3_d_fe_KAZ   -30.5122     17.436     -1.750      0.080     -64.686       3.662\n",
      "iso3_d_fe_KEN     2.1642      0.876      2.469      0.014       0.446       3.882\n",
      "iso3_d_fe_KGZ   -12.7209     10.518     -1.209      0.226     -33.335       7.894\n",
      "iso3_d_fe_KHM     2.3506      0.692      3.398      0.001       0.995       3.706\n",
      "iso3_d_fe_KNA    -3.8900      1.013     -3.840      0.000      -5.875      -1.905\n",
      "iso3_d_fe_KOR     8.8947      0.616     14.438      0.000       7.687      10.102\n",
      "iso3_d_fe_KWT     1.9222      0.550      3.497      0.000       0.845       2.999\n",
      "iso3_d_fe_LAO     2.3272      0.529      4.399      0.000       1.290       3.364\n",
      "iso3_d_fe_LBN     6.5789      0.480     13.693      0.000       5.637       7.521\n",
      "iso3_d_fe_LBR     0.0274      0.858      0.032      0.974      -1.653       1.708\n",
      "iso3_d_fe_LBY     7.8823      0.550     14.333      0.000       6.804       8.960\n",
      "iso3_d_fe_LCA    -0.2724      0.762     -0.357      0.721      -1.766       1.221\n",
      "iso3_d_fe_LKA     0.6716      0.611      1.098      0.272      -0.527       1.870\n",
      "iso3_d_fe_LTU     5.5861      0.498     11.220      0.000       4.610       6.562\n",
      "iso3_d_fe_LUX     6.3221      0.531     11.913      0.000       5.282       7.362\n",
      "iso3_d_fe_LVA     5.5275      0.467     11.824      0.000       4.611       6.444\n",
      "iso3_d_fe_MAC    -3.0277      0.824     -3.675      0.000      -4.642      -1.413\n",
      "iso3_d_fe_MAR     6.7847      0.653     10.389      0.000       5.505       8.065\n",
      "iso3_d_fe_MDA   -14.9044      3.283     -4.540      0.000     -21.338      -8.470\n",
      "iso3_d_fe_MDG    -3.8485      0.714     -5.391      0.000      -5.248      -2.449\n",
      "iso3_d_fe_MDV     1.3663      0.541      2.527      0.011       0.307       2.426\n",
      "iso3_d_fe_MEX     3.9031      0.540      7.221      0.000       2.844       4.962\n",
      "iso3_d_fe_MKD     1.2710      0.515      2.466      0.014       0.261       2.281\n",
      "iso3_d_fe_MLI     2.0133      0.622      3.235      0.001       0.793       3.233\n",
      "iso3_d_fe_MLT     8.1736      0.477     17.121      0.000       7.238       9.109\n",
      "iso3_d_fe_MMR     1.2883      0.634      2.033      0.042       0.046       2.530\n",
      "iso3_d_fe_MNE     1.7534      0.615      2.851      0.004       0.548       2.959\n",
      "iso3_d_fe_MNG     2.9183      0.484      6.034      0.000       1.970       3.866\n",
      "iso3_d_fe_MOZ     2.4134      0.596      4.046      0.000       1.244       3.582\n",
      "iso3_d_fe_MRT     1.8801      0.530      3.547      0.000       0.841       2.919\n",
      "iso3_d_fe_MUS    -0.2684      0.609     -0.440      0.660      -1.463       0.926\n",
      "iso3_d_fe_MWI    -0.1470      0.604     -0.243      0.808      -1.332       1.038\n",
      "iso3_d_fe_MYS     9.1816      0.604     15.213      0.000       7.999      10.364\n",
      "iso3_d_fe_NAM     3.0802      0.893      3.449      0.001       1.330       4.831\n",
      "iso3_d_fe_NCL    -0.8465      0.634     -1.335      0.182      -2.089       0.396\n",
      "iso3_d_fe_NER     3.7137      0.675      5.500      0.000       2.390       5.037\n",
      "iso3_d_fe_NGA     4.7183      0.937      5.035      0.000       2.882       6.555\n",
      "iso3_d_fe_NIC    -1.4424      0.826     -1.747      0.081      -3.061       0.176\n",
      "iso3_d_fe_NLD     8.8852      0.654     13.591      0.000       7.604      10.167\n",
      "iso3_d_fe_NOR     6.2293      0.740      8.414      0.000       4.778       7.680\n",
      "iso3_d_fe_NPL     0.3347      0.621      0.539      0.590      -0.882       1.552\n",
      "iso3_d_fe_NZL     4.7781      0.622      7.680      0.000       3.559       5.998\n",
      "iso3_d_fe_OMN     3.6867      0.592      6.223      0.000       2.526       4.848\n",
      "iso3_d_fe_PAK     4.1778      0.499      8.375      0.000       3.200       5.156\n",
      "iso3_d_fe_PAN     5.0898      0.648      7.850      0.000       3.819       6.361\n",
      "iso3_d_fe_PER     2.2050      0.745      2.960      0.003       0.745       3.665\n",
      "iso3_d_fe_PHL     2.5938      0.672      3.861      0.000       1.277       3.910\n",
      "iso3_d_fe_PLW    -3.8301      0.482     -7.946      0.000      -4.775      -2.885\n",
      "iso3_d_fe_PNG     0.8466      0.568      1.492      0.136      -0.266       1.959\n",
      "iso3_d_fe_POL     6.4586      0.545     11.848      0.000       5.390       7.527\n",
      "iso3_d_fe_PRK    -1.0074      0.665     -1.515      0.130      -2.311       0.296\n",
      "iso3_d_fe_PRT     9.6825      0.465     20.821      0.000       8.771      10.594\n",
      "iso3_d_fe_PRY     0.2539      0.844      0.301      0.764      -1.400       1.908\n",
      "iso3_d_fe_PYF    -0.4063      0.595     -0.682      0.495      -1.573       0.761\n",
      "iso3_d_fe_QAT     3.7061      0.535      6.923      0.000       2.657       4.755\n",
      "iso3_d_fe_ROU     8.4653      0.468     18.093      0.000       7.548       9.382\n",
      "iso3_d_fe_RUS   -28.4250        nan        nan        nan         nan         nan\n",
      "iso3_d_fe_RWA     1.0971      0.796      1.378      0.168      -0.463       2.657\n",
      "iso3_d_fe_SAU     4.2174      0.576      7.318      0.000       3.088       5.347\n",
      "iso3_d_fe_SCG     4.9333      0.808      6.105      0.000       3.350       6.517\n",
      "iso3_d_fe_SDN     0.9003      0.573      1.570      0.116      -0.224       2.024\n",
      "iso3_d_fe_SEN     5.0583      0.595      8.507      0.000       3.893       6.224\n",
      "iso3_d_fe_SGP     8.5964      0.605     14.208      0.000       7.411       9.782\n",
      "iso3_d_fe_SLE     1.0892      0.489      2.227      0.026       0.131       2.048\n",
      "iso3_d_fe_SMR     0.4415      0.550      0.803      0.422      -0.636       1.519\n",
      "iso3_d_fe_SRB     4.2338      0.588      7.206      0.000       3.082       5.385\n",
      "iso3_d_fe_SUR     1.0076      0.767      1.314      0.189      -0.496       2.511\n",
      "iso3_d_fe_SVK     4.4082      0.565      7.798      0.000       3.300       5.516\n",
      "iso3_d_fe_SVN     6.3111      0.607     10.397      0.000       5.121       7.501\n",
      "iso3_d_fe_SWE     5.6885      0.744      7.643      0.000       4.230       7.147\n",
      "iso3_d_fe_SWZ     0.7279      0.522      1.394      0.163      -0.295       1.751\n",
      "iso3_d_fe_SYC     3.0844      1.005      3.068      0.002       1.114       5.055\n",
      "iso3_d_fe_SYR     4.6869      0.715      6.551      0.000       3.285       6.089\n",
      "iso3_d_fe_TCD    -0.5770      0.595     -0.969      0.332      -1.743       0.590\n",
      "iso3_d_fe_TGO     5.5048      1.024      5.377      0.000       3.498       7.511\n",
      "iso3_d_fe_THA     9.7803      0.554     17.652      0.000       8.694      10.866\n",
      "iso3_d_fe_TJK   -11.6274      8.388     -1.386      0.166     -28.068       4.813\n",
      "iso3_d_fe_TKM   -30.8349      9.371     -3.290      0.001     -49.202     -12.468\n",
      "iso3_d_fe_TON     0.3648      0.907      0.402      0.687      -1.412       2.142\n",
      "iso3_d_fe_TTO     2.2446      0.591      3.795      0.000       1.085       3.404\n",
      "iso3_d_fe_TUN     8.7670      0.501     17.503      0.000       7.785       9.749\n",
      "iso3_d_fe_TUV    -1.9833      0.865     -2.292      0.022      -3.679      -0.287\n",
      "iso3_d_fe_TWN    10.2514      0.472     21.715      0.000       9.326      11.177\n",
      "iso3_d_fe_TZA     0.1990      0.543      0.366      0.714      -0.866       1.264\n",
      "iso3_d_fe_UGA     0.8168      0.770      1.060      0.289      -0.693       2.326\n",
      "iso3_d_fe_UKR    -9.5725        nan        nan        nan         nan         nan\n",
      "iso3_d_fe_URY     8.1009      0.989      8.188      0.000       6.162      10.040\n",
      "iso3_d_fe_USA    11.5202      0.551     20.918      0.000      10.441      12.600\n",
      "iso3_d_fe_VCT    -1.4115      0.655     -2.154      0.031      -2.696      -0.127\n",
      "iso3_d_fe_VEN     2.7189      0.550      4.947      0.000       1.642       3.796\n",
      "iso3_d_fe_VNM     8.2294      0.550     14.972      0.000       7.152       9.307\n",
      "iso3_d_fe_VUT    -1.0061      0.860     -1.169      0.242      -2.692       0.680\n",
      "iso3_d_fe_WSM    -2.2682      0.708     -3.202      0.001      -3.657      -0.880\n",
      "iso3_d_fe_YEM     3.8901      0.583      6.678      0.000       2.748       5.032\n",
      "iso3_d_fe_ZAF     5.9556      0.882      6.754      0.000       4.227       7.684\n",
      "iso3_d_fe_ZMB     2.2247      0.544      4.089      0.000       1.158       3.291\n",
      "iso3_d_fe_AZE    13.2468      0.670     19.778      0.000      11.934      14.560\n",
      "iso3_d_fe_TUR    -9.2635     17.613     -0.526      0.599     -43.784      25.257\n",
      "iso3_d_fe_UZB   -12.5751      3.619     -3.475      0.001     -19.667      -5.483\n",
      "=================================================================================\n"
     ]
    },
    {
     "name": "stderr",
     "output_type": "stream",
     "text": [
      "/Users/toghruln/anaconda3/lib/python3.11/site-packages/gegravity/OneSectorGE.py:515: UserWarning:\n",
      "\n",
      "\n",
      " Calculated trade costs are not square. Some bilateral costs are absent.\n",
      "\n",
      "/Users/toghruln/anaconda3/lib/python3.11/site-packages/gegravity/OneSectorGE.py:542: UserWarning:\n",
      "\n",
      "\n",
      " 'cost_exp_share' values contain missing (nan) values. \n",
      " 1. Check that expenditure shares exist for all countries in country_set \n",
      " 2. Check that trade cost data is square and no bilateral pairs are missing.\n",
      "\n",
      "/Users/toghruln/anaconda3/lib/python3.11/site-packages/gegravity/OneSectorGE.py:544: UserWarning:\n",
      "\n",
      "\n",
      " 'cost_out_share' values contain missing (nan) values. \n",
      " 1. Check that output shares exist for all countries in country_set \n",
      " 2. Check that trade cost data is square no bilateral pairs are missing.\n",
      "\n"
     ]
    },
    {
     "name": "stdout",
     "output_type": "stream",
     "text": [
      "Solving for baseline MRs...\n"
     ]
    },
    {
     "name": "stderr",
     "output_type": "stream",
     "text": [
      "/Users/toghruln/anaconda3/lib/python3.11/site-packages/gegravity/OneSectorGE.py:602: UserWarning:\n",
      "\n",
      "The iteration is not making good progress, as measured by the \n",
      "  improvement from the last ten iterations.\n",
      "\n",
      "/Users/toghruln/anaconda3/lib/python3.11/site-packages/gegravity/OneSectorGE.py:515: UserWarning:\n",
      "\n",
      "\n",
      " Calculated trade costs are not square. Some bilateral costs are absent.\n",
      "\n"
     ]
    },
    {
     "name": "stdout",
     "output_type": "stream",
     "text": [
      "         baseline omr  baseline imr\n",
      "country                            \n",
      "ABW          1.778279           1.0\n",
      "AGO          1.778279           1.0\n",
      "AIA          1.778279           1.0\n",
      "ALB          1.778279           1.0\n",
      "ANT          1.778279           1.0\n",
      "...               ...           ...\n",
      "WSM          1.778279           1.0\n",
      "YEM          1.778279           1.0\n",
      "ZAF          1.778279           1.0\n",
      "ZMB          1.778279           1.0\n",
      "ZWE          1.778279           1.0\n",
      "\n",
      "[207 rows x 2 columns]\n"
     ]
    },
    {
     "name": "stderr",
     "output_type": "stream",
     "text": [
      "/Users/toghruln/anaconda3/lib/python3.11/site-packages/gegravity/OneSectorGE.py:542: UserWarning:\n",
      "\n",
      "\n",
      " 'cost_exp_share' values contain missing (nan) values. \n",
      " 1. Check that expenditure shares exist for all countries in country_set \n",
      " 2. Check that trade cost data is square and no bilateral pairs are missing.\n",
      "\n",
      "/Users/toghruln/anaconda3/lib/python3.11/site-packages/gegravity/OneSectorGE.py:544: UserWarning:\n",
      "\n",
      "\n",
      " 'cost_out_share' values contain missing (nan) values. \n",
      " 1. Check that output shares exist for all countries in country_set \n",
      " 2. Check that trade cost data is square no bilateral pairs are missing.\n",
      "\n"
     ]
    },
    {
     "name": "stdout",
     "output_type": "stream",
     "text": [
      "Solving for conditional MRs...\n"
     ]
    },
    {
     "name": "stderr",
     "output_type": "stream",
     "text": [
      "/Users/toghruln/anaconda3/lib/python3.11/site-packages/gegravity/OneSectorGE.py:602: UserWarning:\n",
      "\n",
      "The iteration is not making good progress, as measured by the \n",
      "  improvement from the last ten iterations.\n",
      "\n",
      "/Users/toghruln/anaconda3/lib/python3.11/site-packages/gegravity/OneSectorGE.py:542: UserWarning:\n",
      "\n",
      "\n",
      " 'cost_exp_share' values contain missing (nan) values. \n",
      " 1. Check that expenditure shares exist for all countries in country_set \n",
      " 2. Check that trade cost data is square and no bilateral pairs are missing.\n",
      "\n",
      "/Users/toghruln/anaconda3/lib/python3.11/site-packages/gegravity/OneSectorGE.py:544: UserWarning:\n",
      "\n",
      "\n",
      " 'cost_out_share' values contain missing (nan) values. \n",
      " 1. Check that output shares exist for all countries in country_set \n",
      " 2. Check that trade cost data is square no bilateral pairs are missing.\n",
      "\n",
      "/Users/toghruln/anaconda3/lib/python3.11/site-packages/gegravity/OneSectorGE.py:1768: RuntimeWarning:\n",
      "\n",
      "invalid value encountered in scalar divide\n",
      "\n"
     ]
    },
    {
     "name": "stdout",
     "output_type": "stream",
     "text": [
      "Solving full GE model...\n"
     ]
    },
    {
     "name": "stderr",
     "output_type": "stream",
     "text": [
      "/Users/toghruln/anaconda3/lib/python3.11/site-packages/gegravity/OneSectorGE.py:910: UserWarning:\n",
      "\n",
      "The number of calls to function has reached maxfev = 1000.\n",
      "\n",
      "/Users/toghruln/anaconda3/lib/python3.11/site-packages/gegravity/OneSectorGE.py:1978: RuntimeWarning:\n",
      "\n",
      "invalid value encountered in scalar divide\n",
      "\n",
      "/Users/toghruln/anaconda3/lib/python3.11/site-packages/gegravity/OneSectorGE.py:1981: RuntimeWarning:\n",
      "\n",
      "divide by zero encountered in scalar divide\n",
      "\n",
      "/Users/toghruln/anaconda3/lib/python3.11/site-packages/gegravity/OneSectorGE.py:1982: RuntimeWarning:\n",
      "\n",
      "invalid value encountered in scalar multiply\n",
      "\n",
      "/Users/toghruln/anaconda3/lib/python3.11/site-packages/gegravity/OneSectorGE.py:1995: RuntimeWarning:\n",
      "\n",
      "invalid value encountered in scalar divide\n",
      "\n",
      "/Users/toghruln/anaconda3/lib/python3.11/site-packages/gegravity/OneSectorGE.py:1983: RuntimeWarning:\n",
      "\n",
      "invalid value encountered in scalar divide\n",
      "\n",
      "/Users/toghruln/anaconda3/lib/python3.11/site-packages/gegravity/OneSectorGE.py:1999: RuntimeWarning:\n",
      "\n",
      "invalid value encountered in scalar divide\n",
      "\n",
      "/Users/toghruln/anaconda3/lib/python3.11/site-packages/gegravity/OneSectorGE.py:1981: RuntimeWarning:\n",
      "\n",
      "invalid value encountered in scalar divide\n",
      "\n"
     ]
    }
   ],
   "source": [
    "import pandas as pd\n",
    "import numpy as np\n",
    "import gme\n",
    "import gegravity as ge\n",
    "\n",
    "\n",
    "print(model_data.columns)\n",
    "\n",
    "required_columns = [\n",
    "    \"year\",\n",
    "    \"iso3_o\",\n",
    "    \"iso3_d\",\n",
    "    \"tradeflow_baci\",\n",
    "    \"gdp_o\",\n",
    "    \"gdp_d\",\n",
    "    \"pop_o\",\n",
    "    \"pop_d\",\n",
    "    \"dist\",\n",
    "    \"contig\",\n",
    "    \"comlang_off\",\n",
    "    \"FTA\"\n",
    "]\n",
    "\n",
    "if not all(col in model_data.columns for col in required_columns):\n",
    "    raise ValueError(\n",
    "        f\"Dataset is missing one or more required columns: {required_columns}\"\n",
    "    )\n",
    "\n",
    "model_data[required_columns] = model_data[required_columns].fillna(0)\n",
    "\n",
    "country_set = set(model_data[\"iso3_o\"]).union(set(model_data[\"iso3_d\"]))\n",
    "missing_pairs = [\n",
    "    (exp, imp)\n",
    "    for exp in country_set\n",
    "    for imp in country_set\n",
    "    if not (\n",
    "        (model_data[\"iso3_o\"] == exp) & (model_data[\"iso3_d\"] == imp)\n",
    "    ).any()\n",
    "]\n",
    "\n",
    "for exp, imp in missing_pairs:\n",
    "    model_data = pd.concat(\n",
    "        [\n",
    "            model_data,\n",
    "            pd.DataFrame(\n",
    "                [\n",
    "                    {\n",
    "                        \"year\": 2020,\n",
    "                        \"iso3_o\": exp,\n",
    "                        \"iso3_d\": imp,\n",
    "                        \"tradeflow_baci\": 0,\n",
    "                        \"gdp_o\": 0,\n",
    "                        \"gdp_d\": 0,\n",
    "                        \"pop_o\": 0,\n",
    "                        \"pop_d\": 0,\n",
    "                        \"dist\": np.nan,\n",
    "                        \"contig\": 0,\n",
    "                        \"comlang_off\": 0,\n",
    "                        \"FTA\": 0\n",
    "                    }\n",
    "                ]\n",
    "            ),\n",
    "        ],\n",
    "        ignore_index=True\n",
    "    )\n",
    "\n",
    "model_data[\"dist\"].fillna(model_data[\"dist\"].mean(), inplace=True)\n",
    "model_data[\"contig\"].fillna(0, inplace=True)\n",
    "\n",
    "baseline_data = model_data[required_columns].copy()\n",
    "\n",
    "gme_data = gme.EstimationData(\n",
    "    model_data,\n",
    "    exp_var_name=\"iso3_o\",\n",
    "    imp_var_name=\"iso3_d\",\n",
    "    year_var_name=\"year\",\n",
    "    trade_var_name=\"tradeflow_baci\"\n",
    ")\n",
    "\n",
    "gme_model = gme.EstimationModel(\n",
    "    gme_data,\n",
    "    lhs_var=\"tradeflow_baci\",\n",
    "    rhs_var=[\"contig\", \"dist\", \"comlang_off\", \"FTA\"],\n",
    "    fixed_effects=[\"iso3_o\", \"iso3_d\"]\n",
    ")\n",
    "\n",
    "gme_model.estimate()\n",
    "\n",
    "print(gme_model.results_dict[\"all\"].summary())\n",
    "\n",
    "baseline = ge.BaselineData(\n",
    "    baseline_data,\n",
    "    exp_var_name=\"iso3_o\",\n",
    "    imp_var_name=\"iso3_d\",\n",
    "    output_var_name=\"gdp_d\",\n",
    "    year_var_name=\"year\",\n",
    "    trade_var_name=\"tradeflow_baci\"\n",
    ")\n",
    "\n",
    "cost_coeff_values = gme_model.results_dict[\"all\"]\n",
    "\n",
    "ge_model = ge.OneSectorGE(\n",
    "    baseline,\n",
    "    year=\"2020\",\n",
    "    reference_importer=\"AZE\",\n",
    "    expend_var_name=\"gdp_o\",\n",
    "    output_var_name=\"gdp_d\",\n",
    "    sigma=5,\n",
    "    cost_variables=[\"dist\", \"contig\"],\n",
    "    cost_coeff_values=cost_coeff_values\n",
    ")\n",
    "\n",
    "ge_model.build_baseline(omr_rescale=10)\n",
    "print(ge_model.baseline_mr)\n",
    "\n",
    "exp_data = ge_model.baseline_data.copy()\n",
    "fta_partners = [\"RUS\", \"MDA\", \"UKR\", \"GEO\", \"TKM\", \"UZB\", \"KAZ\", \"KGZ\", \"BLR\", \"TJK\"]\n",
    "for country in fta_partners:\n",
    "    exp_data.loc[\n",
    "        (exp_data[\"iso3_d\"] == \"AZE\") & (exp_data[\"iso3_o\"] == country),\n",
    "        \"FTA\"\n",
    "    ] = 1\n",
    "    exp_data.loc[\n",
    "        (exp_data[\"iso3_d\"] == country) & (exp_data[\"iso3_o\"] == \"AZE\"),\n",
    "        \"FTA\"\n",
    "    ] = 1\n",
    "\n",
    "ge_model.define_experiment(exp_data)\n",
    "ge_model.simulate()\n",
    "\n",
    "country_results = ge_model.country_results\n",
    "bilateral_results = ge_model.bilateral_trade_results\n",
    "\n",
    "ge_model.export_results(\n",
    "    directory=\"/Users/toghruln/Downloads\",\n",
    "    name=\"Azerbaijan_Results\"\n",
    ")\n"
   ]
  },
  {
   "cell_type": "code",
   "execution_count": null,
   "metadata": {},
   "outputs": [],
   "source": []
  }
 ],
 "metadata": {
  "kernelspec": {
   "display_name": "base",
   "language": "python",
   "name": "python3"
  },
  "language_info": {
   "codemirror_mode": {
    "name": "ipython",
    "version": 3
   },
   "file_extension": ".py",
   "mimetype": "text/x-python",
   "name": "python",
   "nbconvert_exporter": "python",
   "pygments_lexer": "ipython3",
   "version": "3.11.4"
  }
 },
 "nbformat": 4,
 "nbformat_minor": 2
}
