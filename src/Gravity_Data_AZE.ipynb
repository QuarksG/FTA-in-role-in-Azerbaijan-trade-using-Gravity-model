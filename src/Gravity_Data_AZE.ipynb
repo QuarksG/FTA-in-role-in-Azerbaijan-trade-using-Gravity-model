{
 "cells": [
  {
   "cell_type": "code",
   "execution_count": 42,
   "metadata": {},
   "outputs": [],
   "source": [
    "import pandas as pd\n",
    "import gme as gme\n",
    "import numpy as np\n",
    "import inspect\n",
    "import matplotlib.pyplot as plt"
   ]
  },
  {
   "cell_type": "code",
   "execution_count": 2,
   "metadata": {},
   "outputs": [
    {
     "name": "stderr",
     "output_type": "stream",
     "text": [
      "/var/folders/9w/mh3y2sps7_v81cj0mntlqn3c0000gr/T/ipykernel_40505/4105635007.py:1: DtypeWarning: Columns (40) have mixed types. Specify dtype option on import or set low_memory=False.\n",
      "  data = pd.read_csv(\"/Users/toghruln/Downloads/Gravity_V202211.csv\") # Assign the data to the variable 'data'\n"
     ]
    }
   ],
   "source": [
    "data = pd.read_csv(\"/Users/toghruln/Downloads/Gravity_V202211.csv\") # Assign the data to the variable 'data'"
   ]
  },
  {
   "cell_type": "code",
   "execution_count": 3,
   "metadata": {},
   "outputs": [
    {
     "data": {
      "text/html": [
       "<div>\n",
       "<style scoped>\n",
       "    .dataframe tbody tr th:only-of-type {\n",
       "        vertical-align: middle;\n",
       "    }\n",
       "\n",
       "    .dataframe tbody tr th {\n",
       "        vertical-align: top;\n",
       "    }\n",
       "\n",
       "    .dataframe thead th {\n",
       "        text-align: right;\n",
       "    }\n",
       "</style>\n",
       "<table border=\"1\" class=\"dataframe\">\n",
       "  <thead>\n",
       "    <tr style=\"text-align: right;\">\n",
       "      <th></th>\n",
       "      <th>year</th>\n",
       "      <th>country_id_o</th>\n",
       "      <th>country_id_d</th>\n",
       "      <th>iso3_o</th>\n",
       "      <th>iso3_d</th>\n",
       "      <th>iso3num_o</th>\n",
       "      <th>iso3num_d</th>\n",
       "      <th>country_exists_o</th>\n",
       "      <th>country_exists_d</th>\n",
       "      <th>gmt_offset_2020_o</th>\n",
       "      <th>...</th>\n",
       "      <th>entry_time_o</th>\n",
       "      <th>entry_time_d</th>\n",
       "      <th>entry_tp_o</th>\n",
       "      <th>entry_tp_d</th>\n",
       "      <th>tradeflow_comtrade_o</th>\n",
       "      <th>tradeflow_comtrade_d</th>\n",
       "      <th>tradeflow_baci</th>\n",
       "      <th>manuf_tradeflow_baci</th>\n",
       "      <th>tradeflow_imf_o</th>\n",
       "      <th>tradeflow_imf_d</th>\n",
       "    </tr>\n",
       "  </thead>\n",
       "  <tbody>\n",
       "    <tr>\n",
       "      <th>4699291</th>\n",
       "      <td>2017</td>\n",
       "      <td>ZWE</td>\n",
       "      <td>ZWE</td>\n",
       "      <td>ZWE</td>\n",
       "      <td>ZWE</td>\n",
       "      <td>716.0</td>\n",
       "      <td>716.0</td>\n",
       "      <td>1</td>\n",
       "      <td>1</td>\n",
       "      <td>2.0</td>\n",
       "      <td>...</td>\n",
       "      <td>61.0</td>\n",
       "      <td>61.0</td>\n",
       "      <td>70.0</td>\n",
       "      <td>70.0</td>\n",
       "      <td>NaN</td>\n",
       "      <td>NaN</td>\n",
       "      <td>NaN</td>\n",
       "      <td>NaN</td>\n",
       "      <td>NaN</td>\n",
       "      <td>NaN</td>\n",
       "    </tr>\n",
       "    <tr>\n",
       "      <th>4699292</th>\n",
       "      <td>2018</td>\n",
       "      <td>ZWE</td>\n",
       "      <td>ZWE</td>\n",
       "      <td>ZWE</td>\n",
       "      <td>ZWE</td>\n",
       "      <td>716.0</td>\n",
       "      <td>716.0</td>\n",
       "      <td>1</td>\n",
       "      <td>1</td>\n",
       "      <td>2.0</td>\n",
       "      <td>...</td>\n",
       "      <td>32.0</td>\n",
       "      <td>32.0</td>\n",
       "      <td>41.0</td>\n",
       "      <td>41.0</td>\n",
       "      <td>NaN</td>\n",
       "      <td>NaN</td>\n",
       "      <td>NaN</td>\n",
       "      <td>NaN</td>\n",
       "      <td>NaN</td>\n",
       "      <td>NaN</td>\n",
       "    </tr>\n",
       "    <tr>\n",
       "      <th>4699293</th>\n",
       "      <td>2019</td>\n",
       "      <td>ZWE</td>\n",
       "      <td>ZWE</td>\n",
       "      <td>ZWE</td>\n",
       "      <td>ZWE</td>\n",
       "      <td>716.0</td>\n",
       "      <td>716.0</td>\n",
       "      <td>1</td>\n",
       "      <td>1</td>\n",
       "      <td>2.0</td>\n",
       "      <td>...</td>\n",
       "      <td>27.0</td>\n",
       "      <td>27.0</td>\n",
       "      <td>36.0</td>\n",
       "      <td>36.0</td>\n",
       "      <td>NaN</td>\n",
       "      <td>NaN</td>\n",
       "      <td>NaN</td>\n",
       "      <td>NaN</td>\n",
       "      <td>NaN</td>\n",
       "      <td>NaN</td>\n",
       "    </tr>\n",
       "    <tr>\n",
       "      <th>4699294</th>\n",
       "      <td>2020</td>\n",
       "      <td>ZWE</td>\n",
       "      <td>ZWE</td>\n",
       "      <td>ZWE</td>\n",
       "      <td>ZWE</td>\n",
       "      <td>716.0</td>\n",
       "      <td>716.0</td>\n",
       "      <td>1</td>\n",
       "      <td>1</td>\n",
       "      <td>2.0</td>\n",
       "      <td>...</td>\n",
       "      <td>NaN</td>\n",
       "      <td>NaN</td>\n",
       "      <td>NaN</td>\n",
       "      <td>NaN</td>\n",
       "      <td>NaN</td>\n",
       "      <td>NaN</td>\n",
       "      <td>NaN</td>\n",
       "      <td>NaN</td>\n",
       "      <td>NaN</td>\n",
       "      <td>NaN</td>\n",
       "    </tr>\n",
       "    <tr>\n",
       "      <th>4699295</th>\n",
       "      <td>2021</td>\n",
       "      <td>ZWE</td>\n",
       "      <td>ZWE</td>\n",
       "      <td>ZWE</td>\n",
       "      <td>ZWE</td>\n",
       "      <td>716.0</td>\n",
       "      <td>716.0</td>\n",
       "      <td>1</td>\n",
       "      <td>1</td>\n",
       "      <td>2.0</td>\n",
       "      <td>...</td>\n",
       "      <td>NaN</td>\n",
       "      <td>NaN</td>\n",
       "      <td>NaN</td>\n",
       "      <td>NaN</td>\n",
       "      <td>NaN</td>\n",
       "      <td>NaN</td>\n",
       "      <td>NaN</td>\n",
       "      <td>NaN</td>\n",
       "      <td>NaN</td>\n",
       "      <td>NaN</td>\n",
       "    </tr>\n",
       "  </tbody>\n",
       "</table>\n",
       "<p>5 rows × 87 columns</p>\n",
       "</div>"
      ],
      "text/plain": [
       "         year country_id_o country_id_d iso3_o iso3_d  iso3num_o  iso3num_d  \\\n",
       "4699291  2017          ZWE          ZWE    ZWE    ZWE      716.0      716.0   \n",
       "4699292  2018          ZWE          ZWE    ZWE    ZWE      716.0      716.0   \n",
       "4699293  2019          ZWE          ZWE    ZWE    ZWE      716.0      716.0   \n",
       "4699294  2020          ZWE          ZWE    ZWE    ZWE      716.0      716.0   \n",
       "4699295  2021          ZWE          ZWE    ZWE    ZWE      716.0      716.0   \n",
       "\n",
       "         country_exists_o  country_exists_d  gmt_offset_2020_o  ...  \\\n",
       "4699291                 1                 1                2.0  ...   \n",
       "4699292                 1                 1                2.0  ...   \n",
       "4699293                 1                 1                2.0  ...   \n",
       "4699294                 1                 1                2.0  ...   \n",
       "4699295                 1                 1                2.0  ...   \n",
       "\n",
       "         entry_time_o  entry_time_d  entry_tp_o  entry_tp_d  \\\n",
       "4699291          61.0          61.0        70.0        70.0   \n",
       "4699292          32.0          32.0        41.0        41.0   \n",
       "4699293          27.0          27.0        36.0        36.0   \n",
       "4699294           NaN           NaN         NaN         NaN   \n",
       "4699295           NaN           NaN         NaN         NaN   \n",
       "\n",
       "         tradeflow_comtrade_o  tradeflow_comtrade_d tradeflow_baci  \\\n",
       "4699291                   NaN                   NaN            NaN   \n",
       "4699292                   NaN                   NaN            NaN   \n",
       "4699293                   NaN                   NaN            NaN   \n",
       "4699294                   NaN                   NaN            NaN   \n",
       "4699295                   NaN                   NaN            NaN   \n",
       "\n",
       "        manuf_tradeflow_baci  tradeflow_imf_o  tradeflow_imf_d  \n",
       "4699291                  NaN              NaN              NaN  \n",
       "4699292                  NaN              NaN              NaN  \n",
       "4699293                  NaN              NaN              NaN  \n",
       "4699294                  NaN              NaN              NaN  \n",
       "4699295                  NaN              NaN              NaN  \n",
       "\n",
       "[5 rows x 87 columns]"
      ]
     },
     "execution_count": 3,
     "metadata": {},
     "output_type": "execute_result"
    }
   ],
   "source": [
    "data.tail()"
   ]
  },
  {
   "cell_type": "code",
   "execution_count": 5,
   "metadata": {},
   "outputs": [
    {
     "name": "stdout",
     "output_type": "stream",
     "text": [
      "             Column Name Data Type\n",
      "0                   year     int64\n",
      "1           country_id_o    object\n",
      "2           country_id_d    object\n",
      "3                 iso3_o    object\n",
      "4                 iso3_d    object\n",
      "..                   ...       ...\n",
      "82  tradeflow_comtrade_d   float64\n",
      "83        tradeflow_baci   float64\n",
      "84  manuf_tradeflow_baci   float64\n",
      "85       tradeflow_imf_o   float64\n",
      "86       tradeflow_imf_d   float64\n",
      "\n",
      "[87 rows x 2 columns]\n"
     ]
    }
   ],
   "source": [
    "column_info = pd.DataFrame({\n",
    "    'Column Name': data.columns,\n",
    "    'Data Type': [data[col].dtype for col in data.columns]\n",
    "})\n",
    "\n",
    "print(column_info)\n",
    "\n",
    "column_info.to_csv(\"column_info.csv\", index=False)"
   ]
  },
  {
   "cell_type": "code",
   "execution_count": 6,
   "metadata": {},
   "outputs": [],
   "source": [
    "# Filter the data for Azerbaijan and years between 2000 and 2020\n",
    "filtered_data = data[((data['iso3_o'] == 'AZE') | (data['iso3_d'] == 'AZE')) &\n",
    "                     (data['year'] >= 2000) & (data['year'] <= 2020)]"
   ]
  },
  {
   "cell_type": "code",
   "execution_count": 7,
   "metadata": {},
   "outputs": [
    {
     "data": {
      "text/html": [
       "<div>\n",
       "<style scoped>\n",
       "    .dataframe tbody tr th:only-of-type {\n",
       "        vertical-align: middle;\n",
       "    }\n",
       "\n",
       "    .dataframe tbody tr th {\n",
       "        vertical-align: top;\n",
       "    }\n",
       "\n",
       "    .dataframe thead th {\n",
       "        text-align: right;\n",
       "    }\n",
       "</style>\n",
       "<table border=\"1\" class=\"dataframe\">\n",
       "  <thead>\n",
       "    <tr style=\"text-align: right;\">\n",
       "      <th></th>\n",
       "      <th>year</th>\n",
       "      <th>country_id_o</th>\n",
       "      <th>country_id_d</th>\n",
       "      <th>iso3_o</th>\n",
       "      <th>iso3_d</th>\n",
       "      <th>iso3num_o</th>\n",
       "      <th>iso3num_d</th>\n",
       "      <th>country_exists_o</th>\n",
       "      <th>country_exists_d</th>\n",
       "      <th>gmt_offset_2020_o</th>\n",
       "      <th>...</th>\n",
       "      <th>entry_time_o</th>\n",
       "      <th>entry_time_d</th>\n",
       "      <th>entry_tp_o</th>\n",
       "      <th>entry_tp_d</th>\n",
       "      <th>tradeflow_comtrade_o</th>\n",
       "      <th>tradeflow_comtrade_d</th>\n",
       "      <th>tradeflow_baci</th>\n",
       "      <th>manuf_tradeflow_baci</th>\n",
       "      <th>tradeflow_imf_o</th>\n",
       "      <th>tradeflow_imf_d</th>\n",
       "    </tr>\n",
       "  </thead>\n",
       "  <tbody>\n",
       "    <tr>\n",
       "      <th>1162</th>\n",
       "      <td>2000</td>\n",
       "      <td>ABW</td>\n",
       "      <td>AZE</td>\n",
       "      <td>ABW</td>\n",
       "      <td>AZE</td>\n",
       "      <td>533.0</td>\n",
       "      <td>31.0</td>\n",
       "      <td>1</td>\n",
       "      <td>1</td>\n",
       "      <td>-4.0</td>\n",
       "      <td>...</td>\n",
       "      <td>NaN</td>\n",
       "      <td>NaN</td>\n",
       "      <td>NaN</td>\n",
       "      <td>NaN</td>\n",
       "      <td>NaN</td>\n",
       "      <td>NaN</td>\n",
       "      <td>NaN</td>\n",
       "      <td>NaN</td>\n",
       "      <td>NaN</td>\n",
       "      <td>NaN</td>\n",
       "    </tr>\n",
       "    <tr>\n",
       "      <th>1163</th>\n",
       "      <td>2001</td>\n",
       "      <td>ABW</td>\n",
       "      <td>AZE</td>\n",
       "      <td>ABW</td>\n",
       "      <td>AZE</td>\n",
       "      <td>533.0</td>\n",
       "      <td>31.0</td>\n",
       "      <td>1</td>\n",
       "      <td>1</td>\n",
       "      <td>-4.0</td>\n",
       "      <td>...</td>\n",
       "      <td>NaN</td>\n",
       "      <td>NaN</td>\n",
       "      <td>NaN</td>\n",
       "      <td>NaN</td>\n",
       "      <td>NaN</td>\n",
       "      <td>NaN</td>\n",
       "      <td>NaN</td>\n",
       "      <td>NaN</td>\n",
       "      <td>NaN</td>\n",
       "      <td>NaN</td>\n",
       "    </tr>\n",
       "    <tr>\n",
       "      <th>1164</th>\n",
       "      <td>2002</td>\n",
       "      <td>ABW</td>\n",
       "      <td>AZE</td>\n",
       "      <td>ABW</td>\n",
       "      <td>AZE</td>\n",
       "      <td>533.0</td>\n",
       "      <td>31.0</td>\n",
       "      <td>1</td>\n",
       "      <td>1</td>\n",
       "      <td>-4.0</td>\n",
       "      <td>...</td>\n",
       "      <td>NaN</td>\n",
       "      <td>NaN</td>\n",
       "      <td>NaN</td>\n",
       "      <td>NaN</td>\n",
       "      <td>NaN</td>\n",
       "      <td>NaN</td>\n",
       "      <td>NaN</td>\n",
       "      <td>NaN</td>\n",
       "      <td>NaN</td>\n",
       "      <td>NaN</td>\n",
       "    </tr>\n",
       "    <tr>\n",
       "      <th>1165</th>\n",
       "      <td>2003</td>\n",
       "      <td>ABW</td>\n",
       "      <td>AZE</td>\n",
       "      <td>ABW</td>\n",
       "      <td>AZE</td>\n",
       "      <td>533.0</td>\n",
       "      <td>31.0</td>\n",
       "      <td>1</td>\n",
       "      <td>1</td>\n",
       "      <td>-4.0</td>\n",
       "      <td>...</td>\n",
       "      <td>NaN</td>\n",
       "      <td>105.0</td>\n",
       "      <td>NaN</td>\n",
       "      <td>119.0</td>\n",
       "      <td>NaN</td>\n",
       "      <td>NaN</td>\n",
       "      <td>NaN</td>\n",
       "      <td>NaN</td>\n",
       "      <td>NaN</td>\n",
       "      <td>NaN</td>\n",
       "    </tr>\n",
       "    <tr>\n",
       "      <th>1166</th>\n",
       "      <td>2004</td>\n",
       "      <td>ABW</td>\n",
       "      <td>AZE</td>\n",
       "      <td>ABW</td>\n",
       "      <td>AZE</td>\n",
       "      <td>533.0</td>\n",
       "      <td>31.0</td>\n",
       "      <td>1</td>\n",
       "      <td>1</td>\n",
       "      <td>-4.0</td>\n",
       "      <td>...</td>\n",
       "      <td>NaN</td>\n",
       "      <td>121.0</td>\n",
       "      <td>NaN</td>\n",
       "      <td>134.0</td>\n",
       "      <td>NaN</td>\n",
       "      <td>NaN</td>\n",
       "      <td>NaN</td>\n",
       "      <td>NaN</td>\n",
       "      <td>NaN</td>\n",
       "      <td>NaN</td>\n",
       "    </tr>\n",
       "  </tbody>\n",
       "</table>\n",
       "<p>5 rows × 87 columns</p>\n",
       "</div>"
      ],
      "text/plain": [
       "      year country_id_o country_id_d iso3_o iso3_d  iso3num_o  iso3num_d  \\\n",
       "1162  2000          ABW          AZE    ABW    AZE      533.0       31.0   \n",
       "1163  2001          ABW          AZE    ABW    AZE      533.0       31.0   \n",
       "1164  2002          ABW          AZE    ABW    AZE      533.0       31.0   \n",
       "1165  2003          ABW          AZE    ABW    AZE      533.0       31.0   \n",
       "1166  2004          ABW          AZE    ABW    AZE      533.0       31.0   \n",
       "\n",
       "      country_exists_o  country_exists_d  gmt_offset_2020_o  ...  \\\n",
       "1162                 1                 1               -4.0  ...   \n",
       "1163                 1                 1               -4.0  ...   \n",
       "1164                 1                 1               -4.0  ...   \n",
       "1165                 1                 1               -4.0  ...   \n",
       "1166                 1                 1               -4.0  ...   \n",
       "\n",
       "      entry_time_o  entry_time_d  entry_tp_o  entry_tp_d  \\\n",
       "1162           NaN           NaN         NaN         NaN   \n",
       "1163           NaN           NaN         NaN         NaN   \n",
       "1164           NaN           NaN         NaN         NaN   \n",
       "1165           NaN         105.0         NaN       119.0   \n",
       "1166           NaN         121.0         NaN       134.0   \n",
       "\n",
       "      tradeflow_comtrade_o  tradeflow_comtrade_d tradeflow_baci  \\\n",
       "1162                   NaN                   NaN            NaN   \n",
       "1163                   NaN                   NaN            NaN   \n",
       "1164                   NaN                   NaN            NaN   \n",
       "1165                   NaN                   NaN            NaN   \n",
       "1166                   NaN                   NaN            NaN   \n",
       "\n",
       "     manuf_tradeflow_baci  tradeflow_imf_o  tradeflow_imf_d  \n",
       "1162                  NaN              NaN              NaN  \n",
       "1163                  NaN              NaN              NaN  \n",
       "1164                  NaN              NaN              NaN  \n",
       "1165                  NaN              NaN              NaN  \n",
       "1166                  NaN              NaN              NaN  \n",
       "\n",
       "[5 rows x 87 columns]"
      ]
     },
     "execution_count": 7,
     "metadata": {},
     "output_type": "execute_result"
    }
   ],
   "source": [
    "filtered_data.head()"
   ]
  },
  {
   "cell_type": "code",
   "execution_count": 8,
   "metadata": {},
   "outputs": [
    {
     "data": {
      "text/plain": [
       "array(['ABW', 'AFG', 'AGO', 'AIA', 'ALB', 'AND', 'ANT', 'ARE', 'ARG',\n",
       "       'ARM', 'ASM', 'ATG', 'AUS', 'AUT', 'AZE', 'BDI', 'BEL', 'BEN',\n",
       "       'BES', 'BFA', 'BGD', 'BGR', 'BHR', 'BHS', 'BIH', 'BLR', 'BLZ',\n",
       "       'BMU', 'BOL', 'BRA', 'BRB', 'BRN', 'BTN', 'BWA', 'CAF', 'CAN',\n",
       "       'CCK', 'CHE', 'CHL', 'CHN', 'CIV', 'CMR', 'COD', 'COG', 'COK',\n",
       "       'COL', 'COM', 'CPV', 'CRI', 'CSK', 'CUB', 'CUW', 'CXR', 'CYM',\n",
       "       'CYP', 'CZE', 'DDR', 'DEU', 'DJI', 'DMA', 'DNK', 'DOM', 'DZA',\n",
       "       'ECU', 'EGY', 'ERI', 'ESH', 'ESP', 'EST', 'ETH', 'FIN', 'FJI',\n",
       "       'FLK', 'FRA', 'FRO', 'FSM', 'GAB', 'GBR', 'GEO', 'GHA', 'GIB',\n",
       "       'GIN', 'GLP', 'GMB', 'GNB', 'GNQ', 'GRC', 'GRD', 'GRL', 'GTM',\n",
       "       'GUF', 'GUM', 'GUY', 'HKG', 'HND', 'HRV', 'HTI', 'HUN', 'IDN',\n",
       "       'IND', 'IOT', 'IRL', 'IRN', 'IRQ', 'ISL', 'ISR', 'ITA', 'JAM',\n",
       "       'JOR', 'JPN', 'KAZ', 'KEN', 'KGZ', 'KHM', 'KIR', 'KNA', 'KOR',\n",
       "       'KWT', 'LAO', 'LBN', 'LBR', 'LBY', 'LCA', 'LIE', 'LKA', 'LSO',\n",
       "       'LTU', 'LUX', 'LVA', 'MAC', 'MAR', 'MCO', 'MDA', 'MDG', 'MDV',\n",
       "       'MEX', 'MHL', 'MKD', 'MLI', 'MLT', 'MMR', 'MNE', 'MNG', 'MNP',\n",
       "       'MOZ', 'MRT', 'MSR', 'MTQ', 'MUS', 'MWI', 'MYS', 'MYT', 'NAM',\n",
       "       'NCL', 'NER', 'NFK', 'NGA', 'NIC', 'NIU', 'NLD', 'NOR', 'NPL',\n",
       "       'NRU', 'NZL', 'OMN', 'PAK', 'PAN', 'PCN', 'PER', 'PHL', 'PLW',\n",
       "       'PNG', 'POL', 'PRI', 'PRK', 'PRT', 'PRY', 'PSE', 'PYF', 'QAT',\n",
       "       'REU', 'ROU', 'RUS', 'RWA', 'SAU', 'SCG', 'SDN', 'SEN', 'SGP',\n",
       "       'SHN', 'SLB', 'SLE', 'SLV', 'SMR', 'SOM', 'SPM', 'SRB', 'SSD',\n",
       "       'STP', 'SUN', 'SUR', 'SVK', 'SVN', 'SWE', 'SWZ', 'SXM', 'SYC',\n",
       "       'SYR', 'TCA', 'TCD', 'TGO', 'THA', 'TJK', 'TKL', 'TKM', 'TLS',\n",
       "       'TON', 'TTO', 'TUN', 'TUR', 'TUV', 'TWN', 'TZA', 'UGA', 'UKR',\n",
       "       'URY', 'USA', 'UZB', 'VAT', 'VCT', 'VDR', 'VEN', 'VGB', 'VNM',\n",
       "       'VUT', 'WLF', 'WSM', 'YEM', 'YMD', 'YUG', 'ZAF', 'ZMB', 'ZWE'],\n",
       "      dtype=object)"
      ]
     },
     "execution_count": 8,
     "metadata": {},
     "output_type": "execute_result"
    }
   ],
   "source": [
    "exporters = data['iso3_o'].unique()\n",
    "exporters"
   ]
  },
  {
   "cell_type": "code",
   "execution_count": 9,
   "metadata": {},
   "outputs": [
    {
     "data": {
      "text/plain": [
       "array(['ABW', 'AFG', 'AGO', 'AIA', 'ALB', 'AND', 'ANT', 'ARE', 'ARG',\n",
       "       'ARM', 'ASM', 'ATG', 'AUS', 'AUT', 'AZE', 'BDI', 'BEL', 'BEN',\n",
       "       'BES', 'BFA', 'BGD', 'BGR', 'BHR', 'BHS', 'BIH', 'BLR', 'BLZ',\n",
       "       'BMU', 'BOL', 'BRA', 'BRB', 'BRN', 'BTN', 'BWA', 'CAF', 'CAN',\n",
       "       'CCK', 'CHE', 'CHL', 'CHN', 'CIV', 'CMR', 'COD', 'COG', 'COK',\n",
       "       'COL', 'COM', 'CPV', 'CRI', 'CSK', 'CUB', 'CUW', 'CXR', 'CYM',\n",
       "       'CYP', 'CZE', 'DDR', 'DEU', 'DJI', 'DMA', 'DNK', 'DOM', 'DZA',\n",
       "       'ECU', 'EGY', 'ERI', 'ESH', 'ESP', 'EST', 'ETH', 'FIN', 'FJI',\n",
       "       'FLK', 'FRA', 'FRO', 'FSM', 'GAB', 'GBR', 'GEO', 'GHA', 'GIB',\n",
       "       'GIN', 'GLP', 'GMB', 'GNB', 'GNQ', 'GRC', 'GRD', 'GRL', 'GTM',\n",
       "       'GUF', 'GUM', 'GUY', 'HKG', 'HND', 'HRV', 'HTI', 'HUN', 'IDN',\n",
       "       'IND', 'IOT', 'IRL', 'IRN', 'IRQ', 'ISL', 'ISR', 'ITA', 'JAM',\n",
       "       'JOR', 'JPN', 'KAZ', 'KEN', 'KGZ', 'KHM', 'KIR', 'KNA', 'KOR',\n",
       "       'KWT', 'LAO', 'LBN', 'LBR', 'LBY', 'LCA', 'LIE', 'LKA', 'LSO',\n",
       "       'LTU', 'LUX', 'LVA', 'MAC', 'MAR', 'MCO', 'MDA', 'MDG', 'MDV',\n",
       "       'MEX', 'MHL', 'MKD', 'MLI', 'MLT', 'MMR', 'MNE', 'MNG', 'MNP',\n",
       "       'MOZ', 'MRT', 'MSR', 'MTQ', 'MUS', 'MWI', 'MYS', 'MYT', 'NAM',\n",
       "       'NCL', 'NER', 'NFK', 'NGA', 'NIC', 'NIU', 'NLD', 'NOR', 'NPL',\n",
       "       'NRU', 'NZL', 'OMN', 'PAK', 'PAN', 'PCN', 'PER', 'PHL', 'PLW',\n",
       "       'PNG', 'POL', 'PRI', 'PRK', 'PRT', 'PRY', 'PSE', 'PYF', 'QAT',\n",
       "       'REU', 'ROU', 'RUS', 'RWA', 'SAU', 'SCG', 'SDN', 'SEN', 'SGP',\n",
       "       'SHN', 'SLB', 'SLE', 'SLV', 'SMR', 'SOM', 'SPM', 'SRB', 'SSD',\n",
       "       'STP', 'SUN', 'SUR', 'SVK', 'SVN', 'SWE', 'SWZ', 'SXM', 'SYC',\n",
       "       'SYR', 'TCA', 'TCD', 'TGO', 'THA', 'TJK', 'TKL', 'TKM', 'TLS',\n",
       "       'TON', 'TTO', 'TUN', 'TUR', 'TUV', 'TWN', 'TZA', 'UGA', 'UKR',\n",
       "       'URY', 'USA', 'UZB', 'VAT', 'VCT', 'VDR', 'VEN', 'VGB', 'VNM',\n",
       "       'VUT', 'WLF', 'WSM', 'YEM', 'YMD', 'YUG', 'ZAF', 'ZMB', 'ZWE'],\n",
       "      dtype=object)"
      ]
     },
     "execution_count": 9,
     "metadata": {},
     "output_type": "execute_result"
    }
   ],
   "source": [
    "importers = data['iso3_d'].unique()\n",
    "\n",
    "importers"
   ]
  },
  {
   "cell_type": "code",
   "execution_count": 10,
   "metadata": {},
   "outputs": [
    {
     "name": "stdout",
     "output_type": "stream",
     "text": [
      "All parameters for gme.EstimationData:\n",
      "data_frame: data_frame=None\n",
      "name: name: str = 'unnamed'\n",
      "imp_var_name: imp_var_name: str = 'importer'\n",
      "exp_var_name: exp_var_name: str = 'exporter'\n",
      "year_var_name: year_var_name: str = 'year'\n",
      "trade_var_name: trade_var_name: str = None\n",
      "sector_var_name: sector_var_name: str = None\n",
      "expend_var_name: expend_var_name: str = None\n",
      "output_var_name: output_var_name: str = None\n",
      "notes: notes: List[str] = []\n"
     ]
    }
   ],
   "source": [
    "parameters = inspect.signature(gme.EstimationData)\n",
    "print(\"All parameters for gme.EstimationData:\")\n",
    "for param_name, param in parameters.parameters.items():\n",
    "    print(f\"{param_name}: {param}\")"
   ]
  },
  {
   "cell_type": "code",
   "execution_count": 11,
   "metadata": {},
   "outputs": [
    {
     "name": "stdout",
     "output_type": "stream",
     "text": [
      "number of countries: 243 \n",
      "number of exporters: 243 \n",
      "number of importers: 243 \n",
      "number of years: 21 \n",
      "number of sectors: not_applicable \n",
      "dimensions: (10563, 87)\n",
      "\n"
     ]
    }
   ],
   "source": [
    "# General Data Set \n",
    "gme_data = gme.EstimationData(data_frame=filtered_data,\n",
    "                              imp_var_name='iso3_d',\n",
    "                              exp_var_name='iso3_o',\n",
    "                              trade_var_name='tradeflow_baci',\n",
    "                              year_var_name='year')\n",
    "\n",
    "# Print the output\n",
    "print(gme_data)"
   ]
  },
  {
   "cell_type": "code",
   "execution_count": 12,
   "metadata": {},
   "outputs": [
    {
     "name": "stdout",
     "output_type": "stream",
     "text": [
      "Number of unique countries Azerbaijan is trading or traded durin 21 years with: 206\n",
      "Out of total possible importers: 243\n",
      "Percentage of countries Azerbaijan trades with: 84.77%\n"
     ]
    }
   ],
   "source": [
    "filtered_data = data[\n",
    "    (\n",
    "        (data['iso3_o'] == 'AZE') | (data['iso3_d'] == 'AZE')\n",
    "    ) &\n",
    "    (data['year'] >= 2000) &\n",
    "    (data['year'] <= 2020) &\n",
    "    ((data['tradeflow_imf_o'] > 0) | (data['tradeflow_imf_d'] > 0))\n",
    "]\n",
    "\n",
    "trade_partners = set(filtered_data.loc[filtered_data['iso3_o'] != 'AZE', 'iso3_o']) | \\\n",
    "                 set(filtered_data.loc[filtered_data['iso3_d'] != 'AZE', 'iso3_d'])\n",
    "\n",
    "unique_trade_partners_count = len(trade_partners)\n",
    "\n",
    "total_importers = 243\n",
    "\n",
    "print(f\"Number of unique countries Azerbaijan is trading or traded durin 21 years with: {unique_trade_partners_count}\")\n",
    "print(f\"Out of total possible importers: {total_importers}\")\n",
    "print(f\"Percentage of countries Azerbaijan trades with: {unique_trade_partners_count / total_importers * 100:.2f}%\")"
   ]
  },
  {
   "cell_type": "code",
   "execution_count": 66,
   "metadata": {},
   "outputs": [
    {
     "data": {
      "text/plain": [
       "['year',\n",
       " 'country_id_o',\n",
       " 'country_id_d',\n",
       " 'iso3_o',\n",
       " 'iso3_d',\n",
       " 'iso3num_o',\n",
       " 'iso3num_d',\n",
       " 'country_exists_o',\n",
       " 'country_exists_d',\n",
       " 'gmt_offset_2020_o',\n",
       " 'gmt_offset_2020_d',\n",
       " 'distw_harmonic',\n",
       " 'distw_arithmetic',\n",
       " 'distw_harmonic_jh',\n",
       " 'distw_arithmetic_jh',\n",
       " 'dist',\n",
       " 'main_city_source_o',\n",
       " 'main_city_source_d',\n",
       " 'distcap',\n",
       " 'contig',\n",
       " 'diplo_disagreement',\n",
       " 'scaled_sci_2021',\n",
       " 'comlang_off',\n",
       " 'comlang_ethno',\n",
       " 'comcol',\n",
       " 'col45',\n",
       " 'legal_old_o',\n",
       " 'legal_old_d',\n",
       " 'legal_new_o',\n",
       " 'legal_new_d',\n",
       " 'comleg_pretrans',\n",
       " 'comleg_posttrans',\n",
       " 'transition_legalchange',\n",
       " 'comrelig',\n",
       " 'heg_o',\n",
       " 'heg_d',\n",
       " 'col_dep_ever',\n",
       " 'col_dep',\n",
       " 'col_dep_end_year',\n",
       " 'col_dep_end_conflict',\n",
       " 'empire',\n",
       " 'sibling_ever',\n",
       " 'sibling',\n",
       " 'sever_year',\n",
       " 'sib_conflict',\n",
       " 'pop_o',\n",
       " 'pop_d',\n",
       " 'gdp_o',\n",
       " 'gdp_d',\n",
       " 'gdpcap_o',\n",
       " 'gdpcap_d',\n",
       " 'pop_source_o',\n",
       " 'pop_source_d',\n",
       " 'gdp_source_o',\n",
       " 'gdp_source_d',\n",
       " 'gdp_ppp_o',\n",
       " 'gdp_ppp_d',\n",
       " 'gdpcap_ppp_o',\n",
       " 'gdpcap_ppp_d',\n",
       " 'pop_pwt_o',\n",
       " 'pop_pwt_d',\n",
       " 'gdp_ppp_pwt_o',\n",
       " 'gdp_ppp_pwt_d',\n",
       " 'gatt_o',\n",
       " 'gatt_d',\n",
       " 'wto_o',\n",
       " 'wto_d',\n",
       " 'eu_o',\n",
       " 'eu_d',\n",
       " 'fta_wto',\n",
       " 'fta_wto_raw',\n",
       " 'rta_coverage',\n",
       " 'rta_type',\n",
       " 'entry_cost_o',\n",
       " 'entry_cost_d',\n",
       " 'entry_proc_o',\n",
       " 'entry_proc_d',\n",
       " 'entry_time_o',\n",
       " 'entry_time_d',\n",
       " 'entry_tp_o',\n",
       " 'entry_tp_d',\n",
       " 'tradeflow_comtrade_o',\n",
       " 'tradeflow_comtrade_d',\n",
       " 'tradeflow_baci',\n",
       " 'manuf_tradeflow_baci',\n",
       " 'tradeflow_imf_o',\n",
       " 'tradeflow_imf_d']"
      ]
     },
     "execution_count": 66,
     "metadata": {},
     "output_type": "execute_result"
    }
   ],
   "source": [
    "gme_data.columns"
   ]
  },
  {
   "cell_type": "code",
   "execution_count": 13,
   "metadata": {},
   "outputs": [
    {
     "name": "stdout",
     "output_type": "stream",
     "text": [
      "number of countries: 207 \n",
      "number of exporters: 201 \n",
      "number of importers: 187 \n",
      "number of years: 21 \n",
      "number of sectors: not_applicable \n",
      "dimensions: (5389, 87)\n",
      "\n"
     ]
    }
   ],
   "source": [
    "# If tradeflow_baci > 0, it implies trade exists.\n",
    "# If tradeflow_baci == 0 or is missing, it indicates no recorded trade for that relationship.\n",
    "\n",
    "gme_data = gme.EstimationData(data_frame=filtered_data,\n",
    "                              imp_var_name='iso3_d',\n",
    "                              exp_var_name='iso3_o',\n",
    "                              trade_var_name='tradeflow_baci',\n",
    "                              year_var_name='year')\n",
    "\n",
    "# Print the output\n",
    "print(gme_data)"
   ]
  },
  {
   "cell_type": "code",
   "execution_count": 68,
   "metadata": {},
   "outputs": [
    {
     "data": {
      "text/plain": [
       "187"
      ]
     },
     "execution_count": 68,
     "metadata": {},
     "output_type": "execute_result"
    }
   ],
   "source": [
    "#Checking the number of exporters\n",
    "gme_data.number_of_importers\n"
   ]
  },
  {
   "cell_type": "code",
   "execution_count": 77,
   "metadata": {},
   "outputs": [
    {
     "data": {
      "text/plain": [
       "[2000,\n",
       " 2001,\n",
       " 2002,\n",
       " 2003,\n",
       " 2004,\n",
       " 2005,\n",
       " 2006,\n",
       " 2007,\n",
       " 2008,\n",
       " 2009,\n",
       " 2010,\n",
       " 2011,\n",
       " 2012,\n",
       " 2013,\n",
       " 2014,\n",
       " 2015,\n",
       " 2016,\n",
       " 2017,\n",
       " 2018,\n",
       " 2019,\n",
       " 2020]"
      ]
     },
     "execution_count": 77,
     "metadata": {},
     "output_type": "execute_result"
    }
   ],
   "source": [
    "# Checking the number of years\n",
    "years = gme_data.year_list()\n",
    " \n",
    "sorted(years)"
   ]
  },
  {
   "cell_type": "code",
   "execution_count": 78,
   "metadata": {},
   "outputs": [
    {
     "data": {
      "text/html": [
       "<div>\n",
       "<style scoped>\n",
       "    .dataframe tbody tr th:only-of-type {\n",
       "        vertical-align: middle;\n",
       "    }\n",
       "\n",
       "    .dataframe tbody tr th {\n",
       "        vertical-align: top;\n",
       "    }\n",
       "\n",
       "    .dataframe thead th {\n",
       "        text-align: right;\n",
       "    }\n",
       "</style>\n",
       "<table border=\"1\" class=\"dataframe\">\n",
       "  <thead>\n",
       "    <tr style=\"text-align: right;\">\n",
       "      <th></th>\n",
       "      <th>year</th>\n",
       "      <th>iso3num_o</th>\n",
       "      <th>iso3num_d</th>\n",
       "      <th>country_exists_o</th>\n",
       "      <th>country_exists_d</th>\n",
       "      <th>gmt_offset_2020_o</th>\n",
       "      <th>gmt_offset_2020_d</th>\n",
       "      <th>distw_harmonic</th>\n",
       "      <th>distw_arithmetic</th>\n",
       "      <th>distw_harmonic_jh</th>\n",
       "      <th>...</th>\n",
       "      <th>entry_time_o</th>\n",
       "      <th>entry_time_d</th>\n",
       "      <th>entry_tp_o</th>\n",
       "      <th>entry_tp_d</th>\n",
       "      <th>tradeflow_comtrade_o</th>\n",
       "      <th>tradeflow_comtrade_d</th>\n",
       "      <th>tradeflow_baci</th>\n",
       "      <th>manuf_tradeflow_baci</th>\n",
       "      <th>tradeflow_imf_o</th>\n",
       "      <th>tradeflow_imf_d</th>\n",
       "    </tr>\n",
       "  </thead>\n",
       "  <tbody>\n",
       "    <tr>\n",
       "      <th>count</th>\n",
       "      <td>5389.000000</td>\n",
       "      <td>5389.000000</td>\n",
       "      <td>5389.000000</td>\n",
       "      <td>5389.0</td>\n",
       "      <td>5389.0</td>\n",
       "      <td>5389.000000</td>\n",
       "      <td>5389.000000</td>\n",
       "      <td>5389.000000</td>\n",
       "      <td>5389.000000</td>\n",
       "      <td>2963.000000</td>\n",
       "      <td>...</td>\n",
       "      <td>4279.000000</td>\n",
       "      <td>4312.000000</td>\n",
       "      <td>4279.000000</td>\n",
       "      <td>4312.000000</td>\n",
       "      <td>3.971000e+03</td>\n",
       "      <td>4.760000e+03</td>\n",
       "      <td>5.251000e+03</td>\n",
       "      <td>5.251000e+03</td>\n",
       "      <td>4.266000e+03</td>\n",
       "      <td>4.963000e+03</td>\n",
       "    </tr>\n",
       "    <tr>\n",
       "      <th>mean</th>\n",
       "      <td>2010.736315</td>\n",
       "      <td>242.804416</td>\n",
       "      <td>229.561329</td>\n",
       "      <td>1.0</td>\n",
       "      <td>1.0</td>\n",
       "      <td>2.793607</td>\n",
       "      <td>3.115838</td>\n",
       "      <td>5553.678048</td>\n",
       "      <td>5568.192615</td>\n",
       "      <td>5277.478907</td>\n",
       "      <td>...</td>\n",
       "      <td>27.128722</td>\n",
       "      <td>26.176971</td>\n",
       "      <td>34.273382</td>\n",
       "      <td>33.195524</td>\n",
       "      <td>1.190599e+05</td>\n",
       "      <td>9.570869e+04</td>\n",
       "      <td>9.914503e+04</td>\n",
       "      <td>3.953197e+04</td>\n",
       "      <td>1.120692e+05</td>\n",
       "      <td>9.310321e+04</td>\n",
       "    </tr>\n",
       "    <tr>\n",
       "      <th>std</th>\n",
       "      <td>5.999479</td>\n",
       "      <td>270.301258</td>\n",
       "      <td>270.202185</td>\n",
       "      <td>0.0</td>\n",
       "      <td>0.0</td>\n",
       "      <td>3.168939</td>\n",
       "      <td>2.825571</td>\n",
       "      <td>3880.743301</td>\n",
       "      <td>3874.969783</td>\n",
       "      <td>3829.956994</td>\n",
       "      <td>...</td>\n",
       "      <td>39.444938</td>\n",
       "      <td>34.161444</td>\n",
       "      <td>42.186821</td>\n",
       "      <td>37.343944</td>\n",
       "      <td>5.290237e+05</td>\n",
       "      <td>4.467355e+05</td>\n",
       "      <td>4.691038e+05</td>\n",
       "      <td>1.694444e+05</td>\n",
       "      <td>5.145707e+05</td>\n",
       "      <td>4.389921e+05</td>\n",
       "    </tr>\n",
       "    <tr>\n",
       "      <th>min</th>\n",
       "      <td>2000.000000</td>\n",
       "      <td>8.000000</td>\n",
       "      <td>8.000000</td>\n",
       "      <td>1.0</td>\n",
       "      <td>1.0</td>\n",
       "      <td>-11.000000</td>\n",
       "      <td>-10.000000</td>\n",
       "      <td>371.000000</td>\n",
       "      <td>412.000000</td>\n",
       "      <td>254.000000</td>\n",
       "      <td>...</td>\n",
       "      <td>0.500000</td>\n",
       "      <td>0.500000</td>\n",
       "      <td>1.500000</td>\n",
       "      <td>1.500000</td>\n",
       "      <td>1.000000e-03</td>\n",
       "      <td>9.000000e-03</td>\n",
       "      <td>1.000000e-02</td>\n",
       "      <td>0.000000e+00</td>\n",
       "      <td>2.000000e-03</td>\n",
       "      <td>1.200000e-02</td>\n",
       "    </tr>\n",
       "    <tr>\n",
       "      <th>25%</th>\n",
       "      <td>2006.000000</td>\n",
       "      <td>31.000000</td>\n",
       "      <td>31.000000</td>\n",
       "      <td>1.0</td>\n",
       "      <td>1.0</td>\n",
       "      <td>1.000000</td>\n",
       "      <td>2.000000</td>\n",
       "      <td>2516.000000</td>\n",
       "      <td>2520.000000</td>\n",
       "      <td>2378.500000</td>\n",
       "      <td>...</td>\n",
       "      <td>6.000000</td>\n",
       "      <td>5.000000</td>\n",
       "      <td>10.000000</td>\n",
       "      <td>8.500000</td>\n",
       "      <td>1.038185e+02</td>\n",
       "      <td>3.118675e+01</td>\n",
       "      <td>4.154600e+01</td>\n",
       "      <td>1.825600e+01</td>\n",
       "      <td>6.892500e+01</td>\n",
       "      <td>2.887800e+01</td>\n",
       "    </tr>\n",
       "    <tr>\n",
       "      <th>50%</th>\n",
       "      <td>2011.000000</td>\n",
       "      <td>44.000000</td>\n",
       "      <td>31.000000</td>\n",
       "      <td>1.0</td>\n",
       "      <td>1.0</td>\n",
       "      <td>4.000000</td>\n",
       "      <td>4.000000</td>\n",
       "      <td>4557.000000</td>\n",
       "      <td>4558.000000</td>\n",
       "      <td>3907.000000</td>\n",
       "      <td>...</td>\n",
       "      <td>10.000000</td>\n",
       "      <td>10.000000</td>\n",
       "      <td>16.000000</td>\n",
       "      <td>16.000000</td>\n",
       "      <td>3.157195e+03</td>\n",
       "      <td>8.356730e+02</td>\n",
       "      <td>1.316668e+03</td>\n",
       "      <td>3.881270e+02</td>\n",
       "      <td>2.278000e+03</td>\n",
       "      <td>7.956020e+02</td>\n",
       "    </tr>\n",
       "    <tr>\n",
       "      <th>75%</th>\n",
       "      <td>2016.000000</td>\n",
       "      <td>434.000000</td>\n",
       "      <td>422.000000</td>\n",
       "      <td>1.0</td>\n",
       "      <td>1.0</td>\n",
       "      <td>4.000000</td>\n",
       "      <td>4.000000</td>\n",
       "      <td>7056.000000</td>\n",
       "      <td>7059.000000</td>\n",
       "      <td>6881.000000</td>\n",
       "      <td>...</td>\n",
       "      <td>35.750000</td>\n",
       "      <td>35.000000</td>\n",
       "      <td>46.000000</td>\n",
       "      <td>45.000000</td>\n",
       "      <td>4.482271e+04</td>\n",
       "      <td>2.093573e+04</td>\n",
       "      <td>3.147828e+04</td>\n",
       "      <td>9.670257e+03</td>\n",
       "      <td>3.953531e+04</td>\n",
       "      <td>2.102228e+04</td>\n",
       "    </tr>\n",
       "    <tr>\n",
       "      <th>max</th>\n",
       "      <td>2020.000000</td>\n",
       "      <td>894.000000</td>\n",
       "      <td>894.000000</td>\n",
       "      <td>1.0</td>\n",
       "      <td>1.0</td>\n",
       "      <td>13.000000</td>\n",
       "      <td>13.000000</td>\n",
       "      <td>16884.000000</td>\n",
       "      <td>16884.000000</td>\n",
       "      <td>15516.000000</td>\n",
       "      <td>...</td>\n",
       "      <td>690.500000</td>\n",
       "      <td>230.000000</td>\n",
       "      <td>703.500000</td>\n",
       "      <td>250.000000</td>\n",
       "      <td>1.922014e+07</td>\n",
       "      <td>1.146601e+07</td>\n",
       "      <td>1.924018e+07</td>\n",
       "      <td>3.158459e+06</td>\n",
       "      <td>1.922001e+07</td>\n",
       "      <td>1.150286e+07</td>\n",
       "    </tr>\n",
       "  </tbody>\n",
       "</table>\n",
       "<p>8 rows × 80 columns</p>\n",
       "</div>"
      ],
      "text/plain": [
       "              year    iso3num_o    iso3num_d  country_exists_o  \\\n",
       "count  5389.000000  5389.000000  5389.000000            5389.0   \n",
       "mean   2010.736315   242.804416   229.561329               1.0   \n",
       "std       5.999479   270.301258   270.202185               0.0   \n",
       "min    2000.000000     8.000000     8.000000               1.0   \n",
       "25%    2006.000000    31.000000    31.000000               1.0   \n",
       "50%    2011.000000    44.000000    31.000000               1.0   \n",
       "75%    2016.000000   434.000000   422.000000               1.0   \n",
       "max    2020.000000   894.000000   894.000000               1.0   \n",
       "\n",
       "       country_exists_d  gmt_offset_2020_o  gmt_offset_2020_d  distw_harmonic  \\\n",
       "count            5389.0        5389.000000        5389.000000     5389.000000   \n",
       "mean                1.0           2.793607           3.115838     5553.678048   \n",
       "std                 0.0           3.168939           2.825571     3880.743301   \n",
       "min                 1.0         -11.000000         -10.000000      371.000000   \n",
       "25%                 1.0           1.000000           2.000000     2516.000000   \n",
       "50%                 1.0           4.000000           4.000000     4557.000000   \n",
       "75%                 1.0           4.000000           4.000000     7056.000000   \n",
       "max                 1.0          13.000000          13.000000    16884.000000   \n",
       "\n",
       "       distw_arithmetic  distw_harmonic_jh  ...  entry_time_o  entry_time_d  \\\n",
       "count       5389.000000        2963.000000  ...   4279.000000   4312.000000   \n",
       "mean        5568.192615        5277.478907  ...     27.128722     26.176971   \n",
       "std         3874.969783        3829.956994  ...     39.444938     34.161444   \n",
       "min          412.000000         254.000000  ...      0.500000      0.500000   \n",
       "25%         2520.000000        2378.500000  ...      6.000000      5.000000   \n",
       "50%         4558.000000        3907.000000  ...     10.000000     10.000000   \n",
       "75%         7059.000000        6881.000000  ...     35.750000     35.000000   \n",
       "max        16884.000000       15516.000000  ...    690.500000    230.000000   \n",
       "\n",
       "        entry_tp_o   entry_tp_d  tradeflow_comtrade_o  tradeflow_comtrade_d  \\\n",
       "count  4279.000000  4312.000000          3.971000e+03          4.760000e+03   \n",
       "mean     34.273382    33.195524          1.190599e+05          9.570869e+04   \n",
       "std      42.186821    37.343944          5.290237e+05          4.467355e+05   \n",
       "min       1.500000     1.500000          1.000000e-03          9.000000e-03   \n",
       "25%      10.000000     8.500000          1.038185e+02          3.118675e+01   \n",
       "50%      16.000000    16.000000          3.157195e+03          8.356730e+02   \n",
       "75%      46.000000    45.000000          4.482271e+04          2.093573e+04   \n",
       "max     703.500000   250.000000          1.922014e+07          1.146601e+07   \n",
       "\n",
       "       tradeflow_baci  manuf_tradeflow_baci  tradeflow_imf_o  tradeflow_imf_d  \n",
       "count    5.251000e+03          5.251000e+03     4.266000e+03     4.963000e+03  \n",
       "mean     9.914503e+04          3.953197e+04     1.120692e+05     9.310321e+04  \n",
       "std      4.691038e+05          1.694444e+05     5.145707e+05     4.389921e+05  \n",
       "min      1.000000e-02          0.000000e+00     2.000000e-03     1.200000e-02  \n",
       "25%      4.154600e+01          1.825600e+01     6.892500e+01     2.887800e+01  \n",
       "50%      1.316668e+03          3.881270e+02     2.278000e+03     7.956020e+02  \n",
       "75%      3.147828e+04          9.670257e+03     3.953531e+04     2.102228e+04  \n",
       "max      1.924018e+07          3.158459e+06     1.922001e+07     1.150286e+07  \n",
       "\n",
       "[8 rows x 80 columns]"
      ]
     },
     "execution_count": 78,
     "metadata": {},
     "output_type": "execute_result"
    }
   ],
   "source": [
    "gme_data.describe()"
   ]
  },
  {
   "cell_type": "code",
   "execution_count": 91,
   "metadata": {},
   "outputs": [
    {
     "data": {
      "text/html": [
       "<div>\n",
       "<style scoped>\n",
       "    .dataframe tbody tr th:only-of-type {\n",
       "        vertical-align: middle;\n",
       "    }\n",
       "\n",
       "    .dataframe tbody tr th {\n",
       "        vertical-align: top;\n",
       "    }\n",
       "\n",
       "    .dataframe thead th {\n",
       "        text-align: right;\n",
       "    }\n",
       "</style>\n",
       "<table border=\"1\" class=\"dataframe\">\n",
       "  <thead>\n",
       "    <tr style=\"text-align: right;\">\n",
       "      <th></th>\n",
       "      <th>year</th>\n",
       "      <th>iso3_d</th>\n",
       "      <th>iso3_o</th>\n",
       "      <th>tradeflow_baci</th>\n",
       "      <th>tradeflow_imf_o</th>\n",
       "      <th>tradeflow_imf_d</th>\n",
       "      <th>gdp_d</th>\n",
       "      <th>gdp_o</th>\n",
       "    </tr>\n",
       "  </thead>\n",
       "  <tbody>\n",
       "    <tr>\n",
       "      <th>38460</th>\n",
       "      <td>2002</td>\n",
       "      <td>AZE</td>\n",
       "      <td>AGO</td>\n",
       "      <td>69.107</td>\n",
       "      <td>NaN</td>\n",
       "      <td>69.504</td>\n",
       "      <td>6.236025e+06</td>\n",
       "      <td>1.249735e+07</td>\n",
       "    </tr>\n",
       "    <tr>\n",
       "      <th>38462</th>\n",
       "      <td>2004</td>\n",
       "      <td>AZE</td>\n",
       "      <td>AGO</td>\n",
       "      <td>3.111</td>\n",
       "      <td>NaN</td>\n",
       "      <td>3.204</td>\n",
       "      <td>8.680511e+06</td>\n",
       "      <td>1.964086e+07</td>\n",
       "    </tr>\n",
       "    <tr>\n",
       "      <th>38463</th>\n",
       "      <td>2005</td>\n",
       "      <td>AZE</td>\n",
       "      <td>AGO</td>\n",
       "      <td>4.985</td>\n",
       "      <td>NaN</td>\n",
       "      <td>5.100</td>\n",
       "      <td>1.324542e+07</td>\n",
       "      <td>2.823370e+07</td>\n",
       "    </tr>\n",
       "    <tr>\n",
       "      <th>38464</th>\n",
       "      <td>2006</td>\n",
       "      <td>AZE</td>\n",
       "      <td>AGO</td>\n",
       "      <td>20.962</td>\n",
       "      <td>NaN</td>\n",
       "      <td>21.804</td>\n",
       "      <td>2.098227e+07</td>\n",
       "      <td>4.178949e+07</td>\n",
       "    </tr>\n",
       "    <tr>\n",
       "      <th>38465</th>\n",
       "      <td>2007</td>\n",
       "      <td>AZE</td>\n",
       "      <td>AGO</td>\n",
       "      <td>33.581</td>\n",
       "      <td>NaN</td>\n",
       "      <td>34.200</td>\n",
       "      <td>3.305034e+07</td>\n",
       "      <td>6.044889e+07</td>\n",
       "    </tr>\n",
       "    <tr>\n",
       "      <th>38466</th>\n",
       "      <td>2008</td>\n",
       "      <td>AZE</td>\n",
       "      <td>AGO</td>\n",
       "      <td>277.113</td>\n",
       "      <td>NaN</td>\n",
       "      <td>279.096</td>\n",
       "      <td>4.885248e+07</td>\n",
       "      <td>8.417808e+07</td>\n",
       "    </tr>\n",
       "    <tr>\n",
       "      <th>38467</th>\n",
       "      <td>2009</td>\n",
       "      <td>AZE</td>\n",
       "      <td>AGO</td>\n",
       "      <td>2.567</td>\n",
       "      <td>NaN</td>\n",
       "      <td>2.604</td>\n",
       "      <td>4.429149e+07</td>\n",
       "      <td>7.549242e+07</td>\n",
       "    </tr>\n",
       "    <tr>\n",
       "      <th>38468</th>\n",
       "      <td>2010</td>\n",
       "      <td>AZE</td>\n",
       "      <td>AGO</td>\n",
       "      <td>5.766</td>\n",
       "      <td>NaN</td>\n",
       "      <td>5.800</td>\n",
       "      <td>5.290270e+07</td>\n",
       "      <td>8.247090e+07</td>\n",
       "    </tr>\n",
       "    <tr>\n",
       "      <th>38469</th>\n",
       "      <td>2011</td>\n",
       "      <td>AZE</td>\n",
       "      <td>AGO</td>\n",
       "      <td>3.643</td>\n",
       "      <td>NaN</td>\n",
       "      <td>3.700</td>\n",
       "      <td>6.595163e+07</td>\n",
       "      <td>1.041159e+08</td>\n",
       "    </tr>\n",
       "    <tr>\n",
       "      <th>38471</th>\n",
       "      <td>2013</td>\n",
       "      <td>AZE</td>\n",
       "      <td>AGO</td>\n",
       "      <td>12.555</td>\n",
       "      <td>NaN</td>\n",
       "      <td>12.600</td>\n",
       "      <td>7.356048e+07</td>\n",
       "      <td>1.241782e+08</td>\n",
       "    </tr>\n",
       "  </tbody>\n",
       "</table>\n",
       "</div>"
      ],
      "text/plain": [
       "       year iso3_d iso3_o  tradeflow_baci  tradeflow_imf_o  tradeflow_imf_d  \\\n",
       "38460  2002    AZE    AGO          69.107              NaN           69.504   \n",
       "38462  2004    AZE    AGO           3.111              NaN            3.204   \n",
       "38463  2005    AZE    AGO           4.985              NaN            5.100   \n",
       "38464  2006    AZE    AGO          20.962              NaN           21.804   \n",
       "38465  2007    AZE    AGO          33.581              NaN           34.200   \n",
       "38466  2008    AZE    AGO         277.113              NaN          279.096   \n",
       "38467  2009    AZE    AGO           2.567              NaN            2.604   \n",
       "38468  2010    AZE    AGO           5.766              NaN            5.800   \n",
       "38469  2011    AZE    AGO           3.643              NaN            3.700   \n",
       "38471  2013    AZE    AGO          12.555              NaN           12.600   \n",
       "\n",
       "              gdp_d         gdp_o  \n",
       "38460  6.236025e+06  1.249735e+07  \n",
       "38462  8.680511e+06  1.964086e+07  \n",
       "38463  1.324542e+07  2.823370e+07  \n",
       "38464  2.098227e+07  4.178949e+07  \n",
       "38465  3.305034e+07  6.044889e+07  \n",
       "38466  4.885248e+07  8.417808e+07  \n",
       "38467  4.429149e+07  7.549242e+07  \n",
       "38468  5.290270e+07  8.247090e+07  \n",
       "38469  6.595163e+07  1.041159e+08  \n",
       "38471  7.356048e+07  1.241782e+08  "
      ]
     },
     "execution_count": 91,
     "metadata": {},
     "output_type": "execute_result"
    }
   ],
   "source": [
    "#you can add other variables to the data set, as long as they are present in the data frame.\n",
    "\n",
    "filtered_data_custom = filtered_data[['year','iso3_d', 'iso3_o', 'tradeflow_baci', 'tradeflow_imf_o', 'tradeflow_imf_d','gdp_d','gdp_o']]\n",
    "filtered_data_custom.head(10)"
   ]
  },
  {
   "cell_type": "code",
   "execution_count": 82,
   "metadata": {},
   "outputs": [
    {
     "name": "stderr",
     "output_type": "stream",
     "text": [
      "/var/folders/9w/mh3y2sps7_v81cj0mntlqn3c0000gr/T/ipykernel_40505/2989868126.py:7: SettingWithCopyWarning:\n",
      "\n",
      "\n",
      "A value is trying to be set on a copy of a slice from a DataFrame.\n",
      "Try using .loc[row_indexer,col_indexer] = value instead\n",
      "\n",
      "See the caveats in the documentation: https://pandas.pydata.org/pandas-docs/stable/user_guide/indexing.html#returning-a-view-versus-a-copy\n",
      "\n"
     ]
    },
    {
     "data": {
      "text/html": [
       "<div>\n",
       "<style scoped>\n",
       "    .dataframe tbody tr th:only-of-type {\n",
       "        vertical-align: middle;\n",
       "    }\n",
       "\n",
       "    .dataframe tbody tr th {\n",
       "        vertical-align: top;\n",
       "    }\n",
       "\n",
       "    .dataframe thead th {\n",
       "        text-align: right;\n",
       "    }\n",
       "</style>\n",
       "<table border=\"1\" class=\"dataframe\">\n",
       "  <thead>\n",
       "    <tr style=\"text-align: right;\">\n",
       "      <th></th>\n",
       "      <th>year</th>\n",
       "      <th>iso3_d</th>\n",
       "      <th>iso3_o</th>\n",
       "      <th>tradeflow_baci</th>\n",
       "      <th>tradeflow_imf_o</th>\n",
       "      <th>tradeflow_imf_d</th>\n",
       "      <th>Flow</th>\n",
       "    </tr>\n",
       "  </thead>\n",
       "  <tbody>\n",
       "    <tr>\n",
       "      <th>38460</th>\n",
       "      <td>2002</td>\n",
       "      <td>AZE</td>\n",
       "      <td>AGO</td>\n",
       "      <td>69.107</td>\n",
       "      <td>NaN</td>\n",
       "      <td>69.504</td>\n",
       "      <td>AZE-&gt;AGO</td>\n",
       "    </tr>\n",
       "    <tr>\n",
       "      <th>38462</th>\n",
       "      <td>2004</td>\n",
       "      <td>AZE</td>\n",
       "      <td>AGO</td>\n",
       "      <td>3.111</td>\n",
       "      <td>NaN</td>\n",
       "      <td>3.204</td>\n",
       "      <td>AZE-&gt;AGO</td>\n",
       "    </tr>\n",
       "    <tr>\n",
       "      <th>38463</th>\n",
       "      <td>2005</td>\n",
       "      <td>AZE</td>\n",
       "      <td>AGO</td>\n",
       "      <td>4.985</td>\n",
       "      <td>NaN</td>\n",
       "      <td>5.100</td>\n",
       "      <td>AZE-&gt;AGO</td>\n",
       "    </tr>\n",
       "    <tr>\n",
       "      <th>38464</th>\n",
       "      <td>2006</td>\n",
       "      <td>AZE</td>\n",
       "      <td>AGO</td>\n",
       "      <td>20.962</td>\n",
       "      <td>NaN</td>\n",
       "      <td>21.804</td>\n",
       "      <td>AZE-&gt;AGO</td>\n",
       "    </tr>\n",
       "    <tr>\n",
       "      <th>38465</th>\n",
       "      <td>2007</td>\n",
       "      <td>AZE</td>\n",
       "      <td>AGO</td>\n",
       "      <td>33.581</td>\n",
       "      <td>NaN</td>\n",
       "      <td>34.200</td>\n",
       "      <td>AZE-&gt;AGO</td>\n",
       "    </tr>\n",
       "    <tr>\n",
       "      <th>38466</th>\n",
       "      <td>2008</td>\n",
       "      <td>AZE</td>\n",
       "      <td>AGO</td>\n",
       "      <td>277.113</td>\n",
       "      <td>NaN</td>\n",
       "      <td>279.096</td>\n",
       "      <td>AZE-&gt;AGO</td>\n",
       "    </tr>\n",
       "    <tr>\n",
       "      <th>38467</th>\n",
       "      <td>2009</td>\n",
       "      <td>AZE</td>\n",
       "      <td>AGO</td>\n",
       "      <td>2.567</td>\n",
       "      <td>NaN</td>\n",
       "      <td>2.604</td>\n",
       "      <td>AZE-&gt;AGO</td>\n",
       "    </tr>\n",
       "    <tr>\n",
       "      <th>38468</th>\n",
       "      <td>2010</td>\n",
       "      <td>AZE</td>\n",
       "      <td>AGO</td>\n",
       "      <td>5.766</td>\n",
       "      <td>NaN</td>\n",
       "      <td>5.800</td>\n",
       "      <td>AZE-&gt;AGO</td>\n",
       "    </tr>\n",
       "    <tr>\n",
       "      <th>38469</th>\n",
       "      <td>2011</td>\n",
       "      <td>AZE</td>\n",
       "      <td>AGO</td>\n",
       "      <td>3.643</td>\n",
       "      <td>NaN</td>\n",
       "      <td>3.700</td>\n",
       "      <td>AZE-&gt;AGO</td>\n",
       "    </tr>\n",
       "    <tr>\n",
       "      <th>38471</th>\n",
       "      <td>2013</td>\n",
       "      <td>AZE</td>\n",
       "      <td>AGO</td>\n",
       "      <td>12.555</td>\n",
       "      <td>NaN</td>\n",
       "      <td>12.600</td>\n",
       "      <td>AZE-&gt;AGO</td>\n",
       "    </tr>\n",
       "  </tbody>\n",
       "</table>\n",
       "</div>"
      ],
      "text/plain": [
       "       year iso3_d iso3_o  tradeflow_baci  tradeflow_imf_o  tradeflow_imf_d  \\\n",
       "38460  2002    AZE    AGO          69.107              NaN           69.504   \n",
       "38462  2004    AZE    AGO           3.111              NaN            3.204   \n",
       "38463  2005    AZE    AGO           4.985              NaN            5.100   \n",
       "38464  2006    AZE    AGO          20.962              NaN           21.804   \n",
       "38465  2007    AZE    AGO          33.581              NaN           34.200   \n",
       "38466  2008    AZE    AGO         277.113              NaN          279.096   \n",
       "38467  2009    AZE    AGO           2.567              NaN            2.604   \n",
       "38468  2010    AZE    AGO           5.766              NaN            5.800   \n",
       "38469  2011    AZE    AGO           3.643              NaN            3.700   \n",
       "38471  2013    AZE    AGO          12.555              NaN           12.600   \n",
       "\n",
       "           Flow  \n",
       "38460  AZE->AGO  \n",
       "38462  AZE->AGO  \n",
       "38463  AZE->AGO  \n",
       "38464  AZE->AGO  \n",
       "38465  AZE->AGO  \n",
       "38466  AZE->AGO  \n",
       "38467  AZE->AGO  \n",
       "38468  AZE->AGO  \n",
       "38469  AZE->AGO  \n",
       "38471  AZE->AGO  "
      ]
     },
     "execution_count": 82,
     "metadata": {},
     "output_type": "execute_result"
    }
   ],
   "source": [
    "# to add the new variables to the data set to consolodate the data for further analysis\n",
    "\n",
    "filtered_data_custom = filtered_data[['year', 'iso3_d', 'iso3_o', \n",
    "                                     'tradeflow_baci', 'tradeflow_imf_o', \n",
    "                                     'tradeflow_imf_d']]\n",
    "\n",
    "filtered_data_custom['Flow'] = filtered_data_custom['iso3_d'].astype(str) + '->' + filtered_data_custom['iso3_o'].astype(str)\n",
    "\n",
    "filtered_data_custom.head(10)"
   ]
  },
  {
   "cell_type": "code",
   "execution_count": 61,
   "metadata": {},
   "outputs": [
    {
     "data": {
      "application/vnd.plotly.v1+json": {
       "config": {
        "plotlyServerURL": "https://plot.ly"
       },
       "data": [
        {
         "domain": {
          "x": [
           0,
           1
          ],
          "y": [
           0,
           1
          ]
         },
         "hovertemplate": "Partner=%{label}<br>tradeflow_baci=%{value}<extra></extra>",
         "labels": [
          "ITA",
          "RUS",
          "TUR",
          "ISR",
          "FRA",
          "TUR",
          "USA",
          "GBR",
          "DEU",
          "CHN"
         ],
         "legendgroup": "",
         "name": "",
         "pull": [
          0.05,
          0.05,
          0.05,
          0.05,
          0.05,
          0.05,
          0.05,
          0.05,
          0.05,
          0.05
         ],
         "showlegend": true,
         "textinfo": "percent+value",
         "type": "pie",
         "values": [
          95355251.496,
          30258384.295,
          29816203.091,
          19481326.503,
          18980084.844,
          17372503.455,
          16578702.978,
          14466517.163,
          13655095.175999999,
          12858896.754
         ]
        }
       ],
       "layout": {
        "legend": {
         "tracegroupgap": 0
        },
        "template": {
         "data": {
          "bar": [
           {
            "error_x": {
             "color": "#2a3f5f"
            },
            "error_y": {
             "color": "#2a3f5f"
            },
            "marker": {
             "line": {
              "color": "#E5ECF6",
              "width": 0.5
             },
             "pattern": {
              "fillmode": "overlay",
              "size": 10,
              "solidity": 0.2
             }
            },
            "type": "bar"
           }
          ],
          "barpolar": [
           {
            "marker": {
             "line": {
              "color": "#E5ECF6",
              "width": 0.5
             },
             "pattern": {
              "fillmode": "overlay",
              "size": 10,
              "solidity": 0.2
             }
            },
            "type": "barpolar"
           }
          ],
          "carpet": [
           {
            "aaxis": {
             "endlinecolor": "#2a3f5f",
             "gridcolor": "white",
             "linecolor": "white",
             "minorgridcolor": "white",
             "startlinecolor": "#2a3f5f"
            },
            "baxis": {
             "endlinecolor": "#2a3f5f",
             "gridcolor": "white",
             "linecolor": "white",
             "minorgridcolor": "white",
             "startlinecolor": "#2a3f5f"
            },
            "type": "carpet"
           }
          ],
          "choropleth": [
           {
            "colorbar": {
             "outlinewidth": 0,
             "ticks": ""
            },
            "type": "choropleth"
           }
          ],
          "contour": [
           {
            "colorbar": {
             "outlinewidth": 0,
             "ticks": ""
            },
            "colorscale": [
             [
              0,
              "#0d0887"
             ],
             [
              0.1111111111111111,
              "#46039f"
             ],
             [
              0.2222222222222222,
              "#7201a8"
             ],
             [
              0.3333333333333333,
              "#9c179e"
             ],
             [
              0.4444444444444444,
              "#bd3786"
             ],
             [
              0.5555555555555556,
              "#d8576b"
             ],
             [
              0.6666666666666666,
              "#ed7953"
             ],
             [
              0.7777777777777778,
              "#fb9f3a"
             ],
             [
              0.8888888888888888,
              "#fdca26"
             ],
             [
              1,
              "#f0f921"
             ]
            ],
            "type": "contour"
           }
          ],
          "contourcarpet": [
           {
            "colorbar": {
             "outlinewidth": 0,
             "ticks": ""
            },
            "type": "contourcarpet"
           }
          ],
          "heatmap": [
           {
            "colorbar": {
             "outlinewidth": 0,
             "ticks": ""
            },
            "colorscale": [
             [
              0,
              "#0d0887"
             ],
             [
              0.1111111111111111,
              "#46039f"
             ],
             [
              0.2222222222222222,
              "#7201a8"
             ],
             [
              0.3333333333333333,
              "#9c179e"
             ],
             [
              0.4444444444444444,
              "#bd3786"
             ],
             [
              0.5555555555555556,
              "#d8576b"
             ],
             [
              0.6666666666666666,
              "#ed7953"
             ],
             [
              0.7777777777777778,
              "#fb9f3a"
             ],
             [
              0.8888888888888888,
              "#fdca26"
             ],
             [
              1,
              "#f0f921"
             ]
            ],
            "type": "heatmap"
           }
          ],
          "heatmapgl": [
           {
            "colorbar": {
             "outlinewidth": 0,
             "ticks": ""
            },
            "colorscale": [
             [
              0,
              "#0d0887"
             ],
             [
              0.1111111111111111,
              "#46039f"
             ],
             [
              0.2222222222222222,
              "#7201a8"
             ],
             [
              0.3333333333333333,
              "#9c179e"
             ],
             [
              0.4444444444444444,
              "#bd3786"
             ],
             [
              0.5555555555555556,
              "#d8576b"
             ],
             [
              0.6666666666666666,
              "#ed7953"
             ],
             [
              0.7777777777777778,
              "#fb9f3a"
             ],
             [
              0.8888888888888888,
              "#fdca26"
             ],
             [
              1,
              "#f0f921"
             ]
            ],
            "type": "heatmapgl"
           }
          ],
          "histogram": [
           {
            "marker": {
             "pattern": {
              "fillmode": "overlay",
              "size": 10,
              "solidity": 0.2
             }
            },
            "type": "histogram"
           }
          ],
          "histogram2d": [
           {
            "colorbar": {
             "outlinewidth": 0,
             "ticks": ""
            },
            "colorscale": [
             [
              0,
              "#0d0887"
             ],
             [
              0.1111111111111111,
              "#46039f"
             ],
             [
              0.2222222222222222,
              "#7201a8"
             ],
             [
              0.3333333333333333,
              "#9c179e"
             ],
             [
              0.4444444444444444,
              "#bd3786"
             ],
             [
              0.5555555555555556,
              "#d8576b"
             ],
             [
              0.6666666666666666,
              "#ed7953"
             ],
             [
              0.7777777777777778,
              "#fb9f3a"
             ],
             [
              0.8888888888888888,
              "#fdca26"
             ],
             [
              1,
              "#f0f921"
             ]
            ],
            "type": "histogram2d"
           }
          ],
          "histogram2dcontour": [
           {
            "colorbar": {
             "outlinewidth": 0,
             "ticks": ""
            },
            "colorscale": [
             [
              0,
              "#0d0887"
             ],
             [
              0.1111111111111111,
              "#46039f"
             ],
             [
              0.2222222222222222,
              "#7201a8"
             ],
             [
              0.3333333333333333,
              "#9c179e"
             ],
             [
              0.4444444444444444,
              "#bd3786"
             ],
             [
              0.5555555555555556,
              "#d8576b"
             ],
             [
              0.6666666666666666,
              "#ed7953"
             ],
             [
              0.7777777777777778,
              "#fb9f3a"
             ],
             [
              0.8888888888888888,
              "#fdca26"
             ],
             [
              1,
              "#f0f921"
             ]
            ],
            "type": "histogram2dcontour"
           }
          ],
          "mesh3d": [
           {
            "colorbar": {
             "outlinewidth": 0,
             "ticks": ""
            },
            "type": "mesh3d"
           }
          ],
          "parcoords": [
           {
            "line": {
             "colorbar": {
              "outlinewidth": 0,
              "ticks": ""
             }
            },
            "type": "parcoords"
           }
          ],
          "pie": [
           {
            "automargin": true,
            "type": "pie"
           }
          ],
          "scatter": [
           {
            "fillpattern": {
             "fillmode": "overlay",
             "size": 10,
             "solidity": 0.2
            },
            "type": "scatter"
           }
          ],
          "scatter3d": [
           {
            "line": {
             "colorbar": {
              "outlinewidth": 0,
              "ticks": ""
             }
            },
            "marker": {
             "colorbar": {
              "outlinewidth": 0,
              "ticks": ""
             }
            },
            "type": "scatter3d"
           }
          ],
          "scattercarpet": [
           {
            "marker": {
             "colorbar": {
              "outlinewidth": 0,
              "ticks": ""
             }
            },
            "type": "scattercarpet"
           }
          ],
          "scattergeo": [
           {
            "marker": {
             "colorbar": {
              "outlinewidth": 0,
              "ticks": ""
             }
            },
            "type": "scattergeo"
           }
          ],
          "scattergl": [
           {
            "marker": {
             "colorbar": {
              "outlinewidth": 0,
              "ticks": ""
             }
            },
            "type": "scattergl"
           }
          ],
          "scattermapbox": [
           {
            "marker": {
             "colorbar": {
              "outlinewidth": 0,
              "ticks": ""
             }
            },
            "type": "scattermapbox"
           }
          ],
          "scatterpolar": [
           {
            "marker": {
             "colorbar": {
              "outlinewidth": 0,
              "ticks": ""
             }
            },
            "type": "scatterpolar"
           }
          ],
          "scatterpolargl": [
           {
            "marker": {
             "colorbar": {
              "outlinewidth": 0,
              "ticks": ""
             }
            },
            "type": "scatterpolargl"
           }
          ],
          "scatterternary": [
           {
            "marker": {
             "colorbar": {
              "outlinewidth": 0,
              "ticks": ""
             }
            },
            "type": "scatterternary"
           }
          ],
          "surface": [
           {
            "colorbar": {
             "outlinewidth": 0,
             "ticks": ""
            },
            "colorscale": [
             [
              0,
              "#0d0887"
             ],
             [
              0.1111111111111111,
              "#46039f"
             ],
             [
              0.2222222222222222,
              "#7201a8"
             ],
             [
              0.3333333333333333,
              "#9c179e"
             ],
             [
              0.4444444444444444,
              "#bd3786"
             ],
             [
              0.5555555555555556,
              "#d8576b"
             ],
             [
              0.6666666666666666,
              "#ed7953"
             ],
             [
              0.7777777777777778,
              "#fb9f3a"
             ],
             [
              0.8888888888888888,
              "#fdca26"
             ],
             [
              1,
              "#f0f921"
             ]
            ],
            "type": "surface"
           }
          ],
          "table": [
           {
            "cells": {
             "fill": {
              "color": "#EBF0F8"
             },
             "line": {
              "color": "white"
             }
            },
            "header": {
             "fill": {
              "color": "#C8D4E3"
             },
             "line": {
              "color": "white"
             }
            },
            "type": "table"
           }
          ]
         },
         "layout": {
          "annotationdefaults": {
           "arrowcolor": "#2a3f5f",
           "arrowhead": 0,
           "arrowwidth": 1
          },
          "autotypenumbers": "strict",
          "coloraxis": {
           "colorbar": {
            "outlinewidth": 0,
            "ticks": ""
           }
          },
          "colorscale": {
           "diverging": [
            [
             0,
             "#8e0152"
            ],
            [
             0.1,
             "#c51b7d"
            ],
            [
             0.2,
             "#de77ae"
            ],
            [
             0.3,
             "#f1b6da"
            ],
            [
             0.4,
             "#fde0ef"
            ],
            [
             0.5,
             "#f7f7f7"
            ],
            [
             0.6,
             "#e6f5d0"
            ],
            [
             0.7,
             "#b8e186"
            ],
            [
             0.8,
             "#7fbc41"
            ],
            [
             0.9,
             "#4d9221"
            ],
            [
             1,
             "#276419"
            ]
           ],
           "sequential": [
            [
             0,
             "#0d0887"
            ],
            [
             0.1111111111111111,
             "#46039f"
            ],
            [
             0.2222222222222222,
             "#7201a8"
            ],
            [
             0.3333333333333333,
             "#9c179e"
            ],
            [
             0.4444444444444444,
             "#bd3786"
            ],
            [
             0.5555555555555556,
             "#d8576b"
            ],
            [
             0.6666666666666666,
             "#ed7953"
            ],
            [
             0.7777777777777778,
             "#fb9f3a"
            ],
            [
             0.8888888888888888,
             "#fdca26"
            ],
            [
             1,
             "#f0f921"
            ]
           ],
           "sequentialminus": [
            [
             0,
             "#0d0887"
            ],
            [
             0.1111111111111111,
             "#46039f"
            ],
            [
             0.2222222222222222,
             "#7201a8"
            ],
            [
             0.3333333333333333,
             "#9c179e"
            ],
            [
             0.4444444444444444,
             "#bd3786"
            ],
            [
             0.5555555555555556,
             "#d8576b"
            ],
            [
             0.6666666666666666,
             "#ed7953"
            ],
            [
             0.7777777777777778,
             "#fb9f3a"
            ],
            [
             0.8888888888888888,
             "#fdca26"
            ],
            [
             1,
             "#f0f921"
            ]
           ]
          },
          "colorway": [
           "#636efa",
           "#EF553B",
           "#00cc96",
           "#ab63fa",
           "#FFA15A",
           "#19d3f3",
           "#FF6692",
           "#B6E880",
           "#FF97FF",
           "#FECB52"
          ],
          "font": {
           "color": "#2a3f5f"
          },
          "geo": {
           "bgcolor": "white",
           "lakecolor": "white",
           "landcolor": "#E5ECF6",
           "showlakes": true,
           "showland": true,
           "subunitcolor": "white"
          },
          "hoverlabel": {
           "align": "left"
          },
          "hovermode": "closest",
          "mapbox": {
           "style": "light"
          },
          "paper_bgcolor": "white",
          "plot_bgcolor": "#E5ECF6",
          "polar": {
           "angularaxis": {
            "gridcolor": "white",
            "linecolor": "white",
            "ticks": ""
           },
           "bgcolor": "#E5ECF6",
           "radialaxis": {
            "gridcolor": "white",
            "linecolor": "white",
            "ticks": ""
           }
          },
          "scene": {
           "xaxis": {
            "backgroundcolor": "#E5ECF6",
            "gridcolor": "white",
            "gridwidth": 2,
            "linecolor": "white",
            "showbackground": true,
            "ticks": "",
            "zerolinecolor": "white"
           },
           "yaxis": {
            "backgroundcolor": "#E5ECF6",
            "gridcolor": "white",
            "gridwidth": 2,
            "linecolor": "white",
            "showbackground": true,
            "ticks": "",
            "zerolinecolor": "white"
           },
           "zaxis": {
            "backgroundcolor": "#E5ECF6",
            "gridcolor": "white",
            "gridwidth": 2,
            "linecolor": "white",
            "showbackground": true,
            "ticks": "",
            "zerolinecolor": "white"
           }
          },
          "shapedefaults": {
           "line": {
            "color": "#2a3f5f"
           }
          },
          "ternary": {
           "aaxis": {
            "gridcolor": "white",
            "linecolor": "white",
            "ticks": ""
           },
           "baxis": {
            "gridcolor": "white",
            "linecolor": "white",
            "ticks": ""
           },
           "bgcolor": "#E5ECF6",
           "caxis": {
            "gridcolor": "white",
            "linecolor": "white",
            "ticks": ""
           }
          },
          "title": {
           "x": 0.05
          },
          "xaxis": {
           "automargin": true,
           "gridcolor": "white",
           "linecolor": "white",
           "ticks": "",
           "title": {
            "standoff": 15
           },
           "zerolinecolor": "white",
           "zerolinewidth": 2
          },
          "yaxis": {
           "automargin": true,
           "gridcolor": "white",
           "linecolor": "white",
           "ticks": "",
           "title": {
            "standoff": 15
           },
           "zerolinecolor": "white",
           "zerolinewidth": 2
          }
         }
        },
        "title": {
         "text": "Top 10 consolidated Trading Partners by 'tradeflow baci' for 2000 till 2020"
        }
       }
      }
     },
     "metadata": {},
     "output_type": "display_data"
    },
    {
     "data": {
      "text/html": [
       "<div>\n",
       "<style scoped>\n",
       "    .dataframe tbody tr th:only-of-type {\n",
       "        vertical-align: middle;\n",
       "    }\n",
       "\n",
       "    .dataframe tbody tr th {\n",
       "        vertical-align: top;\n",
       "    }\n",
       "\n",
       "    .dataframe thead th {\n",
       "        text-align: right;\n",
       "    }\n",
       "</style>\n",
       "<table border=\"1\" class=\"dataframe\">\n",
       "  <thead>\n",
       "    <tr style=\"text-align: right;\">\n",
       "      <th></th>\n",
       "      <th>Flow</th>\n",
       "      <th>tradeflow_baci</th>\n",
       "      <th>tradeflow_imf_o</th>\n",
       "      <th>tradeflow_imf_d</th>\n",
       "    </tr>\n",
       "  </thead>\n",
       "  <tbody>\n",
       "    <tr>\n",
       "      <th>283</th>\n",
       "      <td>ITA-&gt;AZE</td>\n",
       "      <td>9.535525e+07</td>\n",
       "      <td>9.460031e+07</td>\n",
       "      <td>9.491047e+07</td>\n",
       "    </tr>\n",
       "    <tr>\n",
       "      <th>161</th>\n",
       "      <td>AZE-&gt;RUS</td>\n",
       "      <td>3.025838e+07</td>\n",
       "      <td>3.278231e+07</td>\n",
       "      <td>2.471699e+07</td>\n",
       "    </tr>\n",
       "    <tr>\n",
       "      <th>191</th>\n",
       "      <td>AZE-&gt;TUR</td>\n",
       "      <td>2.981620e+07</td>\n",
       "      <td>2.970976e+07</td>\n",
       "      <td>1.864745e+07</td>\n",
       "    </tr>\n",
       "    <tr>\n",
       "      <th>282</th>\n",
       "      <td>ISR-&gt;AZE</td>\n",
       "      <td>1.948133e+07</td>\n",
       "      <td>1.944815e+07</td>\n",
       "      <td>3.449300e+04</td>\n",
       "    </tr>\n",
       "    <tr>\n",
       "      <th>255</th>\n",
       "      <td>FRA-&gt;AZE</td>\n",
       "      <td>1.898008e+07</td>\n",
       "      <td>1.873932e+07</td>\n",
       "      <td>2.577318e+07</td>\n",
       "    </tr>\n",
       "    <tr>\n",
       "      <th>368</th>\n",
       "      <td>TUR-&gt;AZE</td>\n",
       "      <td>1.737250e+07</td>\n",
       "      <td>1.659803e+07</td>\n",
       "      <td>7.982200e+06</td>\n",
       "    </tr>\n",
       "    <tr>\n",
       "      <th>375</th>\n",
       "      <td>USA-&gt;AZE</td>\n",
       "      <td>1.657870e+07</td>\n",
       "      <td>1.653319e+07</td>\n",
       "      <td>1.852974e+07</td>\n",
       "    </tr>\n",
       "    <tr>\n",
       "      <th>73</th>\n",
       "      <td>AZE-&gt;GBR</td>\n",
       "      <td>1.446652e+07</td>\n",
       "      <td>1.407403e+07</td>\n",
       "      <td>8.495471e+06</td>\n",
       "    </tr>\n",
       "    <tr>\n",
       "      <th>242</th>\n",
       "      <td>DEU-&gt;AZE</td>\n",
       "      <td>1.365510e+07</td>\n",
       "      <td>9.463073e+06</td>\n",
       "      <td>2.981451e+07</td>\n",
       "    </tr>\n",
       "    <tr>\n",
       "      <th>42</th>\n",
       "      <td>AZE-&gt;CHN</td>\n",
       "      <td>1.285890e+07</td>\n",
       "      <td>9.997663e+06</td>\n",
       "      <td>1.121552e+07</td>\n",
       "    </tr>\n",
       "  </tbody>\n",
       "</table>\n",
       "</div>"
      ],
      "text/plain": [
       "         Flow  tradeflow_baci  tradeflow_imf_o  tradeflow_imf_d\n",
       "283  ITA->AZE    9.535525e+07     9.460031e+07     9.491047e+07\n",
       "161  AZE->RUS    3.025838e+07     3.278231e+07     2.471699e+07\n",
       "191  AZE->TUR    2.981620e+07     2.970976e+07     1.864745e+07\n",
       "282  ISR->AZE    1.948133e+07     1.944815e+07     3.449300e+04\n",
       "255  FRA->AZE    1.898008e+07     1.873932e+07     2.577318e+07\n",
       "368  TUR->AZE    1.737250e+07     1.659803e+07     7.982200e+06\n",
       "375  USA->AZE    1.657870e+07     1.653319e+07     1.852974e+07\n",
       "73   AZE->GBR    1.446652e+07     1.407403e+07     8.495471e+06\n",
       "242  DEU->AZE    1.365510e+07     9.463073e+06     2.981451e+07\n",
       "42   AZE->CHN    1.285890e+07     9.997663e+06     1.121552e+07"
      ]
     },
     "execution_count": 61,
     "metadata": {},
     "output_type": "execute_result"
    }
   ],
   "source": [
    "df_simplified = (\n",
    "    filtered_data_custom\n",
    "    .groupby('Flow', as_index=False)\n",
    "    .agg({\n",
    "        'tradeflow_baci': 'sum',\n",
    "        'tradeflow_imf_o': 'sum',\n",
    "        'tradeflow_imf_d': 'sum'\n",
    "\n",
    "    })\n",
    "    .sort_values(by='tradeflow_baci', ascending=False)\n",
    ")\n",
    "\n",
    "df_simplified_aze = df_simplified[\n",
    "    df_simplified['Flow'].str.contains('AZE->') | df_simplified['Flow'].str.contains('->AZE')\n",
    "]\n",
    "\n",
    "\n",
    "df_simplified_aze = df_simplified_aze[\n",
    "    df_simplified_aze['Flow'].str.split('->').str[0] \n",
    "    != df_simplified_aze['Flow'].str.split('->').str[1]\n",
    "]\n",
    "\n",
    "def get_partner(flow_string):\n",
    "    origin, destination = flow_string.split('->')\n",
    "    return destination if origin == 'AZE' else origin\n",
    "\n",
    "df_simplified_aze['Partner'] = df_simplified_aze['Flow'].apply(get_partner)\n",
    "\n",
    "df_simplified_aze_top10 = df_simplified_aze.head(10).copy()\n",
    "\n",
    "fig = px.pie(\n",
    "    df_simplified_aze_top10,\n",
    "    values='tradeflow_baci',\n",
    "    names='Partner',\n",
    "    title=\"Top 10 consolidated Trading Partners by 'tradeflow baci' for 2000 till 2020\",\n",
    ")\n",
    "\n",
    "fig.update_traces(\n",
    "    pull=[0.05]*len(df_simplified_aze_top10),\n",
    "    textinfo='percent+value'\n",
    ")\n",
    "\n",
    "fig.show()\n",
    "\n",
    "df_simplified.head(10)\n"
   ]
  },
  {
   "cell_type": "code",
   "execution_count": 62,
   "metadata": {},
   "outputs": [
    {
     "data": {
      "text/html": [
       "<div>\n",
       "<style scoped>\n",
       "    .dataframe tbody tr th:only-of-type {\n",
       "        vertical-align: middle;\n",
       "    }\n",
       "\n",
       "    .dataframe tbody tr th {\n",
       "        vertical-align: top;\n",
       "    }\n",
       "\n",
       "    .dataframe thead th {\n",
       "        text-align: right;\n",
       "    }\n",
       "</style>\n",
       "<table border=\"1\" class=\"dataframe\">\n",
       "  <thead>\n",
       "    <tr style=\"text-align: right;\">\n",
       "      <th></th>\n",
       "      <th>Flow</th>\n",
       "      <th>tradeflow_baci</th>\n",
       "      <th>tradeflow_imf_o</th>\n",
       "      <th>tradeflow_imf_d</th>\n",
       "    </tr>\n",
       "  </thead>\n",
       "  <tbody>\n",
       "    <tr>\n",
       "      <th>161</th>\n",
       "      <td>AZE-&gt;RUS</td>\n",
       "      <td>3.025838e+07</td>\n",
       "      <td>3.278231e+07</td>\n",
       "      <td>2.471699e+07</td>\n",
       "    </tr>\n",
       "    <tr>\n",
       "      <th>191</th>\n",
       "      <td>AZE-&gt;TUR</td>\n",
       "      <td>2.981620e+07</td>\n",
       "      <td>2.970976e+07</td>\n",
       "      <td>1.864745e+07</td>\n",
       "    </tr>\n",
       "    <tr>\n",
       "      <th>73</th>\n",
       "      <td>AZE-&gt;GBR</td>\n",
       "      <td>1.446652e+07</td>\n",
       "      <td>1.407403e+07</td>\n",
       "      <td>8.495471e+06</td>\n",
       "    </tr>\n",
       "    <tr>\n",
       "      <th>55</th>\n",
       "      <td>AZE-&gt;DEU</td>\n",
       "      <td>1.255898e+07</td>\n",
       "      <td>1.208749e+07</td>\n",
       "      <td>1.011572e+07</td>\n",
       "    </tr>\n",
       "    <tr>\n",
       "      <th>42</th>\n",
       "      <td>AZE-&gt;CHN</td>\n",
       "      <td>1.285890e+07</td>\n",
       "      <td>9.997663e+06</td>\n",
       "      <td>1.121552e+07</td>\n",
       "    </tr>\n",
       "    <tr>\n",
       "      <th>196</th>\n",
       "      <td>AZE-&gt;UKR</td>\n",
       "      <td>9.167915e+06</td>\n",
       "      <td>8.915899e+06</td>\n",
       "      <td>7.515808e+06</td>\n",
       "    </tr>\n",
       "    <tr>\n",
       "      <th>98</th>\n",
       "      <td>AZE-&gt;ITA</td>\n",
       "      <td>6.731057e+06</td>\n",
       "      <td>6.691392e+06</td>\n",
       "      <td>4.443758e+06</td>\n",
       "    </tr>\n",
       "    <tr>\n",
       "      <th>198</th>\n",
       "      <td>AZE-&gt;USA</td>\n",
       "      <td>6.585655e+06</td>\n",
       "      <td>6.150615e+06</td>\n",
       "      <td>8.311581e+06</td>\n",
       "    </tr>\n",
       "    <tr>\n",
       "      <th>74</th>\n",
       "      <td>AZE-&gt;GEO</td>\n",
       "      <td>5.432699e+06</td>\n",
       "      <td>5.469953e+06</td>\n",
       "      <td>1.250912e+06</td>\n",
       "    </tr>\n",
       "    <tr>\n",
       "      <th>102</th>\n",
       "      <td>AZE-&gt;KAZ</td>\n",
       "      <td>4.139752e+06</td>\n",
       "      <td>3.891301e+06</td>\n",
       "      <td>3.570837e+06</td>\n",
       "    </tr>\n",
       "  </tbody>\n",
       "</table>\n",
       "</div>"
      ],
      "text/plain": [
       "         Flow  tradeflow_baci  tradeflow_imf_o  tradeflow_imf_d\n",
       "161  AZE->RUS    3.025838e+07     3.278231e+07     2.471699e+07\n",
       "191  AZE->TUR    2.981620e+07     2.970976e+07     1.864745e+07\n",
       "73   AZE->GBR    1.446652e+07     1.407403e+07     8.495471e+06\n",
       "55   AZE->DEU    1.255898e+07     1.208749e+07     1.011572e+07\n",
       "42   AZE->CHN    1.285890e+07     9.997663e+06     1.121552e+07\n",
       "196  AZE->UKR    9.167915e+06     8.915899e+06     7.515808e+06\n",
       "98   AZE->ITA    6.731057e+06     6.691392e+06     4.443758e+06\n",
       "198  AZE->USA    6.585655e+06     6.150615e+06     8.311581e+06\n",
       "74   AZE->GEO    5.432699e+06     5.469953e+06     1.250912e+06\n",
       "102  AZE->KAZ    4.139752e+06     3.891301e+06     3.570837e+06"
      ]
     },
     "execution_count": 62,
     "metadata": {},
     "output_type": "execute_result"
    }
   ],
   "source": [
    "df_aze = (\n",
    "    df_simplified[df_simplified['Flow'].str.startswith('AZE->')]\n",
    "    .sort_values(by='tradeflow_imf_o', ascending=False)\n",
    ")\n",
    "\n",
    "df_aze.head(10)"
   ]
  },
  {
   "cell_type": "code",
   "execution_count": 67,
   "metadata": {},
   "outputs": [
    {
     "data": {
      "text/html": [
       "<div>\n",
       "<style scoped>\n",
       "    .dataframe tbody tr th:only-of-type {\n",
       "        vertical-align: middle;\n",
       "    }\n",
       "\n",
       "    .dataframe tbody tr th {\n",
       "        vertical-align: top;\n",
       "    }\n",
       "\n",
       "    .dataframe thead th {\n",
       "        text-align: right;\n",
       "    }\n",
       "</style>\n",
       "<table border=\"1\" class=\"dataframe\">\n",
       "  <thead>\n",
       "    <tr style=\"text-align: right;\">\n",
       "      <th></th>\n",
       "      <th>Flow</th>\n",
       "      <th>tradeflow_baci</th>\n",
       "      <th>tradeflow_imf_o</th>\n",
       "      <th>tradeflow_imf_d</th>\n",
       "    </tr>\n",
       "  </thead>\n",
       "  <tbody>\n",
       "    <tr>\n",
       "      <th>283</th>\n",
       "      <td>ITA-&gt;AZE</td>\n",
       "      <td>9.535525e+07</td>\n",
       "      <td>9.460031e+07</td>\n",
       "      <td>9.491047e+07</td>\n",
       "    </tr>\n",
       "    <tr>\n",
       "      <th>242</th>\n",
       "      <td>DEU-&gt;AZE</td>\n",
       "      <td>1.365510e+07</td>\n",
       "      <td>9.463073e+06</td>\n",
       "      <td>2.981451e+07</td>\n",
       "    </tr>\n",
       "    <tr>\n",
       "      <th>255</th>\n",
       "      <td>FRA-&gt;AZE</td>\n",
       "      <td>1.898008e+07</td>\n",
       "      <td>1.873932e+07</td>\n",
       "      <td>2.577318e+07</td>\n",
       "    </tr>\n",
       "    <tr>\n",
       "      <th>161</th>\n",
       "      <td>AZE-&gt;RUS</td>\n",
       "      <td>3.025838e+07</td>\n",
       "      <td>3.278231e+07</td>\n",
       "      <td>2.471699e+07</td>\n",
       "    </tr>\n",
       "    <tr>\n",
       "      <th>241</th>\n",
       "      <td>CZE-&gt;AZE</td>\n",
       "      <td>1.112013e+07</td>\n",
       "      <td>4.662000e+06</td>\n",
       "      <td>1.891758e+07</td>\n",
       "    </tr>\n",
       "    <tr>\n",
       "      <th>191</th>\n",
       "      <td>AZE-&gt;TUR</td>\n",
       "      <td>2.981620e+07</td>\n",
       "      <td>2.970976e+07</td>\n",
       "      <td>1.864745e+07</td>\n",
       "    </tr>\n",
       "    <tr>\n",
       "      <th>375</th>\n",
       "      <td>USA-&gt;AZE</td>\n",
       "      <td>1.657870e+07</td>\n",
       "      <td>1.653319e+07</td>\n",
       "      <td>1.852974e+07</td>\n",
       "    </tr>\n",
       "    <tr>\n",
       "      <th>276</th>\n",
       "      <td>IDN-&gt;AZE</td>\n",
       "      <td>1.248503e+07</td>\n",
       "      <td>1.245250e+07</td>\n",
       "      <td>1.185299e+07</td>\n",
       "    </tr>\n",
       "    <tr>\n",
       "      <th>42</th>\n",
       "      <td>AZE-&gt;CHN</td>\n",
       "      <td>1.285890e+07</td>\n",
       "      <td>9.997663e+06</td>\n",
       "      <td>1.121552e+07</td>\n",
       "    </tr>\n",
       "    <tr>\n",
       "      <th>55</th>\n",
       "      <td>AZE-&gt;DEU</td>\n",
       "      <td>1.255898e+07</td>\n",
       "      <td>1.208749e+07</td>\n",
       "      <td>1.011572e+07</td>\n",
       "    </tr>\n",
       "  </tbody>\n",
       "</table>\n",
       "</div>"
      ],
      "text/plain": [
       "         Flow  tradeflow_baci  tradeflow_imf_o  tradeflow_imf_d\n",
       "283  ITA->AZE    9.535525e+07     9.460031e+07     9.491047e+07\n",
       "242  DEU->AZE    1.365510e+07     9.463073e+06     2.981451e+07\n",
       "255  FRA->AZE    1.898008e+07     1.873932e+07     2.577318e+07\n",
       "161  AZE->RUS    3.025838e+07     3.278231e+07     2.471699e+07\n",
       "241  CZE->AZE    1.112013e+07     4.662000e+06     1.891758e+07\n",
       "191  AZE->TUR    2.981620e+07     2.970976e+07     1.864745e+07\n",
       "375  USA->AZE    1.657870e+07     1.653319e+07     1.852974e+07\n",
       "276  IDN->AZE    1.248503e+07     1.245250e+07     1.185299e+07\n",
       "42   AZE->CHN    1.285890e+07     9.997663e+06     1.121552e+07\n",
       "55   AZE->DEU    1.255898e+07     1.208749e+07     1.011572e+07"
      ]
     },
     "execution_count": 67,
     "metadata": {},
     "output_type": "execute_result"
    }
   ],
   "source": [
    "df_simplified_sorted = df_simplified.sort_values(by='tradeflow_imf_d', ascending=False)\n",
    "\n",
    "df_simplified_sorted.head(10)"
   ]
  },
  {
   "cell_type": "markdown",
   "metadata": {},
   "source": [
    "#  Free Trade Agreement (FTA) \n",
    "- Information on the countries that have signed the Free Trade Agreement with the Government of the Republic of Azerbaijan\n",
    "Source:\n",
    "\n",
    "https://customs.gov.az/en/sahibkarlar-ucun/serbestticaret\n",
    "\n",
    "| №  | Country                 | ISO Code |\n",
    "|----|-------------------------|----------|\n",
    "| 1  | Russian Federation      | RUS      |\n",
    "| 2  | Republic of Moldova     | MDA      |\n",
    "| 3  | Republic of Ukraine     | UKR      |\n",
    "| 4  | Georgia                 | GEO      |\n",
    "| 5  | Republic of Turkmenistan| TKM      |\n",
    "| 6  | Republic of Uzbekistan  | UZB      |\n",
    "| 7  | Republic of Kazakhstan  | KAZ      |\n",
    "| 8  | Kyrgyz Republic         | KGZ      |\n",
    "| 9  | Republic of Belarus     | BLR      |\n",
    "| 10 | Republic of Tajikistan  | TJK      |\n",
    "\n",
    "\n",
    "FTA_AZE=['RUS', 'MDA', 'UKR', 'GEO', 'TKM', 'UZB', 'KAZ', 'KGZ', 'BLR', 'TJK']\n"
   ]
  },
  {
   "cell_type": "code",
   "execution_count": 92,
   "metadata": {},
   "outputs": [
    {
     "data": {
      "text/html": [
       "<div>\n",
       "<style scoped>\n",
       "    .dataframe tbody tr th:only-of-type {\n",
       "        vertical-align: middle;\n",
       "    }\n",
       "\n",
       "    .dataframe tbody tr th {\n",
       "        vertical-align: top;\n",
       "    }\n",
       "\n",
       "    .dataframe thead th {\n",
       "        text-align: right;\n",
       "    }\n",
       "</style>\n",
       "<table border=\"1\" class=\"dataframe\">\n",
       "  <thead>\n",
       "    <tr style=\"text-align: right;\">\n",
       "      <th></th>\n",
       "      <th>year</th>\n",
       "      <th>iso3_d</th>\n",
       "      <th>iso3_o</th>\n",
       "      <th>tradeflow_baci</th>\n",
       "      <th>tradeflow_imf_o</th>\n",
       "      <th>tradeflow_imf_d</th>\n",
       "      <th>gdp_d</th>\n",
       "      <th>gdp_o</th>\n",
       "    </tr>\n",
       "  </thead>\n",
       "  <tbody>\n",
       "    <tr>\n",
       "      <th>281696</th>\n",
       "      <td>2000</td>\n",
       "      <td>BLR</td>\n",
       "      <td>AZE</td>\n",
       "      <td>4201.355</td>\n",
       "      <td>1221.799</td>\n",
       "      <td>6735.201</td>\n",
       "      <td>1.273686e+07</td>\n",
       "      <td>5.272617e+06</td>\n",
       "    </tr>\n",
       "    <tr>\n",
       "      <th>281697</th>\n",
       "      <td>2001</td>\n",
       "      <td>BLR</td>\n",
       "      <td>AZE</td>\n",
       "      <td>3106.718</td>\n",
       "      <td>1028.599</td>\n",
       "      <td>3495.399</td>\n",
       "      <td>1.235482e+07</td>\n",
       "      <td>5.707618e+06</td>\n",
       "    </tr>\n",
       "    <tr>\n",
       "      <th>281698</th>\n",
       "      <td>2002</td>\n",
       "      <td>BLR</td>\n",
       "      <td>AZE</td>\n",
       "      <td>1276.440</td>\n",
       "      <td>914.200</td>\n",
       "      <td>2221.903</td>\n",
       "      <td>1.459493e+07</td>\n",
       "      <td>6.236025e+06</td>\n",
       "    </tr>\n",
       "    <tr>\n",
       "      <th>281699</th>\n",
       "      <td>2003</td>\n",
       "      <td>BLR</td>\n",
       "      <td>AZE</td>\n",
       "      <td>1931.195</td>\n",
       "      <td>954.101</td>\n",
       "      <td>1720.401</td>\n",
       "      <td>1.782544e+07</td>\n",
       "      <td>7.275766e+06</td>\n",
       "    </tr>\n",
       "    <tr>\n",
       "      <th>281700</th>\n",
       "      <td>2004</td>\n",
       "      <td>BLR</td>\n",
       "      <td>AZE</td>\n",
       "      <td>1206.968</td>\n",
       "      <td>789.300</td>\n",
       "      <td>1214.800</td>\n",
       "      <td>2.314159e+07</td>\n",
       "      <td>8.680511e+06</td>\n",
       "    </tr>\n",
       "    <tr>\n",
       "      <th>281701</th>\n",
       "      <td>2005</td>\n",
       "      <td>BLR</td>\n",
       "      <td>AZE</td>\n",
       "      <td>1651.800</td>\n",
       "      <td>1174.799</td>\n",
       "      <td>1952.099</td>\n",
       "      <td>3.021009e+07</td>\n",
       "      <td>1.324542e+07</td>\n",
       "    </tr>\n",
       "    <tr>\n",
       "      <th>281702</th>\n",
       "      <td>2006</td>\n",
       "      <td>BLR</td>\n",
       "      <td>AZE</td>\n",
       "      <td>1540.093</td>\n",
       "      <td>1471.099</td>\n",
       "      <td>2722.198</td>\n",
       "      <td>3.696192e+07</td>\n",
       "      <td>2.098227e+07</td>\n",
       "    </tr>\n",
       "    <tr>\n",
       "      <th>281703</th>\n",
       "      <td>2007</td>\n",
       "      <td>BLR</td>\n",
       "      <td>AZE</td>\n",
       "      <td>2974.320</td>\n",
       "      <td>2324.300</td>\n",
       "      <td>3261.600</td>\n",
       "      <td>4.527571e+07</td>\n",
       "      <td>3.305034e+07</td>\n",
       "    </tr>\n",
       "    <tr>\n",
       "      <th>281704</th>\n",
       "      <td>2008</td>\n",
       "      <td>BLR</td>\n",
       "      <td>AZE</td>\n",
       "      <td>5498.440</td>\n",
       "      <td>5204.801</td>\n",
       "      <td>6226.502</td>\n",
       "      <td>6.076348e+07</td>\n",
       "      <td>4.885248e+07</td>\n",
       "    </tr>\n",
       "    <tr>\n",
       "      <th>281705</th>\n",
       "      <td>2009</td>\n",
       "      <td>BLR</td>\n",
       "      <td>AZE</td>\n",
       "      <td>5600.686</td>\n",
       "      <td>5170.199</td>\n",
       "      <td>4287.799</td>\n",
       "      <td>4.920866e+07</td>\n",
       "      <td>4.429149e+07</td>\n",
       "    </tr>\n",
       "  </tbody>\n",
       "</table>\n",
       "</div>"
      ],
      "text/plain": [
       "        year iso3_d iso3_o  tradeflow_baci  tradeflow_imf_o  tradeflow_imf_d  \\\n",
       "281696  2000    BLR    AZE        4201.355         1221.799         6735.201   \n",
       "281697  2001    BLR    AZE        3106.718         1028.599         3495.399   \n",
       "281698  2002    BLR    AZE        1276.440          914.200         2221.903   \n",
       "281699  2003    BLR    AZE        1931.195          954.101         1720.401   \n",
       "281700  2004    BLR    AZE        1206.968          789.300         1214.800   \n",
       "281701  2005    BLR    AZE        1651.800         1174.799         1952.099   \n",
       "281702  2006    BLR    AZE        1540.093         1471.099         2722.198   \n",
       "281703  2007    BLR    AZE        2974.320         2324.300         3261.600   \n",
       "281704  2008    BLR    AZE        5498.440         5204.801         6226.502   \n",
       "281705  2009    BLR    AZE        5600.686         5170.199         4287.799   \n",
       "\n",
       "               gdp_d         gdp_o  \n",
       "281696  1.273686e+07  5.272617e+06  \n",
       "281697  1.235482e+07  5.707618e+06  \n",
       "281698  1.459493e+07  6.236025e+06  \n",
       "281699  1.782544e+07  7.275766e+06  \n",
       "281700  2.314159e+07  8.680511e+06  \n",
       "281701  3.021009e+07  1.324542e+07  \n",
       "281702  3.696192e+07  2.098227e+07  \n",
       "281703  4.527571e+07  3.305034e+07  \n",
       "281704  6.076348e+07  4.885248e+07  \n",
       "281705  4.920866e+07  4.429149e+07  "
      ]
     },
     "execution_count": 92,
     "metadata": {},
     "output_type": "execute_result"
    }
   ],
   "source": [
    "FTA_AZE = ['RUS', 'MDA', 'UKR', 'GEO', 'TKM', 'UZB', 'KAZ', 'KGZ', 'BLR', 'TJK']\n",
    "\n",
    "fta_aze_data = filtered_data_custom[\n",
    "    (filtered_data_custom['iso3_d'].isin(FTA_AZE)) | \n",
    "    (filtered_data_custom['iso3_o'].isin(FTA_AZE))\n",
    "]\n",
    "\n",
    "fta_aze_data.head(10)\n"
   ]
  },
  {
   "cell_type": "code",
   "execution_count": 95,
   "metadata": {},
   "outputs": [
    {
     "data": {
      "application/vnd.plotly.v1+json": {
       "config": {
        "plotlyServerURL": "https://plot.ly"
       },
       "data": [
        {
         "domain": {
          "x": [
           0,
           1
          ],
          "y": [
           0,
           1
          ]
         },
         "hovertemplate": "Partner=%{label}<br>tradeflow_baci=%{value}<extra></extra>",
         "labels": [
          "RUS",
          "RUS",
          "UKR",
          "GEO",
          "GEO",
          "UKR",
          "KAZ",
          "BLR",
          "TKM",
          "KAZ"
         ],
         "legendgroup": "",
         "name": "",
         "pull": [
          0.05,
          0.05,
          0.05,
          0.05,
          0.05,
          0.05,
          0.05,
          0.05,
          0.05,
          0.05
         ],
         "showlegend": true,
         "textinfo": "percent",
         "type": "pie",
         "values": [
          30258384.295,
          11265055.92,
          9167915.28,
          8326378.390000001,
          5432698.838,
          4366655.254,
          4139751.941,
          2121513.776,
          1836050.566,
          1334860.246
         ]
        }
       ],
       "layout": {
        "legend": {
         "tracegroupgap": 0
        },
        "template": {
         "data": {
          "bar": [
           {
            "error_x": {
             "color": "#2a3f5f"
            },
            "error_y": {
             "color": "#2a3f5f"
            },
            "marker": {
             "line": {
              "color": "#E5ECF6",
              "width": 0.5
             },
             "pattern": {
              "fillmode": "overlay",
              "size": 10,
              "solidity": 0.2
             }
            },
            "type": "bar"
           }
          ],
          "barpolar": [
           {
            "marker": {
             "line": {
              "color": "#E5ECF6",
              "width": 0.5
             },
             "pattern": {
              "fillmode": "overlay",
              "size": 10,
              "solidity": 0.2
             }
            },
            "type": "barpolar"
           }
          ],
          "carpet": [
           {
            "aaxis": {
             "endlinecolor": "#2a3f5f",
             "gridcolor": "white",
             "linecolor": "white",
             "minorgridcolor": "white",
             "startlinecolor": "#2a3f5f"
            },
            "baxis": {
             "endlinecolor": "#2a3f5f",
             "gridcolor": "white",
             "linecolor": "white",
             "minorgridcolor": "white",
             "startlinecolor": "#2a3f5f"
            },
            "type": "carpet"
           }
          ],
          "choropleth": [
           {
            "colorbar": {
             "outlinewidth": 0,
             "ticks": ""
            },
            "type": "choropleth"
           }
          ],
          "contour": [
           {
            "colorbar": {
             "outlinewidth": 0,
             "ticks": ""
            },
            "colorscale": [
             [
              0,
              "#0d0887"
             ],
             [
              0.1111111111111111,
              "#46039f"
             ],
             [
              0.2222222222222222,
              "#7201a8"
             ],
             [
              0.3333333333333333,
              "#9c179e"
             ],
             [
              0.4444444444444444,
              "#bd3786"
             ],
             [
              0.5555555555555556,
              "#d8576b"
             ],
             [
              0.6666666666666666,
              "#ed7953"
             ],
             [
              0.7777777777777778,
              "#fb9f3a"
             ],
             [
              0.8888888888888888,
              "#fdca26"
             ],
             [
              1,
              "#f0f921"
             ]
            ],
            "type": "contour"
           }
          ],
          "contourcarpet": [
           {
            "colorbar": {
             "outlinewidth": 0,
             "ticks": ""
            },
            "type": "contourcarpet"
           }
          ],
          "heatmap": [
           {
            "colorbar": {
             "outlinewidth": 0,
             "ticks": ""
            },
            "colorscale": [
             [
              0,
              "#0d0887"
             ],
             [
              0.1111111111111111,
              "#46039f"
             ],
             [
              0.2222222222222222,
              "#7201a8"
             ],
             [
              0.3333333333333333,
              "#9c179e"
             ],
             [
              0.4444444444444444,
              "#bd3786"
             ],
             [
              0.5555555555555556,
              "#d8576b"
             ],
             [
              0.6666666666666666,
              "#ed7953"
             ],
             [
              0.7777777777777778,
              "#fb9f3a"
             ],
             [
              0.8888888888888888,
              "#fdca26"
             ],
             [
              1,
              "#f0f921"
             ]
            ],
            "type": "heatmap"
           }
          ],
          "heatmapgl": [
           {
            "colorbar": {
             "outlinewidth": 0,
             "ticks": ""
            },
            "colorscale": [
             [
              0,
              "#0d0887"
             ],
             [
              0.1111111111111111,
              "#46039f"
             ],
             [
              0.2222222222222222,
              "#7201a8"
             ],
             [
              0.3333333333333333,
              "#9c179e"
             ],
             [
              0.4444444444444444,
              "#bd3786"
             ],
             [
              0.5555555555555556,
              "#d8576b"
             ],
             [
              0.6666666666666666,
              "#ed7953"
             ],
             [
              0.7777777777777778,
              "#fb9f3a"
             ],
             [
              0.8888888888888888,
              "#fdca26"
             ],
             [
              1,
              "#f0f921"
             ]
            ],
            "type": "heatmapgl"
           }
          ],
          "histogram": [
           {
            "marker": {
             "pattern": {
              "fillmode": "overlay",
              "size": 10,
              "solidity": 0.2
             }
            },
            "type": "histogram"
           }
          ],
          "histogram2d": [
           {
            "colorbar": {
             "outlinewidth": 0,
             "ticks": ""
            },
            "colorscale": [
             [
              0,
              "#0d0887"
             ],
             [
              0.1111111111111111,
              "#46039f"
             ],
             [
              0.2222222222222222,
              "#7201a8"
             ],
             [
              0.3333333333333333,
              "#9c179e"
             ],
             [
              0.4444444444444444,
              "#bd3786"
             ],
             [
              0.5555555555555556,
              "#d8576b"
             ],
             [
              0.6666666666666666,
              "#ed7953"
             ],
             [
              0.7777777777777778,
              "#fb9f3a"
             ],
             [
              0.8888888888888888,
              "#fdca26"
             ],
             [
              1,
              "#f0f921"
             ]
            ],
            "type": "histogram2d"
           }
          ],
          "histogram2dcontour": [
           {
            "colorbar": {
             "outlinewidth": 0,
             "ticks": ""
            },
            "colorscale": [
             [
              0,
              "#0d0887"
             ],
             [
              0.1111111111111111,
              "#46039f"
             ],
             [
              0.2222222222222222,
              "#7201a8"
             ],
             [
              0.3333333333333333,
              "#9c179e"
             ],
             [
              0.4444444444444444,
              "#bd3786"
             ],
             [
              0.5555555555555556,
              "#d8576b"
             ],
             [
              0.6666666666666666,
              "#ed7953"
             ],
             [
              0.7777777777777778,
              "#fb9f3a"
             ],
             [
              0.8888888888888888,
              "#fdca26"
             ],
             [
              1,
              "#f0f921"
             ]
            ],
            "type": "histogram2dcontour"
           }
          ],
          "mesh3d": [
           {
            "colorbar": {
             "outlinewidth": 0,
             "ticks": ""
            },
            "type": "mesh3d"
           }
          ],
          "parcoords": [
           {
            "line": {
             "colorbar": {
              "outlinewidth": 0,
              "ticks": ""
             }
            },
            "type": "parcoords"
           }
          ],
          "pie": [
           {
            "automargin": true,
            "type": "pie"
           }
          ],
          "scatter": [
           {
            "fillpattern": {
             "fillmode": "overlay",
             "size": 10,
             "solidity": 0.2
            },
            "type": "scatter"
           }
          ],
          "scatter3d": [
           {
            "line": {
             "colorbar": {
              "outlinewidth": 0,
              "ticks": ""
             }
            },
            "marker": {
             "colorbar": {
              "outlinewidth": 0,
              "ticks": ""
             }
            },
            "type": "scatter3d"
           }
          ],
          "scattercarpet": [
           {
            "marker": {
             "colorbar": {
              "outlinewidth": 0,
              "ticks": ""
             }
            },
            "type": "scattercarpet"
           }
          ],
          "scattergeo": [
           {
            "marker": {
             "colorbar": {
              "outlinewidth": 0,
              "ticks": ""
             }
            },
            "type": "scattergeo"
           }
          ],
          "scattergl": [
           {
            "marker": {
             "colorbar": {
              "outlinewidth": 0,
              "ticks": ""
             }
            },
            "type": "scattergl"
           }
          ],
          "scattermapbox": [
           {
            "marker": {
             "colorbar": {
              "outlinewidth": 0,
              "ticks": ""
             }
            },
            "type": "scattermapbox"
           }
          ],
          "scatterpolar": [
           {
            "marker": {
             "colorbar": {
              "outlinewidth": 0,
              "ticks": ""
             }
            },
            "type": "scatterpolar"
           }
          ],
          "scatterpolargl": [
           {
            "marker": {
             "colorbar": {
              "outlinewidth": 0,
              "ticks": ""
             }
            },
            "type": "scatterpolargl"
           }
          ],
          "scatterternary": [
           {
            "marker": {
             "colorbar": {
              "outlinewidth": 0,
              "ticks": ""
             }
            },
            "type": "scatterternary"
           }
          ],
          "surface": [
           {
            "colorbar": {
             "outlinewidth": 0,
             "ticks": ""
            },
            "colorscale": [
             [
              0,
              "#0d0887"
             ],
             [
              0.1111111111111111,
              "#46039f"
             ],
             [
              0.2222222222222222,
              "#7201a8"
             ],
             [
              0.3333333333333333,
              "#9c179e"
             ],
             [
              0.4444444444444444,
              "#bd3786"
             ],
             [
              0.5555555555555556,
              "#d8576b"
             ],
             [
              0.6666666666666666,
              "#ed7953"
             ],
             [
              0.7777777777777778,
              "#fb9f3a"
             ],
             [
              0.8888888888888888,
              "#fdca26"
             ],
             [
              1,
              "#f0f921"
             ]
            ],
            "type": "surface"
           }
          ],
          "table": [
           {
            "cells": {
             "fill": {
              "color": "#EBF0F8"
             },
             "line": {
              "color": "white"
             }
            },
            "header": {
             "fill": {
              "color": "#C8D4E3"
             },
             "line": {
              "color": "white"
             }
            },
            "type": "table"
           }
          ]
         },
         "layout": {
          "annotationdefaults": {
           "arrowcolor": "#2a3f5f",
           "arrowhead": 0,
           "arrowwidth": 1
          },
          "autotypenumbers": "strict",
          "coloraxis": {
           "colorbar": {
            "outlinewidth": 0,
            "ticks": ""
           }
          },
          "colorscale": {
           "diverging": [
            [
             0,
             "#8e0152"
            ],
            [
             0.1,
             "#c51b7d"
            ],
            [
             0.2,
             "#de77ae"
            ],
            [
             0.3,
             "#f1b6da"
            ],
            [
             0.4,
             "#fde0ef"
            ],
            [
             0.5,
             "#f7f7f7"
            ],
            [
             0.6,
             "#e6f5d0"
            ],
            [
             0.7,
             "#b8e186"
            ],
            [
             0.8,
             "#7fbc41"
            ],
            [
             0.9,
             "#4d9221"
            ],
            [
             1,
             "#276419"
            ]
           ],
           "sequential": [
            [
             0,
             "#0d0887"
            ],
            [
             0.1111111111111111,
             "#46039f"
            ],
            [
             0.2222222222222222,
             "#7201a8"
            ],
            [
             0.3333333333333333,
             "#9c179e"
            ],
            [
             0.4444444444444444,
             "#bd3786"
            ],
            [
             0.5555555555555556,
             "#d8576b"
            ],
            [
             0.6666666666666666,
             "#ed7953"
            ],
            [
             0.7777777777777778,
             "#fb9f3a"
            ],
            [
             0.8888888888888888,
             "#fdca26"
            ],
            [
             1,
             "#f0f921"
            ]
           ],
           "sequentialminus": [
            [
             0,
             "#0d0887"
            ],
            [
             0.1111111111111111,
             "#46039f"
            ],
            [
             0.2222222222222222,
             "#7201a8"
            ],
            [
             0.3333333333333333,
             "#9c179e"
            ],
            [
             0.4444444444444444,
             "#bd3786"
            ],
            [
             0.5555555555555556,
             "#d8576b"
            ],
            [
             0.6666666666666666,
             "#ed7953"
            ],
            [
             0.7777777777777778,
             "#fb9f3a"
            ],
            [
             0.8888888888888888,
             "#fdca26"
            ],
            [
             1,
             "#f0f921"
            ]
           ]
          },
          "colorway": [
           "#636efa",
           "#EF553B",
           "#00cc96",
           "#ab63fa",
           "#FFA15A",
           "#19d3f3",
           "#FF6692",
           "#B6E880",
           "#FF97FF",
           "#FECB52"
          ],
          "font": {
           "color": "#2a3f5f"
          },
          "geo": {
           "bgcolor": "white",
           "lakecolor": "white",
           "landcolor": "#E5ECF6",
           "showlakes": true,
           "showland": true,
           "subunitcolor": "white"
          },
          "hoverlabel": {
           "align": "left"
          },
          "hovermode": "closest",
          "mapbox": {
           "style": "light"
          },
          "paper_bgcolor": "white",
          "plot_bgcolor": "#E5ECF6",
          "polar": {
           "angularaxis": {
            "gridcolor": "white",
            "linecolor": "white",
            "ticks": ""
           },
           "bgcolor": "#E5ECF6",
           "radialaxis": {
            "gridcolor": "white",
            "linecolor": "white",
            "ticks": ""
           }
          },
          "scene": {
           "xaxis": {
            "backgroundcolor": "#E5ECF6",
            "gridcolor": "white",
            "gridwidth": 2,
            "linecolor": "white",
            "showbackground": true,
            "ticks": "",
            "zerolinecolor": "white"
           },
           "yaxis": {
            "backgroundcolor": "#E5ECF6",
            "gridcolor": "white",
            "gridwidth": 2,
            "linecolor": "white",
            "showbackground": true,
            "ticks": "",
            "zerolinecolor": "white"
           },
           "zaxis": {
            "backgroundcolor": "#E5ECF6",
            "gridcolor": "white",
            "gridwidth": 2,
            "linecolor": "white",
            "showbackground": true,
            "ticks": "",
            "zerolinecolor": "white"
           }
          },
          "shapedefaults": {
           "line": {
            "color": "#2a3f5f"
           }
          },
          "ternary": {
           "aaxis": {
            "gridcolor": "white",
            "linecolor": "white",
            "ticks": ""
           },
           "baxis": {
            "gridcolor": "white",
            "linecolor": "white",
            "ticks": ""
           },
           "bgcolor": "#E5ECF6",
           "caxis": {
            "gridcolor": "white",
            "linecolor": "white",
            "ticks": ""
           }
          },
          "title": {
           "x": 0.05
          },
          "xaxis": {
           "automargin": true,
           "gridcolor": "white",
           "linecolor": "white",
           "ticks": "",
           "title": {
            "standoff": 15
           },
           "zerolinecolor": "white",
           "zerolinewidth": 2
          },
          "yaxis": {
           "automargin": true,
           "gridcolor": "white",
           "linecolor": "white",
           "ticks": "",
           "title": {
            "standoff": 15
           },
           "zerolinecolor": "white",
           "zerolinewidth": 2
          }
         }
        },
        "title": {
         "text": "Top 10 FTA_AZE Trading Partners by 'tradeflow baci' for 2000 till 2020"
        }
       }
      }
     },
     "metadata": {},
     "output_type": "display_data"
    }
   ],
   "source": [
    "FTA_AZE = ['RUS', 'MDA', 'UKR', 'GEO', 'TKM', 'UZB', 'KAZ', 'KGZ', 'BLR', 'TJK']\n",
    "\n",
    "df_simplified_fta_aze = df_simplified_aze[df_simplified_aze['Partner'].isin(FTA_AZE)]\n",
    "\n",
    "df_simplified_fta_aze_top10 = df_simplified_fta_aze.head(10).copy()\n",
    "\n",
    "fig_fta_aze = px.pie(\n",
    "    df_simplified_fta_aze_top10,\n",
    "    values='tradeflow_baci',\n",
    "    names='Partner',\n",
    "    title=\"Top 10 FTA_AZE Trading Partners by 'tradeflow baci' for 2000 till 2020\",\n",
    ")\n",
    "\n",
    "fig_fta_aze.update_traces(\n",
    "    pull=[0.05]*len(df_simplified_fta_aze_top10),\n",
    "    textinfo='percent'\n",
    ")\n",
    "\n",
    "fig_fta_aze.show()"
   ]
  },
  {
   "cell_type": "markdown",
   "metadata": {},
   "source": [
    "Below is the list of countries represents there was almost no direct trade within 20 years (2000-2020)\n",
    "\n",
    "1. **AGO** - Angola  \n",
    "2. **AIA** - Anguilla  \n",
    "3. **ALB** - Albania  \n",
    "4. **ARM** - Armenia  \n",
    "5. **ZWE** - Zimbabwe \n",
    "6. **BIH** - Bosnia and Herzegovina  \n",
    "7. **BMU** - Bermuda  \n",
    "8. **CAF** - Central African Republic  \n",
    "9. **COD** - Democratic Republic of the Congo  \n",
    "10. **COG** - Republic of the Congo  \n",
    "11. **DOM** - Dominican Republic  \n",
    "12. **ECU** - Ecuador  \n",
    "13. **FJI** - Fiji  \n",
    "14. **FRO** - Faroe Islands  \n",
    "15. **GAB** - Gabon  \n",
    "16. **GHA** - Ghana  \n",
    "17. **GIN** - Guinea  \n",
    "18. **GNB** - Guinea-Bissau  \n",
    "19. **GRL** - Greenland  \n",
    "20. **HND** - Honduras  \n",
    "21. **ISL** - Iceland  \n",
    "22. **KEN** - Kenya  \n",
    "23. **KIR** - Kiribati  \n",
    "24. **KNA** - Saint Kitts and Nevis  \n",
    "25. **KWT** - Kuwait  \n",
    "26. **LBR** - Liberia  \n",
    "27. **MDG** - Madagascar  \n",
    "28. **MLI** - Mali  \n",
    "29. **MMR** - Myanmar  \n",
    "30. **MNG** - Mongolia  \n",
    "31. **NCL** - New Caledonia  \n",
    "32. **NIC** - Nicaragua  \n",
    "33. **PAN** - Panama  \n",
    "34. **PER** - Peru  \n",
    "35. **PRK** - North Korea (Democratic People's Republic of Korea)  \n",
    "36. **RWA** - Rwanda  \n",
    "37. **SCG** - Serbia and Montenegro (obsolete, now separate as Serbia and Montenegro)  \n",
    "38. **STP** - São Tomé and Príncipe  \n",
    "39. **SUR** - Suriname  \n",
    "40. **SYC** - Seychelles  \n",
    "41. **TGO** - Togo  \n",
    "42. **TZA** - Tanzania  \n",
    "43. **UGA** - Uganda  \n",
    "44. **VCT** - Saint Vincent and the Grenadines  \n",
    "45. **VEN** - Venezuela  \n",
    "46. **VUT** - Vanuatu  \n",
    "47. **YEM** - Yemen  \n",
    "48. **ZMB** - Zambia  \n",
    " "
   ]
  },
  {
   "cell_type": "code",
   "execution_count": null,
   "metadata": {},
   "outputs": [
    {
     "ename": "KeyError",
     "evalue": "\"['rta'] not in index\"",
     "output_type": "error",
     "traceback": [
      "\u001b[0;31m---------------------------------------------------------------------------\u001b[0m",
      "\u001b[0;31mKeyError\u001b[0m                                  Traceback (most recent call last)",
      "Cell \u001b[0;32mIn[97], line 65\u001b[0m\n\u001b[1;32m     49\u001b[0m data_subset_model_redesign \u001b[38;5;241m=\u001b[39m gme\u001b[38;5;241m.\u001b[39mEstimationModel(\n\u001b[1;32m     50\u001b[0m     estimation_data \u001b[38;5;241m=\u001b[39m gme_data,\n\u001b[1;32m     51\u001b[0m     lhs_var \u001b[38;5;241m=\u001b[39m \u001b[38;5;124m'\u001b[39m\u001b[38;5;124mtradeflow_baci\u001b[39m\u001b[38;5;124m'\u001b[39m,\n\u001b[0;32m   (...)\u001b[0m\n\u001b[1;32m     61\u001b[0m     drop_imp_exp \u001b[38;5;241m=\u001b[39m [\u001b[38;5;124m'\u001b[39m\u001b[38;5;124mUSA\u001b[39m\u001b[38;5;124m'\u001b[39m, \u001b[38;5;124m'\u001b[39m\u001b[38;5;124mCHN\u001b[39m\u001b[38;5;124m'\u001b[39m]          \u001b[38;5;66;03m# Drop observations where importer or exporter is USA or CHN\u001b[39;00m\n\u001b[1;32m     62\u001b[0m )\n\u001b[1;32m     64\u001b[0m \u001b[38;5;66;03m# Optionally: estimate each model\u001b[39;00m\n\u001b[0;32m---> 65\u001b[0m model_baseline_redesign\u001b[38;5;241m.\u001b[39mestimate()\n\u001b[1;32m     66\u001b[0m fixed_effects_model_redesign\u001b[38;5;241m.\u001b[39mestimate()\n\u001b[1;32m     67\u001b[0m data_subset_model_redesign\u001b[38;5;241m.\u001b[39mestimate()\n",
      "File \u001b[0;32m~/anaconda3/lib/python3.11/site-packages/gme/estimate/EstimationModel.py:271\u001b[0m, in \u001b[0;36mEstimationModel.estimate\u001b[0;34m(self)\u001b[0m\n\u001b[1;32m    268\u001b[0m \u001b[38;5;28;01mif\u001b[39;00m specification\u001b[38;5;241m.\u001b[39msector_by_sector \u001b[38;5;129;01mis\u001b[39;00m \u001b[38;5;28;01mTrue\u001b[39;00m \u001b[38;5;129;01mand\u001b[39;00m meta_data\u001b[38;5;241m.\u001b[39msector_var_name \u001b[38;5;129;01mis\u001b[39;00m \u001b[38;5;28;01mNone\u001b[39;00m:\n\u001b[1;32m    269\u001b[0m     \u001b[38;5;28;01mraise\u001b[39;00m \u001b[38;5;167;01mValueError\u001b[39;00m(\u001b[38;5;124m'\u001b[39m\u001b[38;5;124msector_var_name must be specified for sector_by_sector option\u001b[39m\u001b[38;5;124m'\u001b[39m)\n\u001b[0;32m--> 271\u001b[0m estimation_data_frame, data_log \u001b[38;5;241m=\u001b[39m _slice_data_for_estimation(data_frame\u001b[38;5;241m=\u001b[39mdata_frame,\n\u001b[1;32m    272\u001b[0m                                                               specification\u001b[38;5;241m=\u001b[39mspecification,\n\u001b[1;32m    273\u001b[0m                                                               meta_data\u001b[38;5;241m=\u001b[39mmeta_data,\n\u001b[1;32m    274\u001b[0m                                                               data_log\u001b[38;5;241m=\u001b[39mdata_log)\n\u001b[1;32m    276\u001b[0m results_dict, ppml_diagnostics, modified_data \\\n\u001b[1;32m    277\u001b[0m     \u001b[38;5;241m=\u001b[39m _estimate_ppml(data_frame\u001b[38;5;241m=\u001b[39mestimation_data_frame,\n\u001b[1;32m    278\u001b[0m                      meta_data\u001b[38;5;241m=\u001b[39mmeta_data,\n\u001b[0;32m   (...)\u001b[0m\n\u001b[1;32m    282\u001b[0m                      cluster\u001b[38;5;241m=\u001b[39mspecification\u001b[38;5;241m.\u001b[39mcluster,\n\u001b[1;32m    283\u001b[0m                      cluster_on\u001b[38;5;241m=\u001b[39mspecification\u001b[38;5;241m.\u001b[39mcluster_on)\n\u001b[1;32m    285\u001b[0m \u001b[38;5;28mself\u001b[39m\u001b[38;5;241m.\u001b[39mppml_diagnostics \u001b[38;5;241m=\u001b[39m ppml_diagnostics\n",
      "File \u001b[0;32m~/anaconda3/lib/python3.11/site-packages/gme/estimate/_slice_data_for_estimation.py:13\u001b[0m, in \u001b[0;36m_slice_data_for_estimation\u001b[0;34m(data_frame, specification, meta_data, data_log)\u001b[0m\n\u001b[1;32m      7\u001b[0m \u001b[38;5;28;01mdef\u001b[39;00m \u001b[38;5;21m_slice_data_for_estimation\u001b[39m(data_frame,\n\u001b[1;32m      8\u001b[0m                                specification,\n\u001b[1;32m      9\u001b[0m                                meta_data,\n\u001b[1;32m     10\u001b[0m                                data_log):\n\u001b[1;32m     11\u001b[0m \n\u001b[1;32m     12\u001b[0m     \u001b[38;5;66;03m# Keep Only Using Variables\u001b[39;00m\n\u001b[0;32m---> 13\u001b[0m     data_frame, data_log \u001b[38;5;241m=\u001b[39m _keep_using_vars(data_frame, specification, meta_data, data_log)\n\u001b[1;32m     15\u001b[0m     \u001b[38;5;66;03m# Drop intra-trade\u001b[39;00m\n\u001b[1;32m     16\u001b[0m     data_frame, data_log \u001b[38;5;241m=\u001b[39m_drop_intra_trade(data_frame, specification, meta_data, data_log)\n",
      "File \u001b[0;32m~/anaconda3/lib/python3.11/site-packages/gme/estimate/_slice_data_for_estimation.py:59\u001b[0m, in \u001b[0;36m_keep_using_vars\u001b[0;34m(data_frame, specification, meta_data, data_log)\u001b[0m\n\u001b[1;32m     57\u001b[0m \u001b[38;5;28;01mif\u001b[39;00m meta_data\u001b[38;5;241m.\u001b[39msector_var_name \u001b[38;5;129;01mis\u001b[39;00m \u001b[38;5;129;01mnot\u001b[39;00m \u001b[38;5;28;01mNone\u001b[39;00m:\n\u001b[1;32m     58\u001b[0m     using_variables \u001b[38;5;241m=\u001b[39m using_variables \u001b[38;5;241m+\u001b[39m [meta_data\u001b[38;5;241m.\u001b[39msector_var_name]\n\u001b[0;32m---> 59\u001b[0m data_frame \u001b[38;5;241m=\u001b[39m data_frame[using_variables]\n\u001b[1;32m     60\u001b[0m post_drop_size \u001b[38;5;241m=\u001b[39m data_frame\u001b[38;5;241m.\u001b[39mshape\n\u001b[1;32m     61\u001b[0m dropped_dims \u001b[38;5;241m=\u001b[39m {\u001b[38;5;124m'\u001b[39m\u001b[38;5;124mrows\u001b[39m\u001b[38;5;124m'\u001b[39m: pre_drop_size[\u001b[38;5;241m0\u001b[39m] \u001b[38;5;241m-\u001b[39m post_drop_size[\u001b[38;5;241m0\u001b[39m], \u001b[38;5;124m'\u001b[39m\u001b[38;5;124mcolumns\u001b[39m\u001b[38;5;124m'\u001b[39m: pre_drop_size[\u001b[38;5;241m1\u001b[39m] \u001b[38;5;241m-\u001b[39m post_drop_size[\u001b[38;5;241m1\u001b[39m]}\n",
      "File \u001b[0;32m~/anaconda3/lib/python3.11/site-packages/pandas/core/frame.py:4108\u001b[0m, in \u001b[0;36mDataFrame.__getitem__\u001b[0;34m(self, key)\u001b[0m\n\u001b[1;32m   4106\u001b[0m     \u001b[38;5;28;01mif\u001b[39;00m is_iterator(key):\n\u001b[1;32m   4107\u001b[0m         key \u001b[38;5;241m=\u001b[39m \u001b[38;5;28mlist\u001b[39m(key)\n\u001b[0;32m-> 4108\u001b[0m     indexer \u001b[38;5;241m=\u001b[39m \u001b[38;5;28mself\u001b[39m\u001b[38;5;241m.\u001b[39mcolumns\u001b[38;5;241m.\u001b[39m_get_indexer_strict(key, \u001b[38;5;124m\"\u001b[39m\u001b[38;5;124mcolumns\u001b[39m\u001b[38;5;124m\"\u001b[39m)[\u001b[38;5;241m1\u001b[39m]\n\u001b[1;32m   4110\u001b[0m \u001b[38;5;66;03m# take() does not accept boolean indexers\u001b[39;00m\n\u001b[1;32m   4111\u001b[0m \u001b[38;5;28;01mif\u001b[39;00m \u001b[38;5;28mgetattr\u001b[39m(indexer, \u001b[38;5;124m\"\u001b[39m\u001b[38;5;124mdtype\u001b[39m\u001b[38;5;124m\"\u001b[39m, \u001b[38;5;28;01mNone\u001b[39;00m) \u001b[38;5;241m==\u001b[39m \u001b[38;5;28mbool\u001b[39m:\n",
      "File \u001b[0;32m~/anaconda3/lib/python3.11/site-packages/pandas/core/indexes/base.py:6200\u001b[0m, in \u001b[0;36mIndex._get_indexer_strict\u001b[0;34m(self, key, axis_name)\u001b[0m\n\u001b[1;32m   6197\u001b[0m \u001b[38;5;28;01melse\u001b[39;00m:\n\u001b[1;32m   6198\u001b[0m     keyarr, indexer, new_indexer \u001b[38;5;241m=\u001b[39m \u001b[38;5;28mself\u001b[39m\u001b[38;5;241m.\u001b[39m_reindex_non_unique(keyarr)\n\u001b[0;32m-> 6200\u001b[0m \u001b[38;5;28mself\u001b[39m\u001b[38;5;241m.\u001b[39m_raise_if_missing(keyarr, indexer, axis_name)\n\u001b[1;32m   6202\u001b[0m keyarr \u001b[38;5;241m=\u001b[39m \u001b[38;5;28mself\u001b[39m\u001b[38;5;241m.\u001b[39mtake(indexer)\n\u001b[1;32m   6203\u001b[0m \u001b[38;5;28;01mif\u001b[39;00m \u001b[38;5;28misinstance\u001b[39m(key, Index):\n\u001b[1;32m   6204\u001b[0m     \u001b[38;5;66;03m# GH 42790 - Preserve name from an Index\u001b[39;00m\n",
      "File \u001b[0;32m~/anaconda3/lib/python3.11/site-packages/pandas/core/indexes/base.py:6252\u001b[0m, in \u001b[0;36mIndex._raise_if_missing\u001b[0;34m(self, key, indexer, axis_name)\u001b[0m\n\u001b[1;32m   6249\u001b[0m     \u001b[38;5;28;01mraise\u001b[39;00m \u001b[38;5;167;01mKeyError\u001b[39;00m(\u001b[38;5;124mf\u001b[39m\u001b[38;5;124m\"\u001b[39m\u001b[38;5;124mNone of [\u001b[39m\u001b[38;5;132;01m{\u001b[39;00mkey\u001b[38;5;132;01m}\u001b[39;00m\u001b[38;5;124m] are in the [\u001b[39m\u001b[38;5;132;01m{\u001b[39;00maxis_name\u001b[38;5;132;01m}\u001b[39;00m\u001b[38;5;124m]\u001b[39m\u001b[38;5;124m\"\u001b[39m)\n\u001b[1;32m   6251\u001b[0m not_found \u001b[38;5;241m=\u001b[39m \u001b[38;5;28mlist\u001b[39m(ensure_index(key)[missing_mask\u001b[38;5;241m.\u001b[39mnonzero()[\u001b[38;5;241m0\u001b[39m]]\u001b[38;5;241m.\u001b[39munique())\n\u001b[0;32m-> 6252\u001b[0m \u001b[38;5;28;01mraise\u001b[39;00m \u001b[38;5;167;01mKeyError\u001b[39;00m(\u001b[38;5;124mf\u001b[39m\u001b[38;5;124m\"\u001b[39m\u001b[38;5;132;01m{\u001b[39;00mnot_found\u001b[38;5;132;01m}\u001b[39;00m\u001b[38;5;124m not in index\u001b[39m\u001b[38;5;124m\"\u001b[39m)\n",
      "\u001b[0;31mKeyError\u001b[0m: \"['rta'] not in index\""
     ]
    }
   ],
   "source": [
    "\n",
    "gravity_data_location = \"/Users/toghruln/Downloads/Gravity_V202211.csv\"\n",
    "grav_data = pd.read_csv(gravity_data_location)\n",
    "print(grav_data.columns)  # Check the column names in the dataset\n",
    "\n",
    "# Ensure necessary columns are included in baseline_data\n",
    "required_columns = [\"year\", \"gdp_o\", \"gdp_d\", \"iso3_o\", \"iso3_d\", \"tradeflow_baci\", \n",
    "                    \"pop_o\", \"pop_d\", \"dist\", \"contig\", \"comlang_off\", \"fta_wto\"]\n",
    "if not all(col in grav_data.columns for col in required_columns):\n",
    "    raise ValueError(f\"The dataset is missing one or more required columns: {required_columns}\")\n",
    "\n",
    "# Fill missing values in critical columns\n",
    "grav_data[required_columns] = grav_data[required_columns].fillna(0)\n",
    "\n",
    "# Check for missing bilateral pairs and fill\n",
    "country_set = set(grav_data[\"iso3_o\"]).union(set(grav_data[\"iso3_d\"]))\n",
    "missing_pairs = [\n",
    "    (exp, imp) for exp in country_set for imp in country_set\n",
    "    if not ((grav_data[\"iso3_o\"] == exp) & (grav_data[\"iso3_d\"] == imp)).any()\n",
    "]\n",
    "for exp, imp in missing_pairs:\n",
    "    grav_data = pd.concat([grav_data, pd.DataFrame([{\n",
    "        \"year\": 2020,  # Default year\n",
    "        \"gdp_o\": 0,\n",
    "        \"gdp_d\": 0,\n",
    "        \"iso3_o\": exp,\n",
    "        \"iso3_d\": imp,\n",
    "        \"tradeflow_baci\": 0,\n",
    "        \"pop_o\": 0,\n",
    "        \"pop_d\": 0,\n",
    "        \"dist\": np.nan,\n",
    "        \"contig\": 0,\n",
    "        \"comlang_off\": 0,\n",
    "        \"fta_wto\": 0\n",
    "    }])])\n",
    "\n",
    "# Fill missing cost variables with defaults\n",
    "grav_data[\"dist\"].fillna(grav_data[\"dist\"].mean(), inplace=True)\n",
    "grav_data[\"contig\"].fillna(0, inplace=True)\n",
    "\n",
    "# Create baseline_data with necessary columns\n",
    "baseline_data = grav_data[required_columns].copy()\n",
    "\n",
    "# Prepare the estimation data\n",
    "gme_data = gme.EstimationData(\n",
    "    grav_data,\n",
    "    exp_var_name=\"iso3_o\",\n",
    "    imp_var_name=\"iso3_d\",\n",
    "    year_var_name=\"year\",\n",
    "    trade_var_name=\"tradeflow_baci\"\n",
    ")\n",
    "\n",
    "# Define and estimate the model\n",
    "gme_model = gme.EstimationModel(\n",
    "    gme_data,\n",
    "    lhs_var=\"tradeflow_baci\",\n",
    "    rhs_var=[\"contig\", \"dist\", \"comlang_off\", \"fta_wto\"],\n",
    "    fixed_effects=[\"iso3_o\", \"iso3_d\"]\n",
    ")\n",
    "gme_model.estimate()\n",
    "print(gme_model.results_dict[\"all\"].summary())\n",
    "\n",
    "# Build a general equilibrium model with corrected baseline type\n",
    "baseline = ge.BaselineData(\n",
    "    baseline_data,\n",
    "    exp_var_name=\"iso3_o\",\n",
    "    imp_var_name=\"iso3_d\",\n",
    "    output_var_name=\"gdp_d\",\n",
    "    year_var_name=\"year\",\n",
    "    trade_var_name=\"tradeflow_baci\"\n",
    ")\n",
    "\n",
    "# Extract cost coefficients in the format required by OneSectorGE\n",
    "cost_coeff_values = gme_model.results_dict[\"all\"]\n",
    "\n",
    "# Initialize the GE model\n",
    "ge_model = ge.OneSectorGE(\n",
    "    baseline,\n",
    "    year=\"2020\",\n",
    "    reference_importer=\"AZE\",  # Reference set to Azerbaijan\n",
    "    expend_var_name=\"gdp_o\",\n",
    "    output_var_name=\"gdp_d\",\n",
    "    sigma=5,\n",
    "    cost_variables=[\"dist\", \"contig\"],\n",
    "    cost_coeff_values=cost_coeff_values\n",
    ")\n",
    "\n",
    "# Build the baseline for the GE model\n",
    "ge_model.build_baseline(omr_rescale=10)\n",
    "print(ge_model.baseline_mr)\n",
    "\n",
    "# Update the FTA dummy variable for specific country pairs\n",
    "exp_data = ge_model.baseline_data.copy()\n",
    "fta_partners = [\"RUS\", \"MDA\", \"UKR\", \"GEO\", \"TKM\", \"UZB\", \"KAZ\", \"KGZ\", \"BLR\", \"TJK\"]\n",
    "for country in fta_partners:\n",
    "    exp_data.loc[(exp_data[\"iso3_d\"] == \"AZE\") & (exp_data[\"iso3_o\"] == country), \"fta_wto\"] = 1\n",
    "    exp_data.loc[(exp_data[\"iso3_d\"] == country) & (exp_data[\"iso3_o\"] == \"AZE\"), \"fta_wto\"] = 1\n",
    "\n",
    "# Supply the updated data for the experiment\n",
    "ge_model.define_experiment(exp_data)\n",
    "\n",
    "# Simulate the general equilibrium model\n",
    "ge_model.simulate()\n",
    "\n",
    "# Extract results\n",
    "country_results = ge_model.country_results\n",
    "bilateral_results = ge_model.bilateral_trade_results\n",
    "\n",
    "# Export results\n",
    "ge_model.export_results(directory=\"/Users/toghruln/Downloads\", name=\"Azerbaijan_Results\")\n"
   ]
  },
  {
   "cell_type": "code",
   "execution_count": null,
   "metadata": {},
   "outputs": [],
   "source": [
    "gravity_model = gme.EstimationModel(estimation_data=filtered_data,\n",
    "                                     lhs_var='np.log(tradeflow_baci)',\n",
    "                                     rhs_var=['np.log(distw)', 'np.log(gdp_o)', 'np.log(gdp_d)', 'contig', 'comlang_off', 'comlang_ethno', 'col45', 'col55', 'col65'],\n",
    "                                     fixed_effects=[['year'], ['iso3_o', 'iso3_d']])\n",
    "\n",
    "gravity_model"
   ]
  }
 ],
 "metadata": {
  "kernelspec": {
   "display_name": "base",
   "language": "python",
   "name": "python3"
  },
  "language_info": {
   "codemirror_mode": {
    "name": "ipython",
    "version": 3
   },
   "file_extension": ".py",
   "mimetype": "text/x-python",
   "name": "python",
   "nbconvert_exporter": "python",
   "pygments_lexer": "ipython3",
   "version": "3.11.4"
  }
 },
 "nbformat": 4,
 "nbformat_minor": 2
}
